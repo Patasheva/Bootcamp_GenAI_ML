{
 "cells": [
  {
   "cell_type": "code",
   "execution_count": null,
   "metadata": {},
   "outputs": [
    {
     "name": "stdout",
     "output_type": "stream",
     "text": [
      "Matrix :\n",
      " [[2 3 1]\n",
      " [4 5 6]\n",
      " [7 8 9]]\n",
      "\n",
      "Déterminant : 9.000000000000005\n",
      "\n",
      "Inverse :\n",
      " [[-0.33333333 -2.11111111  1.44444444]\n",
      " [ 0.66666667  1.22222222 -0.88888889]\n",
      " [-0.33333333  0.55555556 -0.22222222]]\n"
     ]
    }
   ],
   "source": [
    "# Exercise 1\n",
    "import numpy as np\n",
    "\n",
    "matrix = np.array([[2, 3, 1], \n",
    "                   [4, 5, 6], \n",
    "                   [7, 8, 9]])\n",
    "\n",
    "determinant = np.linalg.det(matrix)\n",
    "\n",
    "if determinant != 0:\n",
    "    inverse = np.linalg.inv(matrix)\n",
    "else:\n",
    "    inverse = \"L'inverse n'existe pas\"\n",
    "\n",
    "print(\"Matrix :\\n\", matrix)\n",
    "print(\"\\nDéterminant :\", determinant)\n",
    "print(\"\\nInverse :\\n\", inverse)"
   ]
  },
  {
   "cell_type": "code",
   "execution_count": 4,
   "metadata": {},
   "outputs": [
    {
     "name": "stdout",
     "output_type": "stream",
     "text": [
      "Dataset :\n",
      " [0.37454012 0.95071431 0.73199394 0.59865848 0.15601864 0.15599452\n",
      " 0.05808361 0.86617615 0.60111501 0.70807258 0.02058449 0.96990985\n",
      " 0.83244264 0.21233911 0.18182497 0.18340451 0.30424224 0.52475643\n",
      " 0.43194502 0.29122914 0.61185289 0.13949386 0.29214465 0.36636184\n",
      " 0.45606998 0.78517596 0.19967378 0.51423444 0.59241457 0.04645041\n",
      " 0.60754485 0.17052412 0.06505159 0.94888554 0.96563203 0.80839735\n",
      " 0.30461377 0.09767211 0.68423303 0.44015249 0.12203823 0.49517691\n",
      " 0.03438852 0.9093204  0.25877998 0.66252228 0.31171108 0.52006802\n",
      " 0.54671028 0.18485446]\n",
      "\n",
      "Mean: 0.44592390439226115\n",
      "Median: 0.43604875619085853\n",
      "Standard deviation: 0.2859797785370301\n"
     ]
    }
   ],
   "source": [
    "# Exercise 2\n",
    "np.random.seed(42) \n",
    "array = np.random.rand(50)  \n",
    "\n",
    "mean_array= np.mean(array)  \n",
    "median_array = np.median(array)  \n",
    "std_dev_array = np.std(array)  \n",
    "\n",
    "print(\"Dataset :\\n\", array)\n",
    "print(\"\\nMean:\", mean_array)\n",
    "print(\"Median:\", median_array)\n",
    "print(\"Standard deviation:\", std_dev_array)"
   ]
  },
  {
   "cell_type": "code",
   "execution_count": 5,
   "metadata": {},
   "outputs": [
    {
     "name": "stdout",
     "output_type": "stream",
     "text": [
      "['2023/01/01' '2023/01/02' '2023/01/03' '2023/01/04' '2023/01/05'\n",
      " '2023/01/06' '2023/01/07' '2023/01/08' '2023/01/09' '2023/01/10'\n",
      " '2023/01/11' '2023/01/12' '2023/01/13' '2023/01/14' '2023/01/15'\n",
      " '2023/01/16' '2023/01/17' '2023/01/18' '2023/01/19' '2023/01/20'\n",
      " '2023/01/21' '2023/01/22' '2023/01/23' '2023/01/24' '2023/01/25'\n",
      " '2023/01/26' '2023/01/27' '2023/01/28' '2023/01/29' '2023/01/30'\n",
      " '2023/01/31']\n"
     ]
    }
   ],
   "source": [
    "# Exercise 3\n",
    "dates = np.arange('2023-01-01', '2023-02-01', dtype='datetime64[D]')\n",
    "\n",
    "# Convertir les dates au format 'YYYY/MM/DD'\n",
    "formatted_dates = np.array([np.datetime_as_string(date, unit='D').replace('-', '/') for date in dates])\n",
    "\n",
    "print(formatted_dates)"
   ]
  },
  {
   "cell_type": "code",
   "execution_count": 11,
   "metadata": {},
   "outputs": [
    {
     "name": "stdout",
     "output_type": "stream",
     "text": [
      "A    int64\n",
      "B    int64\n",
      "C    int64\n",
      "D    int64\n",
      "dtype: object\n",
      "DataFrame :\n",
      "     A   B   C    D\n",
      "0  52  93  15   72\n",
      "1  61  21  83   87\n",
      "2  75  75  88  100\n",
      "3  24   3  22   53\n",
      "4   2  88  30   38\n",
      "\n",
      "Rows A > 50 :\n",
      "     A   B   C    D\n",
      "0  52  93  15   72\n",
      "1  61  21  83   87\n",
      "2  75  75  88  100\n",
      "\n",
      "Sum of columns :\n",
      " A    214\n",
      "B    280\n",
      "C    238\n",
      "D    350\n",
      "dtype: int64\n",
      "\n",
      "Mean of columns:\n",
      " A    42.8\n",
      "B    56.0\n",
      "C    47.6\n",
      "D    70.0\n",
      "dtype: float64\n"
     ]
    }
   ],
   "source": [
    "# Exercise 4 \n",
    "import pandas as pd \n",
    "\n",
    "np.random.seed(42)  \n",
    "df = pd.DataFrame(np.random.randint(1, 101, size=(5, 4)), columns=['A', 'B', 'C', 'D'])\n",
    "\n",
    "print(df.dtypes)\n",
    "\n",
    "# 'A' > 50\n",
    "filtered_df = df[df['A'] > 50]\n",
    "\n",
    "sum_df = df.sum()\n",
    "mean_df = df.mean()\n",
    "\n",
    "# Affichage des résultats\n",
    "print(\"DataFrame :\\n\", df)\n",
    "print(\"\\nRows A > 50 :\\n\", filtered_df)\n",
    "print(\"\\nSum of columns :\\n\", sum_df)\n",
    "print(\"\\nMean of columns:\\n\", mean_df)"
   ]
  },
  {
   "cell_type": "code",
   "execution_count": 12,
   "metadata": {},
   "outputs": [
    {
     "data": {
      "image/png": "[encoded data removed]",
      "text/plain": [
       "<Figure size 640x480 with 2 Axes>"
      ]
     },
     "metadata": {},
     "output_type": "display_data"
    }
   ],
   "source": [
    "# Exercise 5\n",
    "import matplotlib.pyplot as plt\n",
    "\n",
    "# Create a 5x5 grayscale image with pixel values from 0 to 255\n",
    "image = np.array([\n",
    "    [0, 50, 100, 150, 200],\n",
    "    [50, 100, 150, 200, 250],\n",
    "    [100, 150, 200, 250, 255],\n",
    "    [150, 200, 250, 255, 0],\n",
    "    [200, 250, 255, 0, 50]\n",
    "], dtype=np.uint8) \n",
    "\n",
    "plt.imshow(image, cmap='gray', interpolation='nearest')\n",
    "plt.colorbar(label=\"Pixel Intensity\")\n",
    "plt.show()\n"
   ]
  },
  {
   "cell_type": "code",
   "execution_count": null,
   "metadata": {},
   "outputs": [
    {
     "name": "stdout",
     "output_type": "stream",
     "text": [
      "Mean Productivity Before Training: 48.12\n",
      "Mean Productivity After Training: 52.76\n",
      "Standard Deviation Before: 9.00\n",
      "Standard Deviation After: 9.68\n",
      "T-statistic: 9.091\n",
      "P-value: 0.00000\n"
     ]
    }
   ],
   "source": [
    "# Exercise 6\n",
    "\n",
    "from scipy import stats\n",
    "\n",
    "np.random.seed(42) \n",
    "# Productivity scores of employees before the training program\n",
    "productivity_before = np.random.normal(loc=50, scale=10, size=30)\n",
    "\n",
    "# Productivity scores of the same employees after the training program\n",
    "productivity_after = productivity_before + np.random.normal(loc=5, scale=3, size=30)\n",
    "\n",
    "# Compute mean and standard deviation\n",
    "mean_before = np.mean(productivity_before)\n",
    "mean_after = np.mean(productivity_after)\n",
    "std_before = np.std(productivity_before, ddof=1)\n",
    "std_after = np.std(productivity_after, ddof=1)\n",
    "\n",
    "# T-test\n",
    "t_stat, p_value = stats.ttest_rel(productivity_after, productivity_before)\n",
    "\n",
    "print(f\"Mean Productivity Before Training: {mean_before:.2f}\")\n",
    "print(f\"Mean Productivity After Training: {mean_after:.2f}\")\n",
    "print(f\"Standard Deviation Before: {std_before:.2f}\")\n",
    "print(f\"Standard Deviation After: {std_after:.2f}\")\n",
    "print(f\"T-statistic: {t_stat:.3f}\")\n",
    "print(f\"P-value: {p_value:.5f}\")\n",
    "\n",
    "# p-value < 0.05, we reject H₀, meaning the training program significantly improves productivity.\n"
   ]
  },
  {
   "cell_type": "code",
   "execution_count": 14,
   "metadata": {},
   "outputs": [
    {
     "name": "stdout",
     "output_type": "stream",
     "text": [
      "Array 1: [10 25 30 45 50]\n",
      "Array 2: [15 20 35 40 55]\n",
      "Element-wise Comparison (Array1 > Array2): [False  True False  True False]\n"
     ]
    }
   ],
   "source": [
    "# Exericse 7\n",
    "\n",
    "array1 = np.array([10, 25, 30, 45, 50])\n",
    "array2 = np.array([15, 20, 35, 40, 55])\n",
    "\n",
    "# Element-wise comparison\n",
    "comparison = array1 > array2\n",
    "\n",
    "print(\"Array 1:\", array1)\n",
    "print(\"Array 2:\", array2)\n",
    "print(\"Element-wise Comparison (Array1 > Array2):\", comparison)"
   ]
  },
  {
   "cell_type": "code",
   "execution_count": 15,
   "metadata": {},
   "outputs": [
    {
     "name": "stdout",
     "output_type": "stream",
     "text": [
      "January to March:\n",
      "             Temperature\n",
      "Date                   \n",
      "2023-01-01    11.581431\n",
      "2023-01-02     2.224542\n",
      "2023-01-03    10.884381\n",
      "2023-01-04    11.381416\n",
      "2023-01-05    25.536216 \n",
      "\n",
      "April to June:\n",
      "             Temperature\n",
      "Date                   \n",
      "2023-04-01    17.923257\n",
      "2023-04-02     7.927352\n",
      "2023-04-03    22.581048\n",
      "2023-04-04     6.102825\n",
      "2023-04-05    24.182821 \n",
      "\n",
      "July to September:\n",
      "             Temperature\n",
      "Date                   \n",
      "2023-07-01    18.141538\n",
      "2023-07-02    30.708058\n",
      "2023-07-03    25.926902\n",
      "2023-07-04    24.395551\n",
      "2023-07-05    24.586943 \n",
      "\n",
      "October to December:\n",
      "             Temperature\n",
      "Date                   \n",
      "2023-10-01    22.484675\n",
      "2023-10-02     0.927896\n",
      "2023-10-03    20.502145\n",
      "2023-10-04    32.908058\n",
      "2023-10-05    20.141596 \n",
      "\n"
     ]
    }
   ],
   "source": [
    "# Exercise 8\n",
    "date_range = pd.date_range(start='2023-01-01', end='2023-12-31', freq='D')\n",
    "temperature_data = np.random.uniform(low=0, high=35, size=len(date_range))\n",
    "\n",
    "df = pd.DataFrame({'Date': date_range, 'Temperature': temperature_data})\n",
    "df.set_index('Date', inplace=True)\n",
    "\n",
    "jan_to_mar = df['2023-01-01':'2023-03-31']\n",
    "apr_to_jun = df['2023-04-01':'2023-06-30']\n",
    "jul_to_sep = df['2023-07-01':'2023-09-30']\n",
    "oct_to_dec = df['2023-10-01':'2023-12-31']\n",
    "\n",
    "print(\"January to March:\\n\", jan_to_mar.head(), \"\\n\")\n",
    "print(\"April to June:\\n\", apr_to_jun.head(), \"\\n\")\n",
    "print(\"July to September:\\n\", jul_to_sep.head(), \"\\n\")\n",
    "print(\"October to December:\\n\", oct_to_dec.head(), \"\\n\")"
   ]
  },
  {
   "cell_type": "code",
   "execution_count": 17,
   "metadata": {},
   "outputs": [
    {
     "name": "stdout",
     "output_type": "stream",
     "text": [
      "Pandas DataFrame:\n",
      "    A  B  C\n",
      "0  1  2  3\n",
      "1  4  5  6\n",
      "2  7  8  9\n",
      "\n",
      "Converted NumPy Array:\n",
      " [[1 2 3]\n",
      " [4 5 6]\n",
      " [7 8 9]]\n"
     ]
    }
   ],
   "source": [
    "# Exercise 9\n",
    "array = np.array([[1, 2, 3], [4, 5, 6], [7, 8, 9]])\n",
    "\n",
    "# Convert to DataFrame\n",
    "df = pd.DataFrame(array, columns=['A', 'B', 'C'])\n",
    "\n",
    "# Convert to numpy \n",
    "array_back = df.to_numpy()  \n",
    "\n",
    "print(\"Pandas DataFrame:\\n\", df)\n",
    "print(\"\\nConverted NumPy Array:\\n\", array_back)"
   ]
  },
  {
   "cell_type": "code",
   "execution_count": 18,
   "metadata": {},
   "outputs": [
    {
     "data": {
      "image/png": "[encoded data removed]",
      "text/plain": [
       "<Figure size 800x500 with 1 Axes>"
      ]
     },
     "metadata": {},
     "output_type": "display_data"
    }
   ],
   "source": [
    "# Exrcise 10\n",
    "x = np.arange(10)  \n",
    "y = np.random.randint(1, 100, size=10)  \n",
    "\n",
    "plt.figure(figsize=(8, 5)) \n",
    "plt.plot(x, y, marker='o', linestyle='-', color='b', label=\"Random Data\")\n",
    "\n",
    "plt.xlabel(\"Index\")\n",
    "plt.ylabel(\"Value\")\n",
    "plt.title(\"Line Graph of Random Numbers\")\n",
    "\n",
    "plt.legend()\n",
    "plt.grid(True)\n",
    "\n",
    "plt.show()"
   ]
  }
 ],
 "metadata": {
  "kernelspec": {
   "display_name": "base",
   "language": "python",
   "name": "python3"
  },
  "language_info": {
   "codemirror_mode": {
    "name": "ipython",
    "version": 3
   },
   "file_extension": ".py",
   "mimetype": "text/x-python",
   "name": "python",
   "nbconvert_exporter": "python",
   "pygments_lexer": "ipython3",
   "version": "3.11.7"
  }
 },
 "nbformat": 4,
 "nbformat_minor": 2
}
