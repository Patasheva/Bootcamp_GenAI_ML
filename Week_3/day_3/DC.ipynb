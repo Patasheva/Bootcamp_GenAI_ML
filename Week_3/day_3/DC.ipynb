{
 "cells": [
  {
   "cell_type": "code",
   "execution_count": 4,
   "metadata": {},
   "outputs": [
    {
     "name": "stdout",
     "output_type": "stream",
     "text": [
      "        Date   Time                            Location  \\\n",
      "0  9/17/1908  17:18                 Fort Myer, Virginia   \n",
      "1   9/7/1909    NaN             Juvisy-sur-Orge, France   \n",
      "2  7/12/1912   6:30           Atlantic City, New Jersey   \n",
      "3   8/6/1913    NaN  Victoria, British Columbia, Canada   \n",
      "4   9/9/1913  18:30                  Over the North Sea   \n",
      "\n",
      "                 Operator Flight #          Route                 AC Type  \\\n",
      "0    Military - U.S. Army      NaN  Demonstration        Wright Flyer III   \n",
      "1                     NaN      NaN       Air show          Wright Byplane   \n",
      "2    Military - U.S. Navy      NaN    Test flight               Dirigible   \n",
      "3                 Private      NaN            NaN        Curtiss seaplane   \n",
      "4  Military - German Navy      NaN            NaN  Zeppelin L-1 (airship)   \n",
      "\n",
      "  Registration cn/ln  Aboard  Aboard Passangers  Aboard Crew  Fatalities  \\\n",
      "0          NaN     1     2.0                1.0          1.0         1.0   \n",
      "1          SC1   NaN     1.0                0.0          1.0         1.0   \n",
      "2          NaN   NaN     5.0                0.0          5.0         5.0   \n",
      "3          NaN   NaN     1.0                0.0          1.0         1.0   \n",
      "4          NaN   NaN    20.0                NaN          NaN        14.0   \n",
      "\n",
      "   Fatalities Passangers  Fatalities Crew  Ground  \\\n",
      "0                    1.0              0.0     0.0   \n",
      "1                    0.0              0.0     0.0   \n",
      "2                    0.0              5.0     0.0   \n",
      "3                    0.0              1.0     0.0   \n",
      "4                    NaN              NaN     0.0   \n",
      "\n",
      "                                             Summary  \n",
      "0  During a demonstration flight, a U.S. Army fly...  \n",
      "1  Eugene Lefebvre was the first pilot to ever be...  \n",
      "2  First U.S. dirigible Akron exploded just offsh...  \n",
      "3  The first fatal airplane accident in Canada oc...  \n",
      "4  The airship flew into a thunderstorm and encou...  \n"
     ]
    }
   ],
   "source": [
    "import pandas as pd \n",
    "import numpy as np\n",
    "\n",
    "df_crashes = pd.read_csv('/Users/patash/PSTB/Week_3/day_3/Airplane_Crashes.csv', encoding='ISO-8859-1')\n",
    "print(df_crashes.head())"
   ]
  },
  {
   "cell_type": "code",
   "execution_count": 5,
   "metadata": {},
   "outputs": [
    {
     "name": "stdout",
     "output_type": "stream",
     "text": [
      "<class 'pandas.core.frame.DataFrame'>\n",
      "RangeIndex: 4998 entries, 0 to 4997\n",
      "Data columns (total 17 columns):\n",
      " #   Column                 Non-Null Count  Dtype  \n",
      "---  ------                 --------------  -----  \n",
      " 0   Date                   4998 non-null   object \n",
      " 1   Time                   3486 non-null   object \n",
      " 2   Location               4994 non-null   object \n",
      " 3   Operator               4988 non-null   object \n",
      " 4   Flight #               1329 non-null   object \n",
      " 5   Route                  4221 non-null   object \n",
      " 6   AC Type                4983 non-null   object \n",
      " 7   Registration           4724 non-null   object \n",
      " 8   cn/ln                  4330 non-null   object \n",
      " 9   Aboard                 4980 non-null   float64\n",
      " 10  Aboard Passangers      4769 non-null   float64\n",
      " 11  Aboard Crew            4772 non-null   float64\n",
      " 12  Fatalities             4990 non-null   float64\n",
      " 13  Fatalities Passangers  4756 non-null   float64\n",
      " 14  Fatalities Crew        4757 non-null   float64\n",
      " 15  Ground                 4956 non-null   float64\n",
      " 16  Summary                4934 non-null   object \n",
      "dtypes: float64(7), object(10)\n",
      "memory usage: 663.9+ KB\n"
     ]
    }
   ],
   "source": [
    "df_crashes.info()"
   ]
  },
  {
   "cell_type": "code",
   "execution_count": 6,
   "metadata": {},
   "outputs": [
    {
     "data": {
      "text/html": [
       "<div>\n",
       "<style scoped>\n",
       "    .dataframe tbody tr th:only-of-type {\n",
       "        vertical-align: middle;\n",
       "    }\n",
       "\n",
       "    .dataframe tbody tr th {\n",
       "        vertical-align: top;\n",
       "    }\n",
       "\n",
       "    .dataframe thead th {\n",
       "        text-align: right;\n",
       "    }\n",
       "</style>\n",
       "<table border=\"1\" class=\"dataframe\">\n",
       "  <thead>\n",
       "    <tr style=\"text-align: right;\">\n",
       "      <th></th>\n",
       "      <th>Aboard</th>\n",
       "      <th>Aboard Passangers</th>\n",
       "      <th>Aboard Crew</th>\n",
       "      <th>Fatalities</th>\n",
       "      <th>Fatalities Passangers</th>\n",
       "      <th>Fatalities Crew</th>\n",
       "      <th>Ground</th>\n",
       "    </tr>\n",
       "  </thead>\n",
       "  <tbody>\n",
       "    <tr>\n",
       "      <th>count</th>\n",
       "      <td>4980.000000</td>\n",
       "      <td>4769.000000</td>\n",
       "      <td>4772.000000</td>\n",
       "      <td>4990.000000</td>\n",
       "      <td>4756.000000</td>\n",
       "      <td>4757.000000</td>\n",
       "      <td>4956.000000</td>\n",
       "    </tr>\n",
       "    <tr>\n",
       "      <th>mean</th>\n",
       "      <td>31.195984</td>\n",
       "      <td>27.009017</td>\n",
       "      <td>4.479254</td>\n",
       "      <td>22.373547</td>\n",
       "      <td>19.053827</td>\n",
       "      <td>3.578516</td>\n",
       "      <td>1.719128</td>\n",
       "    </tr>\n",
       "    <tr>\n",
       "      <th>std</th>\n",
       "      <td>45.534788</td>\n",
       "      <td>44.111609</td>\n",
       "      <td>3.483859</td>\n",
       "      <td>35.061741</td>\n",
       "      <td>34.146127</td>\n",
       "      <td>3.167922</td>\n",
       "      <td>55.540273</td>\n",
       "    </tr>\n",
       "    <tr>\n",
       "      <th>min</th>\n",
       "      <td>0.000000</td>\n",
       "      <td>0.000000</td>\n",
       "      <td>0.000000</td>\n",
       "      <td>0.000000</td>\n",
       "      <td>0.000000</td>\n",
       "      <td>0.000000</td>\n",
       "      <td>0.000000</td>\n",
       "    </tr>\n",
       "    <tr>\n",
       "      <th>25%</th>\n",
       "      <td>7.000000</td>\n",
       "      <td>3.000000</td>\n",
       "      <td>2.000000</td>\n",
       "      <td>4.000000</td>\n",
       "      <td>1.000000</td>\n",
       "      <td>2.000000</td>\n",
       "      <td>0.000000</td>\n",
       "    </tr>\n",
       "    <tr>\n",
       "      <th>50%</th>\n",
       "      <td>16.000000</td>\n",
       "      <td>12.000000</td>\n",
       "      <td>4.000000</td>\n",
       "      <td>11.000000</td>\n",
       "      <td>8.000000</td>\n",
       "      <td>3.000000</td>\n",
       "      <td>0.000000</td>\n",
       "    </tr>\n",
       "    <tr>\n",
       "      <th>75%</th>\n",
       "      <td>35.000000</td>\n",
       "      <td>30.000000</td>\n",
       "      <td>6.000000</td>\n",
       "      <td>25.000000</td>\n",
       "      <td>21.000000</td>\n",
       "      <td>5.000000</td>\n",
       "      <td>0.000000</td>\n",
       "    </tr>\n",
       "    <tr>\n",
       "      <th>max</th>\n",
       "      <td>644.000000</td>\n",
       "      <td>614.000000</td>\n",
       "      <td>61.000000</td>\n",
       "      <td>583.000000</td>\n",
       "      <td>560.000000</td>\n",
       "      <td>46.000000</td>\n",
       "      <td>2750.000000</td>\n",
       "    </tr>\n",
       "  </tbody>\n",
       "</table>\n",
       "</div>"
      ],
      "text/plain": [
       "            Aboard  Aboard Passangers  Aboard Crew   Fatalities  \\\n",
       "count  4980.000000        4769.000000  4772.000000  4990.000000   \n",
       "mean     31.195984          27.009017     4.479254    22.373547   \n",
       "std      45.534788          44.111609     3.483859    35.061741   \n",
       "min       0.000000           0.000000     0.000000     0.000000   \n",
       "25%       7.000000           3.000000     2.000000     4.000000   \n",
       "50%      16.000000          12.000000     4.000000    11.000000   \n",
       "75%      35.000000          30.000000     6.000000    25.000000   \n",
       "max     644.000000         614.000000    61.000000   583.000000   \n",
       "\n",
       "       Fatalities Passangers  Fatalities Crew       Ground  \n",
       "count            4756.000000      4757.000000  4956.000000  \n",
       "mean               19.053827         3.578516     1.719128  \n",
       "std                34.146127         3.167922    55.540273  \n",
       "min                 0.000000         0.000000     0.000000  \n",
       "25%                 1.000000         2.000000     0.000000  \n",
       "50%                 8.000000         3.000000     0.000000  \n",
       "75%                21.000000         5.000000     0.000000  \n",
       "max               560.000000        46.000000  2750.000000  "
      ]
     },
     "execution_count": 6,
     "metadata": {},
     "output_type": "execute_result"
    }
   ],
   "source": [
    "df_crashes.describe()"
   ]
  },
  {
   "cell_type": "code",
   "execution_count": 7,
   "metadata": {},
   "outputs": [],
   "source": [
    "# Cleaning \n",
    "df_crashes.Date = pd.to_datetime(df_crashes.Date)\n"
   ]
  },
  {
   "cell_type": "code",
   "execution_count": 8,
   "metadata": {},
   "outputs": [],
   "source": [
    "# For numerical columns\n",
    "for col in df_crashes.select_dtypes(include=['float64', 'int64']).columns:\n",
    "    df_crashes[col].fillna(df_crashes[col].median(), inplace=True)\n",
    "# For categorical columns\n",
    "for col in df_crashes.select_dtypes(include=['object']).columns:\n",
    "    df_crashes[col].fillna(df_crashes[col].mode()[0], inplace=True)"
   ]
  },
  {
   "cell_type": "code",
   "execution_count": 9,
   "metadata": {},
   "outputs": [
    {
     "name": "stdout",
     "output_type": "stream",
     "text": [
      "<class 'pandas.core.frame.DataFrame'>\n",
      "RangeIndex: 4998 entries, 0 to 4997\n",
      "Data columns (total 17 columns):\n",
      " #   Column                 Non-Null Count  Dtype         \n",
      "---  ------                 --------------  -----         \n",
      " 0   Date                   4998 non-null   datetime64[ns]\n",
      " 1   Time                   4998 non-null   object        \n",
      " 2   Location               4998 non-null   object        \n",
      " 3   Operator               4998 non-null   object        \n",
      " 4   Flight #               4998 non-null   object        \n",
      " 5   Route                  4998 non-null   object        \n",
      " 6   AC Type                4998 non-null   object        \n",
      " 7   Registration           4998 non-null   object        \n",
      " 8   cn/ln                  4998 non-null   object        \n",
      " 9   Aboard                 4998 non-null   float64       \n",
      " 10  Aboard Passangers      4998 non-null   float64       \n",
      " 11  Aboard Crew            4998 non-null   float64       \n",
      " 12  Fatalities             4998 non-null   float64       \n",
      " 13  Fatalities Passangers  4998 non-null   float64       \n",
      " 14  Fatalities Crew        4998 non-null   float64       \n",
      " 15  Ground                 4998 non-null   float64       \n",
      " 16  Summary                4998 non-null   object        \n",
      "dtypes: datetime64[ns](1), float64(7), object(9)\n",
      "memory usage: 663.9+ KB\n"
     ]
    }
   ],
   "source": [
    "df_crashes.info()"
   ]
  },
  {
   "cell_type": "code",
   "execution_count": 10,
   "metadata": {},
   "outputs": [
    {
     "data": {
      "application/vnd.plotly.v1+json": {
       "config": {
        "plotlyServerURL": "https://plot.ly"
       },
       "data": [
        {
         "alignmentgroup": "True",
         "hovertemplate": "Location=%{x}<br>Count=%{y}<extra></extra>",
         "legendgroup": "",
         "marker": {
          "color": "#F8766D",
          "pattern": {
           "shape": ""
          }
         },
         "name": "",
         "offsetgroup": "",
         "orientation": "v",
         "showlegend": false,
         "textposition": "auto",
         "texttemplate": "%{y}",
         "type": "bar",
         "x": [
          "Moscow, Russia",
          "Manila, Philippines",
          "New York, New York",
          "Cairo, Egypt",
          "Sao Paulo, Brazil",
          "Bogota, Colombia",
          "Rio de Janeiro, Brazil",
          "Chicago, Illinois",
          "Near Moscow, Russia",
          "Tehran, Iran",
          "Ankara, Turkey",
          "London, England",
          "Rome, Italy",
          "Paris, France",
          "Near Medellin, Colombia",
          "Kunming, China",
          "Denver, Colorado",
          "Cleveland, Ohio",
          "North Atlantic Ocean",
          "Karachi, Pakistan"
         ],
         "xaxis": "x",
         "y": [
          21,
          15,
          14,
          13,
          13,
          12,
          12,
          11,
          11,
          10,
          9,
          8,
          8,
          7,
          7,
          7,
          7,
          7,
          7,
          7
         ],
         "yaxis": "y"
        }
       ],
       "layout": {
        "barmode": "relative",
        "legend": {
         "tracegroupgap": 0
        },
        "template": {
         "data": {
          "bar": [
           {
            "error_x": {
             "color": "rgb(51,51,51)"
            },
            "error_y": {
             "color": "rgb(51,51,51)"
            },
            "marker": {
             "line": {
              "color": "rgb(237,237,237)",
              "width": 0.5
             },
             "pattern": {
              "fillmode": "overlay",
              "size": 10,
              "solidity": 0.2
             }
            },
            "type": "bar"
           }
          ],
          "barpolar": [
           {
            "marker": {
             "line": {
              "color": "rgb(237,237,237)",
              "width": 0.5
             },
             "pattern": {
              "fillmode": "overlay",
              "size": 10,
              "solidity": 0.2
             }
            },
            "type": "barpolar"
           }
          ],
          "carpet": [
           {
            "aaxis": {
             "endlinecolor": "rgb(51,51,51)",
             "gridcolor": "white",
             "linecolor": "white",
             "minorgridcolor": "white",
             "startlinecolor": "rgb(51,51,51)"
            },
            "baxis": {
             "endlinecolor": "rgb(51,51,51)",
             "gridcolor": "white",
             "linecolor": "white",
             "minorgridcolor": "white",
             "startlinecolor": "rgb(51,51,51)"
            },
            "type": "carpet"
           }
          ],
          "choropleth": [
           {
            "colorbar": {
             "outlinewidth": 0,
             "tickcolor": "rgb(237,237,237)",
             "ticklen": 6,
             "ticks": "inside"
            },
            "type": "choropleth"
           }
          ],
          "contour": [
           {
            "colorbar": {
             "outlinewidth": 0,
             "tickcolor": "rgb(237,237,237)",
             "ticklen": 6,
             "ticks": "inside"
            },
            "colorscale": [
             [
              0,
              "rgb(20,44,66)"
             ],
             [
              1,
              "rgb(90,179,244)"
             ]
            ],
            "type": "contour"
           }
          ],
          "contourcarpet": [
           {
            "colorbar": {
             "outlinewidth": 0,
             "tickcolor": "rgb(237,237,237)",
             "ticklen": 6,
             "ticks": "inside"
            },
            "type": "contourcarpet"
           }
          ],
          "heatmap": [
           {
            "colorbar": {
             "outlinewidth": 0,
             "tickcolor": "rgb(237,237,237)",
             "ticklen": 6,
             "ticks": "inside"
            },
            "colorscale": [
             [
              0,
              "rgb(20,44,66)"
             ],
             [
              1,
              "rgb(90,179,244)"
             ]
            ],
            "type": "heatmap"
           }
          ],
          "heatmapgl": [
           {
            "colorbar": {
             "outlinewidth": 0,
             "tickcolor": "rgb(237,237,237)",
             "ticklen": 6,
             "ticks": "inside"
            },
            "colorscale": [
             [
              0,
              "rgb(20,44,66)"
             ],
             [
              1,
              "rgb(90,179,244)"
             ]
            ],
            "type": "heatmapgl"
           }
          ],
          "histogram": [
           {
            "marker": {
             "pattern": {
              "fillmode": "overlay",
              "size": 10,
              "solidity": 0.2
             }
            },
            "type": "histogram"
           }
          ],
          "histogram2d": [
           {
            "colorbar": {
             "outlinewidth": 0,
             "tickcolor": "rgb(237,237,237)",
             "ticklen": 6,
             "ticks": "inside"
            },
            "colorscale": [
             [
              0,
              "rgb(20,44,66)"
             ],
             [
              1,
              "rgb(90,179,244)"
             ]
            ],
            "type": "histogram2d"
           }
          ],
          "histogram2dcontour": [
           {
            "colorbar": {
             "outlinewidth": 0,
             "tickcolor": "rgb(237,237,237)",
             "ticklen": 6,
             "ticks": "inside"
            },
            "colorscale": [
             [
              0,
              "rgb(20,44,66)"
             ],
             [
              1,
              "rgb(90,179,244)"
             ]
            ],
            "type": "histogram2dcontour"
           }
          ],
          "mesh3d": [
           {
            "colorbar": {
             "outlinewidth": 0,
             "tickcolor": "rgb(237,237,237)",
             "ticklen": 6,
             "ticks": "inside"
            },
            "type": "mesh3d"
           }
          ],
          "parcoords": [
           {
            "line": {
             "colorbar": {
              "outlinewidth": 0,
              "tickcolor": "rgb(237,237,237)",
              "ticklen": 6,
              "ticks": "inside"
             }
            },
            "type": "parcoords"
           }
          ],
          "pie": [
           {
            "automargin": true,
            "type": "pie"
           }
          ],
          "scatter": [
           {
            "fillpattern": {
             "fillmode": "overlay",
             "size": 10,
             "solidity": 0.2
            },
            "type": "scatter"
           }
          ],
          "scatter3d": [
           {
            "line": {
             "colorbar": {
              "outlinewidth": 0,
              "tickcolor": "rgb(237,237,237)",
              "ticklen": 6,
              "ticks": "inside"
             }
            },
            "marker": {
             "colorbar": {
              "outlinewidth": 0,
              "tickcolor": "rgb(237,237,237)",
              "ticklen": 6,
              "ticks": "inside"
             }
            },
            "type": "scatter3d"
           }
          ],
          "scattercarpet": [
           {
            "marker": {
             "colorbar": {
              "outlinewidth": 0,
              "tickcolor": "rgb(237,237,237)",
              "ticklen": 6,
              "ticks": "inside"
             }
            },
            "type": "scattercarpet"
           }
          ],
          "scattergeo": [
           {
            "marker": {
             "colorbar": {
              "outlinewidth": 0,
              "tickcolor": "rgb(237,237,237)",
              "ticklen": 6,
              "ticks": "inside"
             }
            },
            "type": "scattergeo"
           }
          ],
          "scattergl": [
           {
            "marker": {
             "colorbar": {
              "outlinewidth": 0,
              "tickcolor": "rgb(237,237,237)",
              "ticklen": 6,
              "ticks": "inside"
             }
            },
            "type": "scattergl"
           }
          ],
          "scattermapbox": [
           {
            "marker": {
             "colorbar": {
              "outlinewidth": 0,
              "tickcolor": "rgb(237,237,237)",
              "ticklen": 6,
              "ticks": "inside"
             }
            },
            "type": "scattermapbox"
           }
          ],
          "scatterpolar": [
           {
            "marker": {
             "colorbar": {
              "outlinewidth": 0,
              "tickcolor": "rgb(237,237,237)",
              "ticklen": 6,
              "ticks": "inside"
             }
            },
            "type": "scatterpolar"
           }
          ],
          "scatterpolargl": [
           {
            "marker": {
             "colorbar": {
              "outlinewidth": 0,
              "tickcolor": "rgb(237,237,237)",
              "ticklen": 6,
              "ticks": "inside"
             }
            },
            "type": "scatterpolargl"
           }
          ],
          "scatterternary": [
           {
            "marker": {
             "colorbar": {
              "outlinewidth": 0,
              "tickcolor": "rgb(237,237,237)",
              "ticklen": 6,
              "ticks": "inside"
             }
            },
            "type": "scatterternary"
           }
          ],
          "surface": [
           {
            "colorbar": {
             "outlinewidth": 0,
             "tickcolor": "rgb(237,237,237)",
             "ticklen": 6,
             "ticks": "inside"
            },
            "colorscale": [
             [
              0,
              "rgb(20,44,66)"
             ],
             [
              1,
              "rgb(90,179,244)"
             ]
            ],
            "type": "surface"
           }
          ],
          "table": [
           {
            "cells": {
             "fill": {
              "color": "rgb(237,237,237)"
             },
             "line": {
              "color": "white"
             }
            },
            "header": {
             "fill": {
              "color": "rgb(217,217,217)"
             },
             "line": {
              "color": "white"
             }
            },
            "type": "table"
           }
          ]
         },
         "layout": {
          "annotationdefaults": {
           "arrowhead": 0,
           "arrowwidth": 1
          },
          "autotypenumbers": "strict",
          "coloraxis": {
           "colorbar": {
            "outlinewidth": 0,
            "tickcolor": "rgb(237,237,237)",
            "ticklen": 6,
            "ticks": "inside"
           }
          },
          "colorscale": {
           "sequential": [
            [
             0,
             "rgb(20,44,66)"
            ],
            [
             1,
             "rgb(90,179,244)"
            ]
           ],
           "sequentialminus": [
            [
             0,
             "rgb(20,44,66)"
            ],
            [
             1,
             "rgb(90,179,244)"
            ]
           ]
          },
          "colorway": [
           "#F8766D",
           "#A3A500",
           "#00BF7D",
           "#00B0F6",
           "#E76BF3"
          ],
          "font": {
           "color": "rgb(51,51,51)"
          },
          "geo": {
           "bgcolor": "white",
           "lakecolor": "white",
           "landcolor": "rgb(237,237,237)",
           "showlakes": true,
           "showland": true,
           "subunitcolor": "white"
          },
          "hoverlabel": {
           "align": "left"
          },
          "hovermode": "closest",
          "paper_bgcolor": "white",
          "plot_bgcolor": "rgb(237,237,237)",
          "polar": {
           "angularaxis": {
            "gridcolor": "white",
            "linecolor": "white",
            "showgrid": true,
            "tickcolor": "rgb(51,51,51)",
            "ticks": "outside"
           },
           "bgcolor": "rgb(237,237,237)",
           "radialaxis": {
            "gridcolor": "white",
            "linecolor": "white",
            "showgrid": true,
            "tickcolor": "rgb(51,51,51)",
            "ticks": "outside"
           }
          },
          "scene": {
           "xaxis": {
            "backgroundcolor": "rgb(237,237,237)",
            "gridcolor": "white",
            "gridwidth": 2,
            "linecolor": "white",
            "showbackground": true,
            "showgrid": true,
            "tickcolor": "rgb(51,51,51)",
            "ticks": "outside",
            "zerolinecolor": "white"
           },
           "yaxis": {
            "backgroundcolor": "rgb(237,237,237)",
            "gridcolor": "white",
            "gridwidth": 2,
            "linecolor": "white",
            "showbackground": true,
            "showgrid": true,
            "tickcolor": "rgb(51,51,51)",
            "ticks": "outside",
            "zerolinecolor": "white"
           },
           "zaxis": {
            "backgroundcolor": "rgb(237,237,237)",
            "gridcolor": "white",
            "gridwidth": 2,
            "linecolor": "white",
            "showbackground": true,
            "showgrid": true,
            "tickcolor": "rgb(51,51,51)",
            "ticks": "outside",
            "zerolinecolor": "white"
           }
          },
          "shapedefaults": {
           "fillcolor": "black",
           "line": {
            "width": 0
           },
           "opacity": 0.3
          },
          "ternary": {
           "aaxis": {
            "gridcolor": "white",
            "linecolor": "white",
            "showgrid": true,
            "tickcolor": "rgb(51,51,51)",
            "ticks": "outside"
           },
           "baxis": {
            "gridcolor": "white",
            "linecolor": "white",
            "showgrid": true,
            "tickcolor": "rgb(51,51,51)",
            "ticks": "outside"
           },
           "bgcolor": "rgb(237,237,237)",
           "caxis": {
            "gridcolor": "white",
            "linecolor": "white",
            "showgrid": true,
            "tickcolor": "rgb(51,51,51)",
            "ticks": "outside"
           }
          },
          "xaxis": {
           "automargin": true,
           "gridcolor": "white",
           "linecolor": "white",
           "showgrid": true,
           "tickcolor": "rgb(51,51,51)",
           "ticks": "outside",
           "title": {
            "standoff": 15
           },
           "zerolinecolor": "white"
          },
          "yaxis": {
           "automargin": true,
           "gridcolor": "white",
           "linecolor": "white",
           "showgrid": true,
           "tickcolor": "rgb(51,51,51)",
           "ticks": "outside",
           "title": {
            "standoff": 15
           },
           "zerolinecolor": "white"
          }
         }
        },
        "title": {
         "text": "Top crash locations"
        },
        "xaxis": {
         "anchor": "y",
         "domain": [
          0,
          1
         ],
         "title": {
          "text": "Location"
         }
        },
        "yaxis": {
         "anchor": "x",
         "domain": [
          0,
          1
         ],
         "title": {
          "text": "Count"
         }
        }
       }
      }
     },
     "metadata": {},
     "output_type": "display_data"
    }
   ],
   "source": [
    "# Location \n",
    "import plotly.express as px\n",
    "\n",
    "location_count = df_crashes.Location.value_counts().reset_index()\n",
    "location_count.columns = ['Location', 'Count']  \n",
    "\n",
    "fig = px.bar(location_count.head(20), x='Location', y='Count', text_auto=True, template='ggplot2', title='Top crash locations')\n",
    "fig.show()"
   ]
  },
  {
   "cell_type": "code",
   "execution_count": null,
   "metadata": {},
   "outputs": [],
   "source": []
  }
 ],
 "metadata": {
  "kernelspec": {
   "display_name": "base",
   "language": "python",
   "name": "python3"
  },
  "language_info": {
   "codemirror_mode": {
    "name": "ipython",
    "version": 3
   },
   "file_extension": ".py",
   "mimetype": "text/x-python",
   "name": "python",
   "nbconvert_exporter": "python",
   "pygments_lexer": "ipython3",
   "version": "3.11.7"
  }
 },
 "nbformat": 4,
 "nbformat_minor": 2
}
