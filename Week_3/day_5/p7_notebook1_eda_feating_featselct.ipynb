{
  "metadata": {
    "kernelspec": {
      "language": "python",
      "display_name": "Python 3",
      "name": "python3"
    },
    "language_info": {
      "name": "python",
      "version": "3.10.12",
      "mimetype": "text/x-python",
      "codemirror_mode": {
        "name": "ipython",
        "version": 3
      },
      "pygments_lexer": "ipython3",
      "nbconvert_exporter": "python",
      "file_extension": ".py"
    },
    "colab": {
      "provenance": []
    }
  },
  "nbformat_minor": 0,
  "nbformat": 4,
  "cells": [
    {
      "cell_type": "markdown",
      "source": [
        "<a id=\"A\"></a>\n",
        "## Partie A : Analyse des risques de crédit"
      ],
      "metadata": {
        "papermill": {
          "duration": 0.053274,
          "end_time": "2023-07-19T06:56:25.515325",
          "exception": false,
          "start_time": "2023-07-19T06:56:25.462051",
          "status": "completed"
        },
        "tags": [],
        "id": "DSVpayaMNGHi"
      }
    },
    {
      "cell_type": "code",
      "source": [],
      "metadata": {
        "id": "nLEzBu_ACL8i"
      },
      "execution_count": null,
      "outputs": []
    },
    {
      "cell_type": "code",
      "source": [
        "# Importer les bibliothèques nécessaires pour la partie A\n",
        "import pandas as pd\n",
        "import numpy as np\n",
        "import matplotlib.pyplot as plt\n",
        "import seaborn as sns\n",
        "from sklearn.preprocessing import LabelEncoder\n",
        "from sklearn.ensemble import RandomForestClassifier\n",
        "\n",
        "import time\n",
        "import warnings\n",
        "warnings.filterwarnings('ignore')\n",
        "\n",
        "# Afficher toutes les colonnes. Ne cachez rien.\n",
        "pd.set_option('display.max_columns', None)"
      ],
      "metadata": {
        "papermill": {
          "duration": 1.755265,
          "end_time": "2023-07-19T06:56:27.323924",
          "exception": false,
          "start_time": "2023-07-19T06:56:25.568659",
          "status": "completed"
        },
        "tags": [],
        "id": "sUQTe5fHNGHj",
        "execution": {
          "iopub.status.busy": "2023-09-06T15:08:18.112734Z",
          "iopub.execute_input": "2023-09-06T15:08:18.113196Z",
          "iopub.status.idle": "2023-09-06T15:08:19.549717Z",
          "shell.execute_reply.started": "2023-09-06T15:08:18.113143Z",
          "shell.execute_reply": "2023-09-06T15:08:19.548749Z"
        },
        "trusted": true
      },
      "execution_count": null,
      "outputs": []
    },
    {
      "cell_type": "code",
      "source": [
        "import os\n",
        "for dirname, _, filenames in os.walk('/kaggle/input'):\n",
        "    for filename in filenames:\n",
        "        print(os.path.join(dirname, filename))"
      ],
      "metadata": {
        "id": "ASLuiCBSvqIi",
        "execution": {
          "iopub.status.busy": "2023-09-06T15:08:19.551479Z",
          "iopub.execute_input": "2023-09-06T15:08:19.551941Z",
          "iopub.status.idle": "2023-09-06T15:08:19.572326Z",
          "shell.execute_reply.started": "2023-09-06T15:08:19.551908Z",
          "shell.execute_reply": "2023-09-06T15:08:19.570931Z"
        },
        "trusted": true
      },
      "execution_count": null,
      "outputs": []
    },
    {
      "cell_type": "markdown",
      "source": [],
      "metadata": {
        "id": "fHgy_J_dCHx-"
      }
    },
    {
      "cell_type": "markdown",
      "source": [
        "<br>\n",
        "<a id=\"A1\"></a>\n",
        "<hr style=\"border:1px solid black\"> </hr>\n",
        "<h1 style=\"font-size:18px; font-weight:bold;\"> Tâche A-1 : Lecture et préparation des ensembles de données</h1>\n",
        "<hr style=\"border:1px solid black\"> </hr>"
      ],
      "metadata": {
        "papermill": {
          "duration": 0.053914,
          "end_time": "2023-07-19T06:56:27.432517",
          "exception": false,
          "start_time": "2023-07-19T06:56:27.378603",
          "status": "completed"
        },
        "tags": [],
        "id": "bC94Pbf6NGHl"
      }
    },
    {
      "cell_type": "code",
      "source": [
        "#Contrairement à l'ensemble de données d'examen, les valeurs TARGET ne sont pas disponibles pour les données de test.\n",
        "#Par conséquent, le fichier global \"traintest\" est dérivé du fichier application_train.csv.\n",
        "dfapptraintest_raw = pd.read_csv('/kaggle/input/projet7/application_train.csv')\n",
        "dfprevapp_raw = pd.read_csv('/kaggle/input/projet7/previous_application.csv')\n",
        "dfbureau_raw  = pd.read_csv('/kaggle/input/projet7/bureau.csv')\n"
      ],
      "metadata": {
        "papermill": {
          "duration": 23.363116,
          "end_time": "2023-07-19T06:56:50.956194",
          "exception": false,
          "start_time": "2023-07-19T06:56:27.593078",
          "status": "completed"
        },
        "tags": [],
        "id": "8m82Mfx3NGHm",
        "execution": {
          "iopub.status.busy": "2023-09-06T15:08:19.573580Z",
          "iopub.execute_input": "2023-09-06T15:08:19.573996Z",
          "iopub.status.idle": "2023-09-06T15:08:42.556737Z",
          "shell.execute_reply.started": "2023-09-06T15:08:19.573964Z",
          "shell.execute_reply": "2023-09-06T15:08:42.555696Z"
        },
        "trusted": true
      },
      "execution_count": null,
      "outputs": []
    },
    {
      "cell_type": "code",
      "source": [
        "# Afficher toutes les colonnes. Ne cachez rien.\n",
        "pd.set_option('display.max_columns', None)"
      ],
      "metadata": {
        "id": "9MDZN8SgxLQ_",
        "execution": {
          "iopub.status.busy": "2023-09-06T15:08:42.559322Z",
          "iopub.execute_input": "2023-09-06T15:08:42.560474Z",
          "iopub.status.idle": "2023-09-06T15:08:42.565384Z",
          "shell.execute_reply.started": "2023-09-06T15:08:42.560439Z",
          "shell.execute_reply": "2023-09-06T15:08:42.564371Z"
        },
        "trusted": true
      },
      "execution_count": null,
      "outputs": []
    },
    {
      "cell_type": "code",
      "source": [
        "dfapptraintest_raw.head()"
      ],
      "metadata": {
        "id": "ztC9BzWYxADV",
        "execution": {
          "iopub.status.busy": "2023-09-06T15:08:42.566813Z",
          "iopub.execute_input": "2023-09-06T15:08:42.567228Z",
          "iopub.status.idle": "2023-09-06T15:08:42.682198Z",
          "shell.execute_reply.started": "2023-09-06T15:08:42.567197Z",
          "shell.execute_reply": "2023-09-06T15:08:42.681334Z"
        },
        "trusted": true
      },
      "execution_count": null,
      "outputs": []
    },
    {
      "cell_type": "code",
      "source": [
        "dfapptraintest_raw['FLAG_DOCUMENT_21'].unique"
      ],
      "metadata": {
        "id": "5WOQCK837KEG",
        "execution": {
          "iopub.status.busy": "2023-09-06T15:08:42.683778Z",
          "iopub.execute_input": "2023-09-06T15:08:42.684133Z",
          "iopub.status.idle": "2023-09-06T15:08:42.693071Z",
          "shell.execute_reply.started": "2023-09-06T15:08:42.684101Z",
          "shell.execute_reply": "2023-09-06T15:08:42.692117Z"
        },
        "trusted": true
      },
      "execution_count": null,
      "outputs": []
    },
    {
      "cell_type": "code",
      "source": [
        "dfprevapp_raw.head()"
      ],
      "metadata": {
        "id": "E4fmHqMuxmQy",
        "execution": {
          "iopub.status.busy": "2023-09-06T15:08:42.694442Z",
          "iopub.execute_input": "2023-09-06T15:08:42.695463Z",
          "iopub.status.idle": "2023-09-06T15:08:42.737455Z",
          "shell.execute_reply.started": "2023-09-06T15:08:42.695430Z",
          "shell.execute_reply": "2023-09-06T15:08:42.736368Z"
        },
        "trusted": true
      },
      "execution_count": null,
      "outputs": []
    },
    {
      "cell_type": "code",
      "source": [
        "# Utilisez la méthode intersection des colonnes pour trouver les colonnes communes\n",
        "common_columns = list(set(dfapptraintest_raw.columns) & set(dfprevapp_raw.columns) & set(dfbureau_raw.columns))\n",
        "\n",
        "# Affichez les colonnes communes\n",
        "print(\"Colonnes communes entre les trois DataFrames :\", common_columns)"
      ],
      "metadata": {
        "id": "-3jh8a0LyFsR",
        "execution": {
          "iopub.status.busy": "2023-09-06T15:08:42.738842Z",
          "iopub.execute_input": "2023-09-06T15:08:42.739238Z",
          "iopub.status.idle": "2023-09-06T15:08:42.745767Z",
          "shell.execute_reply.started": "2023-09-06T15:08:42.739203Z",
          "shell.execute_reply": "2023-09-06T15:08:42.744709Z"
        },
        "trusted": true
      },
      "execution_count": null,
      "outputs": []
    },
    {
      "cell_type": "code",
      "source": [
        "#Sélectionner les colonnes (réduction aux colonnes de l'ensemble de données d'examen) :\n",
        "dfapptraintest_raw = dfapptraintest_raw.iloc[:, np.r_[0:32, 34:44, 95, 116:122]]\n",
        "dfprevapp_raw = dfprevapp_raw.iloc[:, np.r_[1:8, 16:23, 28:30, 36]]\n",
        "dfbureau_raw = dfbureau_raw.iloc[:, np.r_[0, 2, 4:14, 15:17]]\n",
        "\n",
        "# Aperçu du nombre de lignes et de colonnes des ensembles de données\n",
        "print('shape of dfapptraintest_raw:', dfapptraintest_raw.shape)\n",
        "print('shape of dfprevapp_raw:', dfprevapp_raw.shape)\n",
        "print('shape of dfbureau_raw:', dfbureau_raw.shape)"
      ],
      "metadata": {
        "id": "kG2DJ2AUwyQK",
        "execution": {
          "iopub.status.busy": "2023-09-06T15:08:42.747416Z",
          "iopub.execute_input": "2023-09-06T15:08:42.748155Z",
          "iopub.status.idle": "2023-09-06T15:08:43.125642Z",
          "shell.execute_reply.started": "2023-09-06T15:08:42.748110Z",
          "shell.execute_reply": "2023-09-06T15:08:43.124127Z"
        },
        "trusted": true
      },
      "execution_count": null,
      "outputs": []
    },
    {
      "cell_type": "code",
      "source": [
        "# Train-Test-Split:  Répartition aléatoire des données de demande en données d'entraînement et de test.\n",
        "np.random.seed(111)  # Définition du générateur de nombres aléatoires pour la reproductibilité\n",
        "dfapptraintest_raw['TYPE'] = np.random.choice(['TRAIN', 'TEST'], size=len(dfapptraintest_raw), p=[0.75, 0.25])\n",
        "dfapptrain_raw = dfapptraintest_raw[dfapptraintest_raw['TYPE'] == 'TRAIN']\n",
        "dfapptest_raw = dfapptraintest_raw[dfapptraintest_raw['TYPE'] == 'TEST']\n",
        "print('shape of dfapptrain_raw:', dfapptrain_raw.shape)\n",
        "print('shape of dfapptest_raw:', dfapptest_raw.shape)"
      ],
      "metadata": {
        "papermill": {
          "duration": 0.414482,
          "end_time": "2023-07-19T06:56:51.541232",
          "exception": false,
          "start_time": "2023-07-19T06:56:51.12675",
          "status": "completed"
        },
        "tags": [],
        "id": "6uVehyrsNGHm",
        "execution": {
          "iopub.status.busy": "2023-09-06T15:08:43.129939Z",
          "iopub.execute_input": "2023-09-06T15:08:43.130234Z",
          "iopub.status.idle": "2023-09-06T15:08:43.378411Z",
          "shell.execute_reply.started": "2023-09-06T15:08:43.130209Z",
          "shell.execute_reply": "2023-09-06T15:08:43.377475Z"
        },
        "trusted": true
      },
      "execution_count": null,
      "outputs": []
    },
    {
      "cell_type": "markdown",
      "source": [
        "<br>\n",
        "<a id=\"A2\"></a>\n",
        "<hr style=\"border:1px solid black\"> </hr>\n",
        "<h1 style=\"font-size:18px; font-weight:bold;\">Tâche A-2 : Analyse des ensembles de données</h1>\n",
        "<hr style=\"border:1px solid black\"> </hr>"
      ],
      "metadata": {
        "papermill": {
          "duration": 0.054789,
          "end_time": "2023-07-19T06:56:51.650285",
          "exception": false,
          "start_time": "2023-07-19T06:56:51.595496",
          "status": "completed"
        },
        "tags": [],
        "id": "ld-ToDiaNGHm"
      }
    },
    {
      "cell_type": "markdown",
      "source": [
        "### a) Ensemble de données combiné avec les données d'entraînement et de test."
      ],
      "metadata": {
        "papermill": {
          "duration": 0.053998,
          "end_time": "2023-07-19T06:56:52.03004",
          "exception": false,
          "start_time": "2023-07-19T06:56:51.976042",
          "status": "completed"
        },
        "tags": [],
        "id": "YpROcH_fNGHn"
      }
    },
    {
      "cell_type": "code",
      "source": [
        "print(\"Nombre de lignes et de colonnes.:\", dfapptraintest_raw.shape)\n",
        "dfapptraintest_raw.head()"
      ],
      "metadata": {
        "papermill": {
          "duration": 0.103066,
          "end_time": "2023-07-19T06:56:52.187096",
          "exception": false,
          "start_time": "2023-07-19T06:56:52.08403",
          "status": "completed"
        },
        "tags": [],
        "id": "_fcaaJDpNGHn",
        "execution": {
          "iopub.status.busy": "2023-09-06T15:08:43.379738Z",
          "iopub.execute_input": "2023-09-06T15:08:43.380691Z",
          "iopub.status.idle": "2023-09-06T15:08:43.425456Z",
          "shell.execute_reply.started": "2023-09-06T15:08:43.380655Z",
          "shell.execute_reply": "2023-09-06T15:08:43.424408Z"
        },
        "trusted": true
      },
      "execution_count": null,
      "outputs": []
    },
    {
      "cell_type": "code",
      "source": [
        "# Vérificatio des types des données\n",
        "pd.DataFrame(dfapptraintest_raw.dtypes).T"
      ],
      "metadata": {
        "papermill": {
          "duration": 0.090367,
          "end_time": "2023-07-19T06:56:52.333357",
          "exception": false,
          "start_time": "2023-07-19T06:56:52.24299",
          "status": "completed"
        },
        "tags": [],
        "id": "tjD7t2mINGHo",
        "execution": {
          "iopub.status.busy": "2023-09-06T15:08:43.427029Z",
          "iopub.execute_input": "2023-09-06T15:08:43.427375Z",
          "iopub.status.idle": "2023-09-06T15:08:43.463003Z",
          "shell.execute_reply.started": "2023-09-06T15:08:43.427342Z",
          "shell.execute_reply": "2023-09-06T15:08:43.462132Z"
        },
        "trusted": true
      },
      "execution_count": null,
      "outputs": []
    },
    {
      "cell_type": "code",
      "source": [
        "# Description des caractéristiques catégorielles.\n",
        "dfapptraintest_raw.describe(include=['object'])"
      ],
      "metadata": {
        "papermill": {
          "duration": 0.975501,
          "end_time": "2023-07-19T06:56:53.365477",
          "exception": false,
          "start_time": "2023-07-19T06:56:52.389976",
          "status": "completed"
        },
        "tags": [],
        "id": "qKk0Mr3kNGHo",
        "execution": {
          "iopub.status.busy": "2023-09-06T15:08:43.464329Z",
          "iopub.execute_input": "2023-09-06T15:08:43.464820Z",
          "iopub.status.idle": "2023-09-06T15:08:44.624918Z",
          "shell.execute_reply.started": "2023-09-06T15:08:43.464788Z",
          "shell.execute_reply": "2023-09-06T15:08:44.623815Z"
        },
        "trusted": true
      },
      "execution_count": null,
      "outputs": []
    },
    {
      "cell_type": "code",
      "source": [
        "# Ajustements des types de données.\n",
        "dfapptraintest = dfapptraintest_raw.copy(deep=True)\n",
        "\n",
        "# Conformément aux directives, les variables suivantes sont considérées comme catégorielles.\n",
        "cat = ['TARGET', 'NAME_CONTRACT_TYPE','CODE_GENDER','FLAG_OWN_CAR','FLAG_OWN_REALTY','NAME_TYPE_SUITE','NAME_INCOME_TYPE',\n",
        "       'NAME_EDUCATION_TYPE','NAME_FAMILY_STATUS','NAME_HOUSING_TYPE','OCCUPATION_TYPE','ORGANIZATION_TYPE',\n",
        "       'REGION_RATING_CLIENT', 'REGION_RATING_CLIENT_W_CITY', 'REG_REGION_NOT_LIVE_REGION', 'REG_REGION_NOT_WORK_REGION',\n",
        "       'LIVE_REGION_NOT_WORK_REGION', 'REG_CITY_NOT_LIVE_CITY','REG_CITY_NOT_WORK_CITY','LIVE_CITY_NOT_WORK_CITY','FLAG_MOBIL',\n",
        "       'FLAG_EMP_PHONE', 'FLAG_WORK_PHONE', 'FLAG_CONT_MOBILE', 'FLAG_PHONE', 'FLAG_EMAIL', 'TYPE']\n",
        "dfapptraintest[cat]=dfapptraintest[cat].astype('category')\n",
        "\n",
        "# Vérification des types de données ajustés.\n",
        "pd.DataFrame(dfapptraintest.dtypes).T"
      ],
      "metadata": {
        "papermill": {
          "duration": 0.910445,
          "end_time": "2023-07-19T06:56:54.332554",
          "exception": false,
          "start_time": "2023-07-19T06:56:53.422109",
          "status": "completed"
        },
        "tags": [],
        "id": "PHa2DZHXNGHo",
        "execution": {
          "iopub.status.busy": "2023-09-06T15:08:44.626821Z",
          "iopub.execute_input": "2023-09-06T15:08:44.627192Z",
          "iopub.status.idle": "2023-09-06T15:08:45.328343Z",
          "shell.execute_reply.started": "2023-09-06T15:08:44.627158Z",
          "shell.execute_reply": "2023-09-06T15:08:45.327350Z"
        },
        "trusted": true
      },
      "execution_count": null,
      "outputs": []
    },
    {
      "cell_type": "code",
      "source": [
        "#La fonction print_column_datatypes affiche, pour un DataFrame donné, le nombre de colonnes avec des valeurs numériques,\n",
        "#le nombre de colonnes avec des valeurs catégorielles, ainsi que le nombre total de colonnes.\n",
        "def print_column_datatypes(data):\n",
        "    categorical = ['category']\n",
        "    numerical = ['int16', 'int32', 'int64', 'float16', 'float32', 'float64']\n",
        "    print(\"Columns with numerical values: \" + str(len(data.select_dtypes(include=numerical).columns.tolist())))\n",
        "    print(\"Columns with categorical values: \" + str(len(data.select_dtypes(include=categorical).columns.tolist())))\n",
        "    print(\"Total \" + str(len(data.select_dtypes(include=numerical).columns.tolist()) + len(data.select_dtypes(include=categorical).columns.tolist())) + \" columns\")\n",
        "\n",
        "print_column_datatypes(dfapptraintest.loc[:, dfapptraintest.columns != 'TYPE'])"
      ],
      "metadata": {
        "papermill": {
          "duration": 0.128727,
          "end_time": "2023-07-19T06:56:54.521596",
          "exception": false,
          "start_time": "2023-07-19T06:56:54.392869",
          "status": "completed"
        },
        "tags": [],
        "id": "CmMbbs39NGHo",
        "execution": {
          "iopub.status.busy": "2023-09-06T15:08:45.329849Z",
          "iopub.execute_input": "2023-09-06T15:08:45.330188Z",
          "iopub.status.idle": "2023-09-06T15:08:45.413450Z",
          "shell.execute_reply.started": "2023-09-06T15:08:45.330155Z",
          "shell.execute_reply": "2023-09-06T15:08:45.412478Z"
        },
        "trusted": true
      },
      "execution_count": null,
      "outputs": []
    },
    {
      "cell_type": "code",
      "source": [
        "# La fonction `nan_df_create` crée un autre Dataframe pour un Dataframe donné, composé de tous les noms de colonnes et de leurs proportions\n",
        " #(en pourcentage) de valeurs manquantes, seuls les noms de colonnes avec au moins une valeur manquante sont inclus.\n",
        "\n",
        "def nan_df_create(data):\n",
        "    nan_percentages = data.isna().sum() * 100 / len(data)\n",
        "    df = pd.DataFrame({'Column': nan_percentages.index, 'Percentage': nan_percentages.values})\n",
        "    df = df[df['Percentage'] > 0]\n",
        "    df.sort_values(by='Percentage', ascending=False, inplace=True)\n",
        "    return df\n",
        "\n",
        "# Calculer et afficher la proportion de valeurs manquantes (NaN)\n",
        "df = nan_df_create(dfapptraintest[dfapptraintest['TYPE'] == 'TRAIN'])\n",
        "print(df.to_string())\n"
      ],
      "metadata": {
        "papermill": {
          "duration": 0.114592,
          "end_time": "2023-07-19T06:56:54.695792",
          "exception": false,
          "start_time": "2023-07-19T06:56:54.5812",
          "status": "completed"
        },
        "tags": [],
        "id": "5n60vNTWNGHp",
        "execution": {
          "iopub.status.busy": "2023-09-06T15:08:45.414789Z",
          "iopub.execute_input": "2023-09-06T15:08:45.415595Z",
          "iopub.status.idle": "2023-09-06T15:08:45.470445Z",
          "shell.execute_reply.started": "2023-09-06T15:08:45.415558Z",
          "shell.execute_reply": "2023-09-06T15:08:45.469434Z"
        },
        "trusted": true
      },
      "execution_count": null,
      "outputs": []
    },
    {
      "cell_type": "markdown",
      "source": [
        "### b) Données de previous_application"
      ],
      "metadata": {
        "papermill": {
          "duration": 0.055828,
          "end_time": "2023-07-19T06:56:54.809032",
          "exception": false,
          "start_time": "2023-07-19T06:56:54.753204",
          "status": "completed"
        },
        "tags": [],
        "id": "yodcSQU8NGHp"
      }
    },
    {
      "cell_type": "code",
      "source": [
        "print(\"Number of rows and columns:\", dfprevapp_raw.shape)\n",
        "dfprevapp_raw.head()\n"
      ],
      "metadata": {
        "papermill": {
          "duration": 0.082215,
          "end_time": "2023-07-19T06:56:54.949038",
          "exception": false,
          "start_time": "2023-07-19T06:56:54.866823",
          "status": "completed"
        },
        "tags": [],
        "id": "z_6yBnsRNGHp",
        "execution": {
          "iopub.status.busy": "2023-09-06T15:08:45.472239Z",
          "iopub.execute_input": "2023-09-06T15:08:45.472598Z",
          "iopub.status.idle": "2023-09-06T15:08:45.496224Z",
          "shell.execute_reply.started": "2023-09-06T15:08:45.472565Z",
          "shell.execute_reply": "2023-09-06T15:08:45.495361Z"
        },
        "trusted": true
      },
      "execution_count": null,
      "outputs": []
    },
    {
      "cell_type": "code",
      "source": [
        "#Vérifier les types de données\n",
        "pd.DataFrame(dfprevapp_raw.dtypes).T"
      ],
      "metadata": {
        "papermill": {
          "duration": 0.07648,
          "end_time": "2023-07-19T06:56:55.083378",
          "exception": false,
          "start_time": "2023-07-19T06:56:55.006898",
          "status": "completed"
        },
        "tags": [],
        "id": "-XuNQslZNGHq",
        "execution": {
          "iopub.status.busy": "2023-09-06T15:08:45.497480Z",
          "iopub.execute_input": "2023-09-06T15:08:45.498211Z",
          "iopub.status.idle": "2023-09-06T15:08:45.516274Z",
          "shell.execute_reply.started": "2023-09-06T15:08:45.498177Z",
          "shell.execute_reply": "2023-09-06T15:08:45.515313Z"
        },
        "trusted": true
      },
      "execution_count": null,
      "outputs": []
    },
    {
      "cell_type": "code",
      "source": [
        "# Description des caractéristiques nominales.\n",
        "dfprevapp_raw.describe(include=['object'])"
      ],
      "metadata": {
        "papermill": {
          "duration": 3.778972,
          "end_time": "2023-07-19T06:56:58.920026",
          "exception": false,
          "start_time": "2023-07-19T06:56:55.141054",
          "status": "completed"
        },
        "tags": [],
        "id": "OzeEVQRlNGHq",
        "execution": {
          "iopub.status.busy": "2023-09-06T15:08:45.517624Z",
          "iopub.execute_input": "2023-09-06T15:08:45.517980Z",
          "iopub.status.idle": "2023-09-06T15:08:48.685567Z",
          "shell.execute_reply.started": "2023-09-06T15:08:45.517946Z",
          "shell.execute_reply": "2023-09-06T15:08:48.684438Z"
        },
        "trusted": true
      },
      "execution_count": null,
      "outputs": []
    },
    {
      "cell_type": "code",
      "source": [
        "#Ajustements aux types de données\n",
        "dfprevapp = dfprevapp_raw.copy(deep=True)\n",
        "\n",
        "#Conformément aux directives, les variables suivantes sont considérées comme catégorielles\n",
        "cat = ['NAME_CONTRACT_TYPE','NAME_CONTRACT_STATUS','NAME_PAYMENT_TYPE','CODE_REJECT_REASON','NAME_TYPE_SUITE','NAME_CLIENT_TYPE',\n",
        "       'NAME_GOODS_CATEGORY','NAME_YIELD_GROUP','NFLAG_INSURED_ON_APPROVAL']\n",
        "dfprevapp[cat]=dfprevapp[cat].astype('category')\n",
        "\n",
        "#Contrôle des types de données ajustés\n",
        "pd.DataFrame(dfprevapp.dtypes).T"
      ],
      "metadata": {
        "papermill": {
          "duration": 2.264435,
          "end_time": "2023-07-19T06:57:01.244479",
          "exception": false,
          "start_time": "2023-07-19T06:56:58.980044",
          "status": "completed"
        },
        "tags": [],
        "id": "hiatDe9bNGHq",
        "execution": {
          "iopub.status.busy": "2023-09-06T15:08:48.686871Z",
          "iopub.execute_input": "2023-09-06T15:08:48.687627Z",
          "iopub.status.idle": "2023-09-06T15:08:50.536903Z",
          "shell.execute_reply.started": "2023-09-06T15:08:48.687593Z",
          "shell.execute_reply": "2023-09-06T15:08:50.535730Z"
        },
        "trusted": true
      },
      "execution_count": null,
      "outputs": []
    },
    {
      "cell_type": "code",
      "source": [
        "# Nombre de colonnes numériques et catégorielles.\n",
        "print_column_datatypes(dfprevapp)"
      ],
      "metadata": {
        "papermill": {
          "duration": 0.143987,
          "end_time": "2023-07-19T06:57:01.448554",
          "exception": false,
          "start_time": "2023-07-19T06:57:01.304567",
          "status": "completed"
        },
        "tags": [],
        "id": "OeRx7oT3NGHq",
        "execution": {
          "iopub.status.busy": "2023-09-06T15:08:50.538791Z",
          "iopub.execute_input": "2023-09-06T15:08:50.539184Z",
          "iopub.status.idle": "2023-09-06T15:08:50.628281Z",
          "shell.execute_reply.started": "2023-09-06T15:08:50.539138Z",
          "shell.execute_reply": "2023-09-06T15:08:50.627328Z"
        },
        "trusted": true
      },
      "execution_count": null,
      "outputs": []
    },
    {
      "cell_type": "code",
      "source": [
        "# Calculer et afficher la proportion de valeurs manquantes (NaN).\n",
        "df = nan_df_create(dfprevapp)\n",
        "print(df.to_string())"
      ],
      "metadata": {
        "papermill": {
          "duration": 0.104045,
          "end_time": "2023-07-19T06:57:01.611641",
          "exception": false,
          "start_time": "2023-07-19T06:57:01.507596",
          "status": "completed"
        },
        "tags": [],
        "id": "oZRWyuxeNGHr",
        "execution": {
          "iopub.status.busy": "2023-09-06T15:08:50.629725Z",
          "iopub.execute_input": "2023-09-06T15:08:50.630260Z",
          "iopub.status.idle": "2023-09-06T15:08:50.666117Z",
          "shell.execute_reply.started": "2023-09-06T15:08:50.630226Z",
          "shell.execute_reply": "2023-09-06T15:08:50.665204Z"
        },
        "trusted": true
      },
      "execution_count": null,
      "outputs": []
    },
    {
      "cell_type": "markdown",
      "source": [
        "### c) Données du dataset bureau"
      ],
      "metadata": {
        "papermill": {
          "duration": 0.062758,
          "end_time": "2023-07-19T06:57:01.752893",
          "exception": false,
          "start_time": "2023-07-19T06:57:01.690135",
          "status": "completed"
        },
        "tags": [],
        "id": "FOV7D74kNGHr"
      }
    },
    {
      "cell_type": "code",
      "source": [
        "print(\"Nombre de lignes et de colonnes : \", dfbureau_raw.shape)\n",
        "dfbureau_raw.head()"
      ],
      "metadata": {
        "papermill": {
          "duration": 0.137561,
          "end_time": "2023-07-19T06:57:01.953006",
          "exception": false,
          "start_time": "2023-07-19T06:57:01.815445",
          "status": "completed"
        },
        "tags": [],
        "id": "0YDCRWWENGHr",
        "execution": {
          "iopub.status.busy": "2023-09-06T15:08:50.667849Z",
          "iopub.execute_input": "2023-09-06T15:08:50.668209Z",
          "iopub.status.idle": "2023-09-06T15:08:50.686981Z",
          "shell.execute_reply.started": "2023-09-06T15:08:50.668176Z",
          "shell.execute_reply": "2023-09-06T15:08:50.686002Z"
        },
        "trusted": true
      },
      "execution_count": null,
      "outputs": []
    },
    {
      "cell_type": "code",
      "source": [
        "# Vérifier les types des données\n",
        "pd.DataFrame(dfbureau_raw.dtypes).T"
      ],
      "metadata": {
        "papermill": {
          "duration": 0.083296,
          "end_time": "2023-07-19T06:57:02.112431",
          "exception": false,
          "start_time": "2023-07-19T06:57:02.029135",
          "status": "completed"
        },
        "tags": [],
        "id": "Nqid8XwRNGHr",
        "execution": {
          "iopub.status.busy": "2023-09-06T15:08:50.688603Z",
          "iopub.execute_input": "2023-09-06T15:08:50.689324Z",
          "iopub.status.idle": "2023-09-06T15:08:50.709184Z",
          "shell.execute_reply.started": "2023-09-06T15:08:50.689292Z",
          "shell.execute_reply": "2023-09-06T15:08:50.708140Z"
        },
        "trusted": true
      },
      "execution_count": null,
      "outputs": []
    },
    {
      "cell_type": "code",
      "source": [
        "# Description des caractéristiques catégorielles\n",
        "dfprevapp_raw.describe(include=['object'])"
      ],
      "metadata": {
        "papermill": {
          "duration": 3.378365,
          "end_time": "2023-07-19T06:57:05.556532",
          "exception": false,
          "start_time": "2023-07-19T06:57:02.178167",
          "status": "completed"
        },
        "tags": [],
        "id": "Xl8GoEmoNGHs",
        "execution": {
          "iopub.status.busy": "2023-09-06T15:08:50.710767Z",
          "iopub.execute_input": "2023-09-06T15:08:50.711201Z",
          "iopub.status.idle": "2023-09-06T15:08:53.896662Z",
          "shell.execute_reply.started": "2023-09-06T15:08:50.711148Z",
          "shell.execute_reply": "2023-09-06T15:08:53.894682Z"
        },
        "trusted": true
      },
      "execution_count": null,
      "outputs": []
    },
    {
      "cell_type": "code",
      "source": [
        "# Ajustements aux types de données\n",
        "dfbureau = dfbureau_raw.copy(deep=True)\n",
        "\n",
        "# Selon les spécifications, les variables suivantes sont considérées comme catégorielles.\n",
        "cat = ['CREDIT_ACTIVE']\n",
        "dfbureau[cat]=dfbureau[cat].astype('category')\n",
        "\n",
        "# Nombre de colonnes numériques et catégorielles.\n",
        "print_column_datatypes(dfbureau)"
      ],
      "metadata": {
        "papermill": {
          "duration": 0.453398,
          "end_time": "2023-07-19T06:57:06.069511",
          "exception": false,
          "start_time": "2023-07-19T06:57:05.616113",
          "status": "completed"
        },
        "tags": [],
        "id": "qGbeTh4WNGHs",
        "execution": {
          "iopub.status.busy": "2023-09-06T15:08:53.898169Z",
          "iopub.execute_input": "2023-09-06T15:08:53.898890Z",
          "iopub.status.idle": "2023-09-06T15:08:54.293189Z",
          "shell.execute_reply.started": "2023-09-06T15:08:53.898856Z",
          "shell.execute_reply": "2023-09-06T15:08:54.292275Z"
        },
        "trusted": true
      },
      "execution_count": null,
      "outputs": []
    },
    {
      "cell_type": "code",
      "source": [
        "# Calculer et afficher la proportion de valeurs manquantes (NaN).\n",
        "df = nan_df_create(dfbureau)\n",
        "print(df.to_string())"
      ],
      "metadata": {
        "papermill": {
          "duration": 0.140082,
          "end_time": "2023-07-19T06:57:06.268161",
          "exception": false,
          "start_time": "2023-07-19T06:57:06.128079",
          "status": "completed"
        },
        "tags": [],
        "id": "86TZM1O3NGHs",
        "execution": {
          "iopub.status.busy": "2023-09-06T15:08:54.294483Z",
          "iopub.execute_input": "2023-09-06T15:08:54.294824Z",
          "iopub.status.idle": "2023-09-06T15:08:54.329343Z",
          "shell.execute_reply.started": "2023-09-06T15:08:54.294789Z",
          "shell.execute_reply": "2023-09-06T15:08:54.328289Z"
        },
        "trusted": true
      },
      "execution_count": null,
      "outputs": []
    },
    {
      "cell_type": "markdown",
      "source": [
        "Pour les deux ensembles de données dfprevapp et dfbureau, l'occurrence des ID respectifs est comptée."
      ],
      "metadata": {
        "papermill": {
          "duration": 0.058272,
          "end_time": "2023-07-19T06:57:06.385649",
          "exception": false,
          "start_time": "2023-07-19T06:57:06.327377",
          "status": "completed"
        },
        "tags": [],
        "id": "4GEGs8XgNGHs"
      }
    },
    {
      "cell_type": "code",
      "source": [
        "dfprevapp['SK_ID_CURR'].value_counts().head(3)"
      ],
      "metadata": {
        "papermill": {
          "duration": 0.128499,
          "end_time": "2023-07-19T06:57:06.572548",
          "exception": false,
          "start_time": "2023-07-19T06:57:06.444049",
          "status": "completed"
        },
        "tags": [],
        "id": "qs3T0W9ANGHs",
        "execution": {
          "iopub.status.busy": "2023-09-06T15:08:54.338719Z",
          "iopub.execute_input": "2023-09-06T15:08:54.338987Z",
          "iopub.status.idle": "2023-09-06T15:08:54.394227Z",
          "shell.execute_reply.started": "2023-09-06T15:08:54.338963Z",
          "shell.execute_reply": "2023-09-06T15:08:54.393203Z"
        },
        "trusted": true
      },
      "execution_count": null,
      "outputs": []
    },
    {
      "cell_type": "code",
      "source": [
        "dfbureau['SK_ID_CURR'].value_counts().head(3)"
      ],
      "metadata": {
        "papermill": {
          "duration": 0.113486,
          "end_time": "2023-07-19T06:57:06.745229",
          "exception": false,
          "start_time": "2023-07-19T06:57:06.631743",
          "status": "completed"
        },
        "tags": [],
        "id": "F2Jzaet6NGHt",
        "execution": {
          "iopub.status.busy": "2023-09-06T15:08:54.395625Z",
          "iopub.execute_input": "2023-09-06T15:08:54.395954Z",
          "iopub.status.idle": "2023-09-06T15:08:54.445424Z",
          "shell.execute_reply.started": "2023-09-06T15:08:54.395922Z",
          "shell.execute_reply": "2023-09-06T15:08:54.444362Z"
        },
        "trusted": true
      },
      "execution_count": null,
      "outputs": []
    },
    {
      "cell_type": "markdown",
      "source": [
        "  **Interprétation** : Il y a plusieurs entrées par ID à la fois dans la table previous_application et dans la table bureau. Ces entrées doivent être agrégées de manière appropriée avant d'être fusionnées avec les ensembles de données application."
      ],
      "metadata": {
        "papermill": {
          "duration": 0.059106,
          "end_time": "2023-07-19T06:57:06.86386",
          "exception": false,
          "start_time": "2023-07-19T06:57:06.804754",
          "status": "completed"
        },
        "tags": [],
        "id": "yBPwPNX7NGHt"
      }
    },
    {
      "cell_type": "code",
      "source": [
        "duplicates = dfprevapp[dfprevapp['SK_ID_CURR'].duplicated()]\n",
        "\n",
        "num_duplicates = len(duplicates)\n",
        "if num_duplicates > 0:\n",
        "    print(\"Nombre de lignes avec des doublons de SK_ID_CURR :\", num_duplicates)\n",
        "    print(\"Lignes avec des doublons de SK_ID_CURR :\")\n",
        "    print(duplicates)\n",
        "else:\n",
        "    print(\"Aucun doublon de SK_ID_CURR trouvé.\")\n"
      ],
      "metadata": {
        "id": "eaBKIZ54-VW2",
        "execution": {
          "iopub.status.busy": "2023-09-06T15:08:54.446969Z",
          "iopub.execute_input": "2023-09-06T15:08:54.447313Z",
          "iopub.status.idle": "2023-09-06T15:08:54.567850Z",
          "shell.execute_reply.started": "2023-09-06T15:08:54.447271Z",
          "shell.execute_reply": "2023-09-06T15:08:54.566768Z"
        },
        "trusted": true
      },
      "execution_count": null,
      "outputs": []
    },
    {
      "cell_type": "markdown",
      "source": [
        "<br>\n",
        "<a id=\"A3\"></a>\n",
        "<hr style=\"border:1px solid black\"> </hr>\n",
        "<h1 style=\"font-size:18px; font-weight:bold;\">Tâche A-3 : Visualisation et préparation des ensembles de données </h1>\n",
        "<hr style=\"border:1px solid black\"> </hr>"
      ],
      "metadata": {
        "papermill": {
          "duration": 0.058878,
          "end_time": "2023-07-19T06:57:06.983611",
          "exception": false,
          "start_time": "2023-07-19T06:57:06.924733",
          "status": "completed"
        },
        "tags": [],
        "id": "1mZDVXChNGHt"
      }
    },
    {
      "cell_type": "markdown",
      "source": [
        "### Partie a)"
      ],
      "metadata": {
        "papermill": {
          "duration": 0.058298,
          "end_time": "2023-07-19T06:57:07.335643",
          "exception": false,
          "start_time": "2023-07-19T06:57:07.277345",
          "status": "completed"
        },
        "tags": [],
        "id": "_k7J44T6NGHu"
      }
    },
    {
      "cell_type": "code",
      "source": [
        "dfapptrain = dfapptraintest[dfapptraintest['TYPE'] == 'TRAIN']\n",
        "dfapptrain = dfapptrain.loc[:, dfapptrain.columns != 'TYPE']"
      ],
      "metadata": {
        "papermill": {
          "duration": 0.111561,
          "end_time": "2023-07-19T06:57:07.505545",
          "exception": false,
          "start_time": "2023-07-19T06:57:07.393984",
          "status": "completed"
        },
        "tags": [],
        "id": "ZFHdQlCZNGHv",
        "execution": {
          "iopub.status.busy": "2023-09-06T15:08:54.569503Z",
          "iopub.execute_input": "2023-09-06T15:08:54.569857Z",
          "iopub.status.idle": "2023-09-06T15:08:54.628233Z",
          "shell.execute_reply.started": "2023-09-06T15:08:54.569824Z",
          "shell.execute_reply": "2023-09-06T15:08:54.627191Z"
        },
        "trusted": true
      },
      "execution_count": null,
      "outputs": []
    },
    {
      "cell_type": "code",
      "source": [
        "#La fonction plot_cat génère un graphique à barres empilées pour chaque caractéristique catégorielle\n",
        "#d'un DataFrame donné, en fonction des valeurs d'une colonne cible donnée.\n",
        "def plot_cat(data, target, n_cols, n_rows, title):\n",
        "    cols = data.select_dtypes(include='category').columns.tolist()\n",
        "    fg,ax = plt.subplots(nrows=n_rows, ncols=n_cols, figsize=(n_rows*7, n_cols*5), squeeze=False)\n",
        "    plt.suptitle(title, fontsize=28, y=0.95)\n",
        "    j=0;\n",
        "    i=0;\n",
        "\n",
        "    for col in cols:\n",
        "        data.groupby([col, target]).size().unstack().fillna(0).plot(kind='bar', stacked=True, color=['steelblue', 'red'], ax=ax[i][j])\n",
        "        i += 1\n",
        "        if(i>=n_rows):\n",
        "            i = 0\n",
        "            j += 1\n",
        "\n",
        "    # Supprimez les axes qui ne sont pas nécessaires (ici, uniquement pour le cas particulier où la dernière colonne contient des graphiques vides).\n",
        "    while (i<n_rows):\n",
        "        fg.delaxes(ax[i,j])\n",
        "        i += 1\n",
        "\n",
        "plot_cat(dfapptrain, 'TARGET', 6, 5, \"Comptages graphiques (countplots) pour les variables catégorielles dans l'ensemble de données application_train.\")"
      ],
      "metadata": {
        "papermill": {
          "duration": 6.760135,
          "end_time": "2023-07-19T06:57:14.330886",
          "exception": false,
          "start_time": "2023-07-19T06:57:07.570751",
          "status": "completed"
        },
        "tags": [],
        "id": "HldhSWgpNGHw",
        "execution": {
          "iopub.status.busy": "2023-09-06T15:08:54.629801Z",
          "iopub.execute_input": "2023-09-06T15:08:54.630164Z",
          "iopub.status.idle": "2023-09-06T15:09:01.120318Z",
          "shell.execute_reply.started": "2023-09-06T15:08:54.630127Z",
          "shell.execute_reply": "2023-09-06T15:09:01.119463Z"
        },
        "trusted": true
      },
      "execution_count": null,
      "outputs": []
    },
    {
      "cell_type": "code",
      "source": [
        "#La fonction plot_cat_percent génère, pour un DataFrame donné, un graphique à barres empilées pour chaque\n",
        "#caractéristique catégorielle du DataFrame, en fonction des valeurs d'une colonne cible donnée.\n",
        "#Ces graphiques se complètent à 100% pour chaque niveau de la caractéristique catégorielle.\n",
        "def plot_cat_percent(data, target, n_cols, n_rows, title):\n",
        "    cols = data.select_dtypes(include='category').columns.tolist()\n",
        "    fg,ax = plt.subplots(nrows=n_rows, ncols=n_cols, figsize=(n_rows*7, n_cols*5), squeeze=False)\n",
        "    plt.suptitle(title, fontsize=28, y=0.95)\n",
        "    j=0;\n",
        "    i=0;\n",
        "\n",
        "    for col in cols:\n",
        "        (data.groupby([col, target]).size()/data.groupby([col]).size()).unstack().fillna(0).plot(kind='bar', stacked=True, color=['steelblue', 'red'], ax=ax[i][j])\n",
        "        i += 1\n",
        "        if(i>=n_rows):\n",
        "            i = 0\n",
        "            j += 1\n",
        "\n",
        "    #Supprime les axes qui ne sont pas nécessaires (ici, uniquement pour le cas spécial où la dernière colonne contient des graphiques vides)\n",
        "    while (i<n_rows):\n",
        "        fg.delaxes(ax[i,j])\n",
        "        i += 1\n",
        "\n",
        "plot_cat_percent(dfapptrain, 'TARGET', 6, 5, \"Graphiques à barres empilées en pourcentage pour les variables catégorielles dans l'ensemble de données de application_train\")"
      ],
      "metadata": {
        "papermill": {
          "duration": 6.71606,
          "end_time": "2023-07-19T06:57:21.113333",
          "exception": false,
          "start_time": "2023-07-19T06:57:14.397273",
          "status": "completed"
        },
        "tags": [],
        "id": "Lq8h5taZNGHw",
        "execution": {
          "iopub.status.busy": "2023-09-06T15:09:01.121340Z",
          "iopub.execute_input": "2023-09-06T15:09:01.121698Z",
          "iopub.status.idle": "2023-09-06T15:09:07.906531Z",
          "shell.execute_reply.started": "2023-09-06T15:09:01.121662Z",
          "shell.execute_reply": "2023-09-06T15:09:07.905429Z"
        },
        "trusted": true
      },
      "execution_count": null,
      "outputs": []
    },
    {
      "cell_type": "markdown",
      "source": [
        "__Interprétation:__\n",
        "\n",
        "À partir des graphiques, les observations suivantes peuvent être faites (sélection) :\n",
        "\n",
        "La variable cible TARGET n'est pas équilibrée : il y a nettement moins de prêts en défaut que de prêts non en défaut.\n",
        "\n",
        "Les individus masculins semblent avoir une probabilité plus élevée de défaut de prêt que les individus féminins.\n",
        "\n",
        "Pour la caractéristique OCCUPATION_TYPE, la classe W semble avoir une probabilité de défaut plus élevée que les autres classes.\n",
        "\n",
        "Pour la caractéristique NAME_EDUCATION_TYPE, la classe L semble avoir une probabilité de défaut plus élevée que les autres classes."
      ],
      "metadata": {
        "papermill": {
          "duration": 0.07216,
          "end_time": "2023-07-19T06:57:21.259207",
          "exception": false,
          "start_time": "2023-07-19T06:57:21.187047",
          "status": "completed"
        },
        "tags": [],
        "id": "RqNJZY1fNGHw"
      }
    },
    {
      "cell_type": "markdown",
      "source": [
        "### Partie b)"
      ],
      "metadata": {
        "papermill": {
          "duration": 0.069738,
          "end_time": "2023-07-19T06:57:21.398743",
          "exception": false,
          "start_time": "2023-07-19T06:57:21.329005",
          "status": "completed"
        },
        "tags": [],
        "id": "F6HtjjZPNGHx"
      }
    },
    {
      "cell_type": "code",
      "source": [
        "#La fonction plot_num génère, pour un DataFrame donné, un tracé de densité de noyau différencié\n",
        "#en fonction des valeurs d'une colonne cible donnée, pour chaque caractéristique numérique du DataFrame.\n",
        "def plot_num(data, target, n_cols,n_rows, title):\n",
        "    cols = data.select_dtypes(exclude='category').columns.tolist()\n",
        "    cols.remove('SK_ID_CURR')\n",
        "    fg,ax = plt.subplots(nrows=n_rows, ncols=n_cols, figsize=(3*n_rows, 18*n_cols), squeeze=False)\n",
        "    plt.suptitle(title, fontsize=18, y=0.95)\n",
        "    j=0;\n",
        "    i=0;\n",
        "    for col in cols:\n",
        "        sns.kdeplot(data.loc[data['TARGET'] == 1, col], label='target == 1', color='r', ax=ax[i,j])\n",
        "        sns.kdeplot(data.loc[data['TARGET'] == 0, col], label='target == 0', color='b', ax=ax[i,j])\n",
        "        i += 1\n",
        "        if(i>=n_rows):\n",
        "            i = 0\n",
        "            j += 1\n",
        "\n",
        "plot_num(dfapptrain, 'TARGET', 2, 11, \"Variables numériques dans l'ensemble de données application_train\")"
      ],
      "metadata": {
        "papermill": {
          "duration": 28.715737,
          "end_time": "2023-07-19T06:57:50.184813",
          "exception": false,
          "start_time": "2023-07-19T06:57:21.469076",
          "status": "completed"
        },
        "tags": [],
        "id": "QgWw-hzMNGHx",
        "execution": {
          "iopub.status.busy": "2023-09-06T15:09:07.908123Z",
          "iopub.execute_input": "2023-09-06T15:09:07.908595Z",
          "iopub.status.idle": "2023-09-06T15:09:35.346705Z",
          "shell.execute_reply.started": "2023-09-06T15:09:07.908560Z",
          "shell.execute_reply": "2023-09-06T15:09:35.341186Z"
        },
        "trusted": true
      },
      "execution_count": null,
      "outputs": []
    },
    {
      "cell_type": "markdown",
      "source": [
        "__Interprétation:__"
      ],
      "metadata": {
        "papermill": {
          "duration": 0.078408,
          "end_time": "2023-07-19T06:57:50.344012",
          "exception": false,
          "start_time": "2023-07-19T06:57:50.265604",
          "status": "completed"
        },
        "tags": [],
        "id": "Kh5jeRG0NGHx"
      }
    },
    {
      "cell_type": "markdown",
      "source": [
        "À partir des graphiques, les observations suivantes peuvent être faites :\n",
        "\n",
        "* Les scores (EXT_SOURCE_1, EXT_SOURCE_2 et EXT_SOURCE_3) semblent déjà offrir une bonne différenciation.\n",
        "\n",
        "* La caractéristique DAYS_BIRTH semble également offrir une bonne différenciation dans la plage des valeurs à droite.\n",
        "\n",
        "* Pour la caractéristique DAYS_EMPLOYED, on peut observer une tendance douteuse dans la plage des valeurs à droite. Cela sera analysé plus en détail dans la partie c)."
      ],
      "metadata": {
        "papermill": {
          "duration": 0.07723,
          "end_time": "2023-07-19T06:57:50.498957",
          "exception": false,
          "start_time": "2023-07-19T06:57:50.421727",
          "status": "completed"
        },
        "tags": [],
        "id": "DGj5YdL3NGHx"
      }
    },
    {
      "cell_type": "markdown",
      "source": [
        "### Parties c) et d)"
      ],
      "metadata": {
        "papermill": {
          "duration": 0.077528,
          "end_time": "2023-07-19T06:57:50.654465",
          "exception": false,
          "start_time": "2023-07-19T06:57:50.576937",
          "status": "completed"
        },
        "tags": [],
        "id": "_UEQhQm2NGHy"
      }
    },
    {
      "cell_type": "code",
      "source": [
        "#Marquer les valeurs abérrantes (1000 ans) comme manquantes.\n",
        "dfapptrain['DAYS_EMPLOYED'].replace(365243, np.nan, inplace= True)\n",
        "dfapptraintest['DAYS_EMPLOYED'].replace(365243, np.nan, inplace= True)\n",
        "\n",
        "# Pour les colonnes spécifiées, les valeurs se référant à une période de plus de 50 ans en arrière sont définies à 0.\n",
        "dfbureau['DAYS_CREDIT_ENDDATE'][dfbureau['DAYS_CREDIT_ENDDATE'] > -50*365] = 0\n",
        "dfbureau['DAYS_ENDDATE_FACT'][dfbureau['DAYS_ENDDATE_FACT'] > -50*365] = 0\n",
        "dfbureau['DAYS_CREDIT_UPDATE'][dfbureau['DAYS_CREDIT_UPDATE'] > -50*365] = 0"
      ],
      "metadata": {
        "papermill": {
          "duration": 0.124257,
          "end_time": "2023-07-19T06:57:50.855558",
          "exception": false,
          "start_time": "2023-07-19T06:57:50.731301",
          "status": "completed"
        },
        "tags": [],
        "id": "quODdTihNGHy",
        "execution": {
          "iopub.status.busy": "2023-09-06T15:09:35.348314Z",
          "iopub.execute_input": "2023-09-06T15:09:35.349011Z",
          "iopub.status.idle": "2023-09-06T15:09:35.390575Z",
          "shell.execute_reply.started": "2023-09-06T15:09:35.348977Z",
          "shell.execute_reply": "2023-09-06T15:09:35.389624Z"
        },
        "trusted": true
      },
      "execution_count": null,
      "outputs": []
    },
    {
      "cell_type": "markdown",
      "source": [
        "<br>\n",
        "<a id=\"A4\"></a>\n",
        "<hr style=\"border:1px solid black\"> </hr>\n",
        "<h1 style=\"font-size:18px; font-weight:bold;\">Tâche A-4: Feature Engineering </h1>\n",
        "<hr style=\"border:1px solid black\"> </hr>"
      ],
      "metadata": {
        "papermill": {
          "duration": 0.080948,
          "end_time": "2023-07-19T06:57:51.015761",
          "exception": false,
          "start_time": "2023-07-19T06:57:50.934813",
          "status": "completed"
        },
        "tags": [],
        "id": "p0R6HBiSNGHy"
      }
    },
    {
      "cell_type": "markdown",
      "source": [
        "**Dans cette tâche, les informations des ensembles de données previous_application, bureau et l'ensemble de données combiné d'entraînement et de test doivent être préparées.**\n",
        "\n",
        "**a) Les tâches suivantes doivent être effectuées pour chacun des trois ensembles de données mentionnés :**\n",
        "\n",
        "- **Pour les caractéristiques numériques, les valeurs manquantes doivent être remplacées par 0. Pour les caractéristiques catégorielles, les valeurs manquantes doivent être remplacées par la nouvelle catégorie \"categorie_NaN\".**\n",
        "\n",
        "- **De plus, les caractéristiques spécifiques au domaine indiquées dans l'Annexe 1 doivent être incluses dans l'ensemble de données examiné.**\n",
        "\n",
        "- **Le jeu de données doit être agrégé de manière à avoir exactement une ligne par ID (selon SK_ID_CURR). Les points suivants doivent être pris en compte :**\n",
        "\n",
        "    - **Avant l'agrégation, les ensembles de données doivent être triés par SK_ID_CURR et DAYS_DECISION (dans le cas de previous_application), ou par SK_ID_CURR et DAYS_CREDIT_ENDDATE (dans le cas de bureau), en ordre croissant..**\n",
        "\n",
        "    - **Pour les caractéristiques numériques, les quatre agrégations suivantes doivent être utilisées : sum (somme), mean (moyenne), max (maximum) et min (minimum). Par conséquent, une colonne numérique sera remplacée par quatre colonnes correspondant aux agrégations appropriées..**\n",
        "\n",
        "    - **Pour les caractéristiques catégorielles, les trois agrégations mod(mode), first (première valeur apparue) et last (dernière valeur apparue) doivent être utilisées. Par conséquent, une colonne catégorielle est remplacée par trois colonnes correspondant aux agrégations respectives.**\n",
        "    \n",
        "**b) Quelles sont les considérations générales lors de l'ajout de nouvelles caractéristiques basées sur des connaissances de domaine, similaires à celles présentées à l'Annexe 1 ? Quelles mesures peuvent être prises pour garantir la qualité des caractéristiques additionnelles ?**"
      ],
      "metadata": {
        "papermill": {
          "duration": 0.080961,
          "end_time": "2023-07-19T06:57:51.180473",
          "exception": false,
          "start_time": "2023-07-19T06:57:51.099512",
          "status": "completed"
        },
        "tags": [],
        "id": "aJHV-mi6NGHy"
      }
    },
    {
      "cell_type": "code",
      "source": [
        "# La fonction mod calcule le mode (= valeur la plus fréquemment rencontrée) des valeurs entrées.\n",
        "def mod(x):\n",
        "    m = pd.Series.mode(x);\n",
        "    return m.values[0] if not m.empty else np.nan\n",
        "\n",
        "aggregations_num = ['sum', 'median', 'max', 'min']\n",
        "aggregations_cat = [mod, 'first', 'last']"
      ],
      "metadata": {
        "papermill": {
          "duration": 0.087022,
          "end_time": "2023-07-19T06:57:51.500576",
          "exception": false,
          "start_time": "2023-07-19T06:57:51.413554",
          "status": "completed"
        },
        "tags": [],
        "id": "wygv0KNvNGHz",
        "execution": {
          "iopub.status.busy": "2023-09-06T15:09:35.392176Z",
          "iopub.execute_input": "2023-09-06T15:09:35.392536Z",
          "iopub.status.idle": "2023-09-06T15:09:35.399449Z",
          "shell.execute_reply.started": "2023-09-06T15:09:35.392503Z",
          "shell.execute_reply": "2023-09-06T15:09:35.397251Z"
        },
        "trusted": true
      },
      "execution_count": null,
      "outputs": []
    },
    {
      "cell_type": "markdown",
      "source": [
        "### 4 a)"
      ],
      "metadata": {
        "papermill": {
          "duration": 0.080461,
          "end_time": "2023-07-19T06:57:51.659359",
          "exception": false,
          "start_time": "2023-07-19T06:57:51.578898",
          "status": "completed"
        },
        "tags": [],
        "id": "E3zOxn42NGHz"
      }
    },
    {
      "cell_type": "markdown",
      "source": [
        "### PREVIOUS APPLICATION"
      ],
      "metadata": {
        "papermill": {
          "duration": 0.077078,
          "end_time": "2023-07-19T06:57:51.818236",
          "exception": false,
          "start_time": "2023-07-19T06:57:51.741158",
          "status": "completed"
        },
        "tags": [],
        "id": "UdT1ty9MNGHz"
      }
    },
    {
      "cell_type": "markdown",
      "source": [
        "Comme indiqué dans la Partie 1), le jeu de données contient les colonnes numériques suivantes avec des valeurs manquantes : AMT_DOWN_PAYMENT, AMT_GOODS_PRICE, AMT_ANNUITY et CNT_PAYMENT. Ces valeurs seront remplacées par 0.\n",
        "\n",
        "Les variables catégorielles NAME_TYPE_SUITE et NFLAG_INSURED_ON_APPROVAL contiennent également des valeurs manquantes."
      ],
      "metadata": {
        "papermill": {
          "duration": 0.095439,
          "end_time": "2023-07-19T06:57:52.020267",
          "exception": false,
          "start_time": "2023-07-19T06:57:51.924828",
          "status": "completed"
        },
        "tags": [],
        "id": "0bXhfh1SNGHz"
      }
    },
    {
      "cell_type": "code",
      "source": [
        "# Remplacement des valeurs manquantes (NaN) dans les colonnes numériques par la moyenne.\n",
        "numerical_columns = ['AMT_DOWN_PAYMENT','AMT_GOODS_PRICE','AMT_ANNUITY','CNT_PAYMENT','AMT_CREDIT']\n",
        "dfprevapp[numerical_columns] = dfprevapp[numerical_columns].fillna(0)\n",
        "\n",
        "# Remplacement des valeurs manquantes (NaN) dans les colonnes catégorielles par la valeur categorie_NaN.\n",
        "dfprevapp['NAME_TYPE_SUITE'] = dfprevapp['NAME_TYPE_SUITE'].cat.add_categories(\"categorie_NaN\").fillna(\"categorie_NaN\")\n",
        "dfprevapp['NFLAG_INSURED_ON_APPROVAL'] = dfprevapp['NFLAG_INSURED_ON_APPROVAL'].cat.add_categories(\"categorie_NaN\").fillna(\"categorie_NaN\")\n",
        "\n",
        "# Vérification des remplacements.\n",
        "dfprevapp.isnull().sum().sum()"
      ],
      "metadata": {
        "papermill": {
          "duration": 0.298686,
          "end_time": "2023-07-19T06:57:52.396663",
          "exception": false,
          "start_time": "2023-07-19T06:57:52.097977",
          "status": "completed"
        },
        "tags": [],
        "id": "Xq9OHeImNGH0",
        "execution": {
          "iopub.status.busy": "2023-09-06T15:09:35.400845Z",
          "iopub.execute_input": "2023-09-06T15:09:35.401190Z",
          "iopub.status.idle": "2023-09-06T15:09:35.556070Z",
          "shell.execute_reply.started": "2023-09-06T15:09:35.401157Z",
          "shell.execute_reply": "2023-09-06T15:09:35.555005Z"
        },
        "trusted": true
      },
      "execution_count": null,
      "outputs": []
    },
    {
      "cell_type": "code",
      "source": [
        "# En se basant sur les connaissances du domaine, les caractéristiques demandées sont ajoutées.\n",
        "\n",
        "#Toutes les caractéristiques nouvellement ajoutées (manuellement) reçoivent le préfixe PreDK.\n",
        "#Pour chaque ligne, déterminer le nombre de valeurs manquantes :\n",
        "dfprevapp['PreDK_MIssING_VALUES_TOTAL_PREV'] = dfprevapp.isna().sum(axis = 1)\n",
        "\n",
        "# Différence entre la demande et le crédit réel.\n",
        "dfprevapp['PreDK_AMT_DECLINED'] = dfprevapp['AMT_APPLICATION'] - dfprevapp['AMT_CREDIT']\n",
        "\n",
        "# VRatio entre le montant du crédit et la valeur du bien à financer.\n",
        "dfprevapp['PreDK_AMT_CREDIT_GOODS_RATIO'] = dfprevapp['AMT_CREDIT'] / (dfprevapp['AMT_GOODS_PRICE'] + 0.00001)\n",
        "\n",
        "# Différence entre le montant du crédit et la valeur du bien à financer.\n",
        "dfprevapp['PreDK_AMT_CREDIT_GOODS_DIFF'] = dfprevapp['AMT_CREDIT'] - dfprevapp['AMT_GOODS_PRICE']\n",
        "\n",
        "# Quotient entre le montant du crédit demandé et le montant du crédit accordé.\n",
        "dfprevapp['PreDK_AMT_CREDIT_APPLICATION_RATIO'] = dfprevapp['AMT_APPLICATION'] / (dfprevapp['AMT_CREDIT'] + 0.00001)\n",
        "\n",
        "# Estimation des paiements d'intérêts.\n",
        "dfprevapp['PreDK_AMT_INTEREST'] = dfprevapp['CNT_PAYMENT'] * dfprevapp['AMT_ANNUITY'] - dfprevapp['AMT_CREDIT']\n",
        "\n",
        "# Quotient entre les mensualités et le montant du crédit.\n",
        "dfprevapp['PreDK_ANNUITY_CREDIT_RATIO'] = dfprevapp['AMT_ANNUITY'] / (dfprevapp['AMT_CREDIT'] + 0.00001)"
      ],
      "metadata": {
        "papermill": {
          "duration": 0.195717,
          "end_time": "2023-07-19T06:57:52.671229",
          "exception": false,
          "start_time": "2023-07-19T06:57:52.475512",
          "status": "completed"
        },
        "tags": [],
        "id": "s0RsSWpmNGH0",
        "execution": {
          "iopub.status.busy": "2023-09-06T15:09:35.557871Z",
          "iopub.execute_input": "2023-09-06T15:09:35.558241Z",
          "iopub.status.idle": "2023-09-06T15:09:36.003178Z",
          "shell.execute_reply.started": "2023-09-06T15:09:35.558206Z",
          "shell.execute_reply": "2023-09-06T15:09:36.002264Z"
        },
        "trusted": true
      },
      "execution_count": null,
      "outputs": []
    },
    {
      "cell_type": "code",
      "source": [
        "aggregations_for_previous_application = {\n",
        "            #numerical\n",
        "            'AMT_ANNUITY' :               aggregations_num,\n",
        "            'AMT_APPLICATION' :           aggregations_num,\n",
        "            'AMT_CREDIT' :                aggregations_num,\n",
        "            'AMT_DOWN_PAYMENT' :          aggregations_num,\n",
        "            'AMT_GOODS_PRICE' :           aggregations_num,\n",
        "            'DAYS_DECISION' :             aggregations_num,\n",
        "            'CNT_PAYMENT' :               aggregations_num,\n",
        "            #domain knowledge\n",
        "            'PreDK_MIssING_VALUES_TOTAL_PREV' :    aggregations_num,\n",
        "            'PreDK_AMT_DECLINED' :                 aggregations_num,\n",
        "            'PreDK_AMT_CREDIT_GOODS_RATIO' :       aggregations_num,\n",
        "            'PreDK_AMT_CREDIT_GOODS_DIFF' :        aggregations_num,\n",
        "            'PreDK_AMT_CREDIT_APPLICATION_RATIO' : aggregations_num,\n",
        "            'PreDK_AMT_INTEREST' :                 aggregations_num,\n",
        "            'PreDK_ANNUITY_CREDIT_RATIO':          aggregations_num,\n",
        "            #categorical\n",
        "            'NAME_CONTRACT_TYPE' :        aggregations_cat,\n",
        "            'NAME_CONTRACT_STATUS' :      aggregations_cat,\n",
        "            'NAME_PAYMENT_TYPE' :         aggregations_cat,\n",
        "            'CODE_REJECT_REASON' :        aggregations_cat,\n",
        "            'NAME_TYPE_SUITE' :           aggregations_cat,\n",
        "            'NAME_CLIENT_TYPE' :          aggregations_cat,\n",
        "            'NAME_GOODS_CATEGORY' :       aggregations_cat,\n",
        "            'NAME_YIELD_GROUP' :          aggregations_cat,\n",
        "            'NFLAG_INSURED_ON_APPROVAL' : aggregations_cat,\n",
        "            }"
      ],
      "metadata": {
        "papermill": {
          "duration": 0.089392,
          "end_time": "2023-07-19T06:57:52.840256",
          "exception": false,
          "start_time": "2023-07-19T06:57:52.750864",
          "status": "completed"
        },
        "tags": [],
        "id": "091XwKE6NGH0",
        "execution": {
          "iopub.status.busy": "2023-09-06T15:09:36.004985Z",
          "iopub.execute_input": "2023-09-06T15:09:36.005722Z",
          "iopub.status.idle": "2023-09-06T15:09:36.013542Z",
          "shell.execute_reply.started": "2023-09-06T15:09:36.005686Z",
          "shell.execute_reply": "2023-09-06T15:09:36.012446Z"
        },
        "trusted": true
      },
      "execution_count": null,
      "outputs": []
    },
    {
      "cell_type": "code",
      "source": [
        "# Tri et réalisation des agrégations en tenant compte de toutes les demandes associées.\n",
        "tic = time.time()\n",
        "\n",
        "dfprevapp = dfprevapp.sort_values(by = ['SK_ID_CURR','DAYS_DECISION'])\n",
        "dfprevapp_agg = dfprevapp.groupby('SK_ID_CURR').agg(aggregations_for_previous_application)\n",
        "\n",
        "# Correction des noms de colonnes.\n",
        "dfprevapp_agg.columns = ['_'.join(col) for col in dfprevapp_agg.columns.values]\n",
        "\n",
        "print(\"time (sec):\" + \"%6.0f\" % (time.time() - tic))\n",
        "\n"
      ],
      "metadata": {
        "papermill": {
          "duration": 919.111665,
          "end_time": "2023-07-19T07:13:12.030048",
          "exception": false,
          "start_time": "2023-07-19T06:57:52.918383",
          "status": "completed"
        },
        "tags": [],
        "id": "YIBIxKCRNGH0",
        "execution": {
          "iopub.status.busy": "2023-09-06T15:09:36.014851Z",
          "iopub.execute_input": "2023-09-06T15:09:36.015521Z",
          "iopub.status.idle": "2023-09-06T15:23:38.826698Z",
          "shell.execute_reply.started": "2023-09-06T15:09:36.015488Z",
          "shell.execute_reply": "2023-09-06T15:23:38.825442Z"
        },
        "trusted": true
      },
      "execution_count": null,
      "outputs": []
    },
    {
      "cell_type": "code",
      "source": [
        "# Examiner les résultats.\n",
        "dfprevapp_agg.head(5)"
      ],
      "metadata": {
        "papermill": {
          "duration": 0.159712,
          "end_time": "2023-07-19T07:13:12.267425",
          "exception": false,
          "start_time": "2023-07-19T07:13:12.107713",
          "status": "completed"
        },
        "tags": [],
        "id": "jqNw45I_NGH1",
        "execution": {
          "iopub.status.busy": "2023-09-06T15:23:38.828220Z",
          "iopub.execute_input": "2023-09-06T15:23:38.828849Z",
          "iopub.status.idle": "2023-09-06T15:23:38.910131Z",
          "shell.execute_reply.started": "2023-09-06T15:23:38.828813Z",
          "shell.execute_reply": "2023-09-06T15:23:38.909260Z"
        },
        "trusted": true
      },
      "execution_count": null,
      "outputs": []
    },
    {
      "cell_type": "code",
      "source": [
        "dfprevapp_agg.shape"
      ],
      "metadata": {
        "id": "EVLX9iLfN9-q",
        "execution": {
          "iopub.status.busy": "2023-09-06T15:23:38.911644Z",
          "iopub.execute_input": "2023-09-06T15:23:38.912281Z",
          "iopub.status.idle": "2023-09-06T15:23:38.919101Z",
          "shell.execute_reply.started": "2023-09-06T15:23:38.912247Z",
          "shell.execute_reply": "2023-09-06T15:23:38.918102Z"
        },
        "trusted": true
      },
      "execution_count": null,
      "outputs": []
    },
    {
      "cell_type": "markdown",
      "source": [
        "### BUREAU"
      ],
      "metadata": {
        "papermill": {
          "duration": 0.078327,
          "end_time": "2023-07-19T07:13:12.424479",
          "exception": false,
          "start_time": "2023-07-19T07:13:12.346152",
          "status": "completed"
        },
        "tags": [],
        "id": "_dX3P6VcNGH1"
      }
    },
    {
      "cell_type": "markdown",
      "source": [
        "Ce jeu de données contient des valeurs manquantes dans les colonnes numériques suivantes :\n",
        "AMT_ANNUITY, AMT_CREDIT_MAX_OVERDUE, DAYS_ENDDATE_FACT, AMT_CREDIT_SUM_LIMIT, AMT_CREDIT_SUM_DEBT, DAYS_CREDIT_ENDDATE et AMT_CREDIT_SUM.\n",
        "Celles-ci seront remplacées par 0."
      ],
      "metadata": {
        "papermill": {
          "duration": 0.079194,
          "end_time": "2023-07-19T07:13:12.582325",
          "exception": false,
          "start_time": "2023-07-19T07:13:12.503131",
          "status": "completed"
        },
        "tags": [],
        "id": "yaRvWzRfNGH1"
      }
    },
    {
      "cell_type": "code",
      "source": [
        "numerical_columns = ['AMT_ANNUITY','AMT_CREDIT_MAX_OVERDUE','DAYS_ENDDATE_FACT','AMT_CREDIT_SUM_LIMIT','AMT_CREDIT_SUM_DEBT','DAYS_CREDIT_ENDDATE','AMT_CREDIT_SUM']\n",
        "dfbureau[numerical_columns] = dfbureau[numerical_columns].fillna(0)\n",
        "\n",
        "# Vérification des remplacements.\n",
        "dfbureau.isnull().sum().sum()"
      ],
      "metadata": {
        "papermill": {
          "duration": 0.327594,
          "end_time": "2023-07-19T07:13:12.988397",
          "exception": false,
          "start_time": "2023-07-19T07:13:12.660803",
          "status": "completed"
        },
        "tags": [],
        "id": "7Zq4dDvgNGH1",
        "execution": {
          "iopub.status.busy": "2023-09-06T15:23:38.920744Z",
          "iopub.execute_input": "2023-09-06T15:23:38.921071Z",
          "iopub.status.idle": "2023-09-06T15:23:39.056309Z",
          "shell.execute_reply.started": "2023-09-06T15:23:38.921040Z",
          "shell.execute_reply": "2023-09-06T15:23:39.055333Z"
        },
        "trusted": true
      },
      "execution_count": null,
      "outputs": []
    },
    {
      "cell_type": "code",
      "source": [
        "# En se basant sur les connaissances du domaine, les caractéristiques demandées sont ajoutées.\n",
        "# Toutes les caractéristiques nouvellement ajoutées (manuellement) porteront le préfixe \"BurDK\".\n",
        "dfbureau['BurDK_CREDIT_DURATION'] = np.abs(dfbureau['DAYS_CREDIT'] - dfbureau['DAYS_CREDIT_ENDDATE'])\n",
        "dfbureau['BurDK_FLAG_OVERDUE_RECENT'] = [0 if ele == 0 else 1 for ele in dfbureau['CREDIT_DAY_OVERDUE']]\n",
        "dfbureau['BurDK_CURRENT_AMT_OVERDUE_DURATION_RATIO'] = dfbureau['AMT_CREDIT_SUM_OVERDUE'] / (dfbureau['BurDK_CREDIT_DURATION'] + 0.00001)\n",
        "dfbureau['BurDK_AMT_OVERDUE_DURATION_LEFT_RATIO'] = dfbureau['AMT_CREDIT_SUM_OVERDUE'] / (dfbureau['DAYS_CREDIT_ENDDATE'] + 0.00001)\n",
        "dfbureau['BurDK_CNT_PROLONGED_MAX_OVERDUE_MUL'] = dfbureau['CNT_CREDIT_PROLONG'] * dfbureau['AMT_CREDIT_MAX_OVERDUE']\n",
        "dfbureau['BurDK_CNT_PROLONGED_DURATION_RATIO'] = dfbureau['CNT_CREDIT_PROLONG'] / (dfbureau['BurDK_CREDIT_DURATION'] + 0.00001)\n",
        "dfbureau['BurDK_CURRENT_DEBT_TO_CREDIT_RATIO'] = dfbureau['AMT_CREDIT_SUM_DEBT'] / (dfbureau['AMT_CREDIT_SUM'] + 0.00001)\n",
        "dfbureau['BurDK_CURRENT_CREDIT_DEBT_DIFF'] = dfbureau['AMT_CREDIT_SUM'] - dfbureau['AMT_CREDIT_SUM_DEBT']\n",
        "dfbureau['BurDK_AMT_ANNUITY_CREDIT_RATIO'] = dfbureau['AMT_ANNUITY'] / (dfbureau['AMT_CREDIT_SUM'] + 0.00001)\n",
        "dfbureau['BurDK_CREDIT_ENDDATE_UPDATE_DIFF'] = np.abs(dfbureau['DAYS_CREDIT_UPDATE'] - dfbureau['DAYS_CREDIT_ENDDATE'])"
      ],
      "metadata": {
        "papermill": {
          "duration": 1.235137,
          "end_time": "2023-07-19T07:13:14.304153",
          "exception": false,
          "start_time": "2023-07-19T07:13:13.069016",
          "status": "completed"
        },
        "tags": [],
        "id": "N6vitgOwNGH2",
        "execution": {
          "iopub.status.busy": "2023-09-06T15:23:39.057771Z",
          "iopub.execute_input": "2023-09-06T15:23:39.058222Z",
          "iopub.status.idle": "2023-09-06T15:23:40.185714Z",
          "shell.execute_reply.started": "2023-09-06T15:23:39.058188Z",
          "shell.execute_reply": "2023-09-06T15:23:40.184691Z"
        },
        "trusted": true
      },
      "execution_count": null,
      "outputs": []
    },
    {
      "cell_type": "code",
      "source": [
        "aggregations_for_bureau = {\n",
        "            #numerical\n",
        "            'DAYS_CREDIT' :            aggregations_num,\n",
        "            'CREDIT_DAY_OVERDUE' :     aggregations_num,\n",
        "            'DAYS_CREDIT_ENDDATE' :    aggregations_num,\n",
        "            'DAYS_ENDDATE_FACT' :      aggregations_num,\n",
        "            'AMT_CREDIT_MAX_OVERDUE' : aggregations_num,\n",
        "            'CNT_CREDIT_PROLONG':      aggregations_num,\n",
        "            'AMT_CREDIT_SUM':          aggregations_num,\n",
        "            'AMT_CREDIT_SUM_DEBT':     aggregations_num,\n",
        "            'AMT_CREDIT_SUM_LIMIT':    aggregations_num,\n",
        "            'AMT_CREDIT_SUM_OVERDUE':  aggregations_num,\n",
        "            'DAYS_CREDIT_UPDATE':      aggregations_num,\n",
        "            'AMT_ANNUITY':             aggregations_num,\n",
        "            #Domain knowledge\n",
        "            'BurDK_CREDIT_DURATION' :                    aggregations_num,\n",
        "            'BurDK_FLAG_OVERDUE_RECENT' :                aggregations_num,\n",
        "            'BurDK_CURRENT_AMT_OVERDUE_DURATION_RATIO' : aggregations_num,\n",
        "            'BurDK_AMT_OVERDUE_DURATION_LEFT_RATIO' :    aggregations_num,\n",
        "            'BurDK_CNT_PROLONGED_MAX_OVERDUE_MUL' :      aggregations_num,\n",
        "            'BurDK_CNT_PROLONGED_DURATION_RATIO' :       aggregations_num,\n",
        "            'BurDK_CURRENT_DEBT_TO_CREDIT_RATIO' :       aggregations_num,\n",
        "            'BurDK_CURRENT_CREDIT_DEBT_DIFF' :           aggregations_num,\n",
        "            'BurDK_AMT_ANNUITY_CREDIT_RATIO' :           aggregations_num,\n",
        "            'BurDK_CREDIT_ENDDATE_UPDATE_DIFF' :         aggregations_num,\n",
        "            #categorical\n",
        "            'CREDIT_ACTIVE' : aggregations_cat\n",
        "            }"
      ],
      "metadata": {
        "papermill": {
          "duration": 0.09055,
          "end_time": "2023-07-19T07:13:14.474675",
          "exception": false,
          "start_time": "2023-07-19T07:13:14.384125",
          "status": "completed"
        },
        "tags": [],
        "id": "5s33cfRyNGH2",
        "execution": {
          "iopub.status.busy": "2023-09-06T15:23:40.187079Z",
          "iopub.execute_input": "2023-09-06T15:23:40.187479Z",
          "iopub.status.idle": "2023-09-06T15:23:40.195035Z",
          "shell.execute_reply.started": "2023-09-06T15:23:40.187446Z",
          "shell.execute_reply": "2023-09-06T15:23:40.193712Z"
        },
        "trusted": true
      },
      "execution_count": null,
      "outputs": []
    },
    {
      "cell_type": "code",
      "source": [
        "# Trier les données et les regrouper par SK_ID_CURR (identifiant du client).\n",
        "dfbureau = dfbureau.sort_values(by = ['SK_ID_CURR','DAYS_CREDIT_ENDDATE'])\n",
        "dfbureau_agg = dfbureau.groupby('SK_ID_CURR').agg(aggregations_for_bureau)\n",
        "\n",
        "# Corriger les noms de colonnes.\n",
        "dfbureau_agg.columns = ['_'.join(col) for col in dfbureau_agg.columns.values]\n",
        "\n",
        "# Examiner les résultats.\n",
        "dfbureau_agg.head()"
      ],
      "metadata": {
        "papermill": {
          "duration": 94.647424,
          "end_time": "2023-07-19T07:14:49.202065",
          "exception": false,
          "start_time": "2023-07-19T07:13:14.554641",
          "status": "completed"
        },
        "tags": [],
        "id": "kh4vBIIjNGH2",
        "execution": {
          "iopub.status.busy": "2023-09-06T15:23:40.196714Z",
          "iopub.execute_input": "2023-09-06T15:23:40.197485Z",
          "iopub.status.idle": "2023-09-06T15:25:07.997853Z",
          "shell.execute_reply.started": "2023-09-06T15:23:40.197448Z",
          "shell.execute_reply": "2023-09-06T15:25:07.996786Z"
        },
        "trusted": true
      },
      "execution_count": null,
      "outputs": []
    },
    {
      "cell_type": "markdown",
      "source": [
        "### APPLICATION_TRAIN"
      ],
      "metadata": {
        "papermill": {
          "duration": 0.080922,
          "end_time": "2023-07-19T07:14:49.367049",
          "exception": false,
          "start_time": "2023-07-19T07:14:49.286127",
          "status": "completed"
        },
        "tags": [],
        "id": "FpIejCaRNGH2"
      }
    },
    {
      "cell_type": "markdown",
      "source": [
        "Les valeurs numériques manquantes sont remplacées par 0.\n",
        "\n",
        "Les deux caractéristiques catégorielles (OCCUPATION_TYPE et NAME_TYPE_SUITE) ont une catégorie propre.\n",
        "\n",
        "Dans ce jeu de données, l'ID SK_ID_CURR est unique, donc aucune agrégation n'est effectuée."
      ],
      "metadata": {
        "papermill": {
          "duration": 0.08128,
          "end_time": "2023-07-19T07:14:49.528867",
          "exception": false,
          "start_time": "2023-07-19T07:14:49.447587",
          "status": "completed"
        },
        "tags": [],
        "id": "3ZnWO1rNNGH3"
      }
    },
    {
      "cell_type": "code",
      "source": [
        "# En plus des colonnes trouvées avec des valeurs NaN dans la tâche A-2, nous devons également effectuer\n",
        "# une imputation pour la colonne DAYS_EMPLOYED, car nous avions remplacé la valeur 365243 par NaN.\n",
        "\n",
        "numerical_columns = ['OWN_CAR_AGE','AMT_GOODS_PRICE','AMT_ANNUITY','DAYS_EMPLOYED', 'DAYS_LAST_PHONE_CHANGE'\n",
        "                     ,'EXT_SOURCE_1','EXT_SOURCE_3','EXT_SOURCE_2'\n",
        "                     ,'AMT_REQ_CREDIT_BUREAU_HOUR','AMT_REQ_CREDIT_BUREAU_DAY','AMT_REQ_CREDIT_BUREAU_WEEK'\n",
        "                     ,'AMT_REQ_CREDIT_BUREAU_MON','AMT_REQ_CREDIT_BUREAU_QRT','AMT_REQ_CREDIT_BUREAU_YEAR'\n",
        "                     ,'CNT_FAM_MEMBERS']\n",
        "dfapptraintest[numerical_columns] = dfapptraintest[numerical_columns].fillna(0)\n",
        "\n",
        "dfapptraintest['OCCUPATION_TYPE'] = dfapptraintest['OCCUPATION_TYPE'].cat.add_categories(\"Kategorie_NaN\").fillna(\"Kategorie_NaN\")\n",
        "dfapptraintest['NAME_TYPE_SUITE'] = dfapptraintest['NAME_TYPE_SUITE'].cat.add_categories(\"Kategorie_NaN\").fillna(\"Kategorie_NaN\")"
      ],
      "metadata": {
        "papermill": {
          "duration": 0.293627,
          "end_time": "2023-07-19T07:14:49.930091",
          "exception": false,
          "start_time": "2023-07-19T07:14:49.636464",
          "status": "completed"
        },
        "tags": [],
        "id": "zn_ahazYNGH3",
        "execution": {
          "iopub.status.busy": "2023-09-06T15:25:07.999448Z",
          "iopub.execute_input": "2023-09-06T15:25:07.999808Z",
          "iopub.status.idle": "2023-09-06T15:25:08.046868Z",
          "shell.execute_reply.started": "2023-09-06T15:25:07.999775Z",
          "shell.execute_reply": "2023-09-06T15:25:08.045857Z"
        },
        "trusted": true
      },
      "execution_count": null,
      "outputs": []
    },
    {
      "cell_type": "code",
      "source": [
        "# En se basant sur les connaissances du domaine, les caractéristiques demandées sont ajoutées.\n",
        "# Toutes les caractéristiques nouvellement ajoutées (manuellement) recevront le préfixe \"AppDK\".\n",
        "\n",
        "#Ratio par rapport à AMT_CREDIT.\n",
        "dfapptraintest['AppDK_ANNUITY_CREDIT_RATIO'] = dfapptraintest['AMT_ANNUITY']/(dfapptraintest['AMT_CREDIT']+ 0.00001)\n",
        "dfapptraintest['AppDK_GOODS_CREDIT_RATIO'] = dfapptraintest['AMT_GOODS_PRICE']/(dfapptraintest['AMT_CREDIT']+ 0.00001)\n",
        "\n",
        "# Ratio par rapport à AMT_INCOME_TOTAL.\n",
        "dfapptraintest['AppDK_ANNUITY_INCOME_RATIO'] = dfapptraintest['AMT_ANNUITY']/(dfapptraintest['AMT_INCOME_TOTAL']+ 0.00001)\n",
        "dfapptraintest['AppDK_CREDIT_INCOME_RATIO'] = dfapptraintest['AMT_CREDIT']/(dfapptraintest['AMT_INCOME_TOTAL']+ 0.00001)\n",
        "dfapptraintest['AppDK_GOODS_INCOME_RATIO'] = dfapptraintest['AMT_GOODS_PRICE']/(dfapptraintest['AMT_INCOME_TOTAL']+ 0.00001)\n",
        "dfapptraintest['AppDK_CNT_FAM_INCOME_RATIO'] = dfapptraintest['AMT_INCOME_TOTAL']/(dfapptraintest['CNT_FAM_MEMBERS']+ 0.00001)\n",
        "\n",
        "# Ratios par rapport à DAYS_BIRTH et DAYS_EMPLOYED.\n",
        "dfapptraintest['AppDK_EMPLOYED_BIRTH_RATIO'] = dfapptraintest['DAYS_EMPLOYED']/(dfapptraintest['DAYS_BIRTH']+ 0.00001)\n",
        "dfapptraintest['AppDK_INCOME_EMPLOYED_RATIO'] = dfapptraintest['AMT_INCOME_TOTAL']/(dfapptraintest['DAYS_EMPLOYED']+ 0.00001)\n",
        "dfapptraintest['AppDK_INCOME_BIRTH_RATIO'] = dfapptraintest['AMT_INCOME_TOTAL']/(dfapptraintest['DAYS_BIRTH']+ 0.00001)\n",
        "dfapptraintest['AppDK_CAR_BIRTH_RATIO'] = dfapptraintest['OWN_CAR_AGE'] / (dfapptraintest['DAYS_BIRTH']+ 0.00001)\n",
        "dfapptraintest['AppDK_CAR_EMPLOYED_RATIO'] = dfapptraintest['OWN_CAR_AGE'] / (dfapptraintest['DAYS_EMPLOYED']+ 0.00001)"
      ],
      "metadata": {
        "papermill": {
          "duration": 0.159836,
          "end_time": "2023-07-19T07:14:50.211207",
          "exception": false,
          "start_time": "2023-07-19T07:14:50.051371",
          "status": "completed"
        },
        "tags": [],
        "id": "4on0OU1GNGH3",
        "execution": {
          "iopub.status.busy": "2023-09-06T15:25:08.048447Z",
          "iopub.execute_input": "2023-09-06T15:25:08.048805Z",
          "iopub.status.idle": "2023-09-06T15:25:08.079178Z",
          "shell.execute_reply.started": "2023-09-06T15:25:08.048769Z",
          "shell.execute_reply": "2023-09-06T15:25:08.078287Z"
        },
        "trusted": true
      },
      "execution_count": null,
      "outputs": []
    },
    {
      "cell_type": "code",
      "source": [
        "# Vérification des remplacements.\n",
        "dfapptraintest.isnull().sum().sum()"
      ],
      "metadata": {
        "papermill": {
          "duration": 0.168972,
          "end_time": "2023-07-19T07:14:50.521348",
          "exception": false,
          "start_time": "2023-07-19T07:14:50.352376",
          "status": "completed"
        },
        "tags": [],
        "id": "KaQXl_uCNGH3",
        "execution": {
          "iopub.status.busy": "2023-09-06T15:25:08.080679Z",
          "iopub.execute_input": "2023-09-06T15:25:08.081035Z",
          "iopub.status.idle": "2023-09-06T15:25:08.112910Z",
          "shell.execute_reply.started": "2023-09-06T15:25:08.081002Z",
          "shell.execute_reply": "2023-09-06T15:25:08.111906Z"
        },
        "trusted": true
      },
      "execution_count": null,
      "outputs": []
    },
    {
      "cell_type": "markdown",
      "source": [
        "### 4 b)"
      ],
      "metadata": {
        "papermill": {
          "duration": 0.124451,
          "end_time": "2023-07-19T07:14:50.771819",
          "exception": false,
          "start_time": "2023-07-19T07:14:50.647368",
          "status": "completed"
        },
        "tags": [],
        "id": "2UID3rBxNGH4"
      }
    },
    {
      "cell_type": "markdown",
      "source": [
        "Il convient de veiller à ajouter des caractéristiques qui apportent une valeur informative supplémentaire et qui ne sont pas fortement corrélées avec les caractéristiques existantes, afin d'éviter le surajustement (overfitting). L'interprétabilité des modèles peut également en souffrir si les nouvelles caractéristiques introduites n'apportent pas d'informations distinctes. Il est important d'éviter cela.\n",
        "\n",
        "Les matrices de corrélation permettent de garantir la qualité des nouvelles caractéristiques introduites."
      ],
      "metadata": {
        "papermill": {
          "duration": 0.081093,
          "end_time": "2023-07-19T07:14:51.254363",
          "exception": false,
          "start_time": "2023-07-19T07:14:51.17327",
          "status": "completed"
        },
        "tags": [],
        "id": "Uh4u9mfxNGH4"
      }
    },
    {
      "cell_type": "markdown",
      "source": [
        "<br>\n",
        "<a id=\"A5\"></a>\n",
        "<hr style=\"border:1px solid black\"> </hr>\n",
        "<h1 style=\"font-size:18px; font-weight: bold;\">Tâche A-5 : Encodage</h1>\n",
        "<hr style=\"border:1px solid black\"> </hr>"
      ],
      "metadata": {
        "papermill": {
          "duration": 0.080859,
          "end_time": "2023-07-19T07:14:51.465674",
          "exception": false,
          "start_time": "2023-07-19T07:14:51.384815",
          "status": "completed"
        },
        "tags": [],
        "id": "DDYKtQMXNGH5"
      }
    },
    {
      "cell_type": "markdown",
      "source": [
        "**Expliquez l'utilité des procédures d'encodage dans le contexte de l'apprentissage automatique supervisé. Décrivez à la fois la méthode d'encodage one-hot et la méthode d'encodage par étiquette (label encoding), et abordez pour chaque méthode un avantage et un inconvénient.**\n",
        "\n",
        "**Ensuite, les caractéristiques catégorielles des trois ensembles de données agrégées de la tâche précédente doivent être préparées comme suit :**\n",
        "\n",
        "  - **Pour toutes les caractéristiques ayant au plus deux catégories, un encodage par étiquette (label encoding) doit être effectué.**\n",
        "  - **Pour toutes les caractéristiques avec plus de deux catégories, le codage one-hot sera effectué.**"
      ],
      "metadata": {
        "papermill": {
          "duration": 0.080789,
          "end_time": "2023-07-19T07:14:51.629487",
          "exception": false,
          "start_time": "2023-07-19T07:14:51.548698",
          "status": "completed"
        },
        "tags": [],
        "id": "pCsLT9BKNGH5"
      }
    },
    {
      "cell_type": "markdown",
      "source": [
        "\n",
        "De nombreux algorithmes d'apprentissage automatique nécessitent le traitement de valeurs numériques (une exception est par exemple LightGBM). Par conséquent, les valeurs catégorielles doivent être encodées numériquement avant d'être traitées. Pour cela, il existe plusieurs méthodes :\n",
        "\n",
        "Dans la partie 2, les nombres de variables catégorielles ont déjà été déterminés pour les trois ensembles de données : 11 (application_train), 8 (previous_application) et 1 (bureau)."
      ],
      "metadata": {
        "papermill": {
          "duration": 0.10022,
          "end_time": "2023-07-19T07:14:52.00952",
          "exception": false,
          "start_time": "2023-07-19T07:14:51.9093",
          "status": "completed"
        },
        "tags": [],
        "id": "9g9rBxgpNGH6"
      }
    },
    {
      "cell_type": "code",
      "source": [
        "dfapptraintest.head()"
      ],
      "metadata": {
        "papermill": {
          "duration": 0.143798,
          "end_time": "2023-07-19T07:14:52.235522",
          "exception": false,
          "start_time": "2023-07-19T07:14:52.091724",
          "status": "completed"
        },
        "tags": [],
        "id": "O9wxterJNGH6",
        "execution": {
          "iopub.status.busy": "2023-09-06T15:25:08.114426Z",
          "iopub.execute_input": "2023-09-06T15:25:08.114781Z",
          "iopub.status.idle": "2023-09-06T15:25:08.172176Z",
          "shell.execute_reply.started": "2023-09-06T15:25:08.114749Z",
          "shell.execute_reply": "2023-09-06T15:25:08.171184Z"
        },
        "trusted": true
      },
      "execution_count": null,
      "outputs": []
    },
    {
      "cell_type": "code",
      "source": [
        "# application_traintest:\n",
        "labelenc = LabelEncoder()\n",
        "count = 0\n",
        "columns_to_exclude = ['TARGET', 'TYPE']\n",
        "\n",
        "columns_OHE = []\n",
        "for col in dfapptraintest:\n",
        "    if (dfapptraintest[col].dtype == 'category') and (col not in columns_to_exclude):\n",
        "        if len(list(dfapptraintest[col].unique())) <= 2:\n",
        "               labelenc.fit(dfapptraintest[col])\n",
        "               dfapptraintest[col] = labelenc.transform(dfapptraintest[col])\n",
        "               count += 1\n",
        "        else:\n",
        "            columns_OHE.append(col)\n",
        "\n",
        "print('Label encoding: Total for ' + str(count) + ' columns.')\n",
        "\n",
        "dfapptraintest = pd.get_dummies(dfapptraintest, columns=columns_OHE)"
      ],
      "metadata": {
        "papermill": {
          "duration": 0.876311,
          "end_time": "2023-07-19T07:14:53.198786",
          "exception": false,
          "start_time": "2023-07-19T07:14:52.322475",
          "status": "completed"
        },
        "tags": [],
        "id": "xeMsvlNGNGH6",
        "execution": {
          "iopub.status.busy": "2023-09-06T15:25:08.173459Z",
          "iopub.execute_input": "2023-09-06T15:25:08.173865Z",
          "iopub.status.idle": "2023-09-06T15:25:08.949518Z",
          "shell.execute_reply.started": "2023-09-06T15:25:08.173833Z",
          "shell.execute_reply": "2023-09-06T15:25:08.948367Z"
        },
        "trusted": true
      },
      "execution_count": null,
      "outputs": []
    },
    {
      "cell_type": "code",
      "source": [
        "dfapptraintest.head()"
      ],
      "metadata": {
        "papermill": {
          "duration": 0.176446,
          "end_time": "2023-07-19T07:14:53.4589",
          "exception": false,
          "start_time": "2023-07-19T07:14:53.282454",
          "status": "completed"
        },
        "tags": [],
        "id": "lTuBmLRjNGH6",
        "execution": {
          "iopub.status.busy": "2023-09-06T15:25:08.950916Z",
          "iopub.execute_input": "2023-09-06T15:25:08.951357Z",
          "iopub.status.idle": "2023-09-06T15:25:09.064593Z",
          "shell.execute_reply.started": "2023-09-06T15:25:08.951321Z",
          "shell.execute_reply": "2023-09-06T15:25:09.063565Z"
        },
        "trusted": true
      },
      "execution_count": null,
      "outputs": []
    },
    {
      "cell_type": "code",
      "source": [
        "# previous_application:\n",
        "labelenc = LabelEncoder()\n",
        "count = 0\n",
        "\n",
        "for col in dfprevapp_agg:\n",
        "    if dfprevapp_agg[col].dtype == 'category':\n",
        "        if len(list(dfprevapp_agg[col].unique())) <= 2:\n",
        "               labelenc.fit(dfprevapp_agg[col])\n",
        "               dfprevapp_agg[col] = labelenc.transform(dfprevapp_agg[col])\n",
        "               count += 1\n",
        "\n",
        "print('A total of ' + str(count) + ' columns were encoded.')\n",
        "\n",
        "# Encodage one-hot pour les variables catégorielles restantes :\n",
        "dfprevapp_agg = pd.get_dummies(dfprevapp_agg)\n",
        "\n",
        "dfprevapp_agg.head()"
      ],
      "metadata": {
        "papermill": {
          "duration": 1.188132,
          "end_time": "2023-07-19T07:14:54.735796",
          "exception": false,
          "start_time": "2023-07-19T07:14:53.547664",
          "status": "completed"
        },
        "tags": [],
        "id": "nyi5imMSNGH7",
        "execution": {
          "iopub.status.busy": "2023-09-06T15:25:09.066142Z",
          "iopub.execute_input": "2023-09-06T15:25:09.066615Z",
          "iopub.status.idle": "2023-09-06T15:25:10.122027Z",
          "shell.execute_reply.started": "2023-09-06T15:25:09.066582Z",
          "shell.execute_reply": "2023-09-06T15:25:10.120978Z"
        },
        "trusted": true
      },
      "execution_count": null,
      "outputs": []
    },
    {
      "cell_type": "code",
      "source": [
        "# Attention : Encodage par étiquettes sur l'ensemble de données agrégé ! Des divergences par rapport aux tests peuvent être attendues !\n",
        "# bureau:\n",
        "labelenc = LabelEncoder()\n",
        "count = 0\n",
        "\n",
        "for col in dfbureau_agg:\n",
        "    if dfbureau_agg[col].dtype == 'category':\n",
        "        if len(list(dfbureau_agg[col].unique())) <= 2:\n",
        "               labelenc.fit(dfbureau_agg[col])\n",
        "               dfbureau_agg[col] = labelenc.transform(dfbureau_agg[col])\n",
        "               count += 1\n",
        "\n",
        "print('A total of ' + str(count) + ' columns were encoded.')\n",
        "\n",
        "# One-hot encoding pour les variables catégorielles restantes:\n",
        "dfbureau_agg = pd.get_dummies(dfbureau_agg)\n",
        "\n",
        "dfbureau_agg.head()"
      ],
      "metadata": {
        "papermill": {
          "duration": 0.498478,
          "end_time": "2023-07-19T07:14:55.327586",
          "exception": false,
          "start_time": "2023-07-19T07:14:54.829108",
          "status": "completed"
        },
        "tags": [],
        "id": "YpuI6f6JNGH7",
        "execution": {
          "iopub.status.busy": "2023-09-06T15:25:10.123612Z",
          "iopub.execute_input": "2023-09-06T15:25:10.123962Z",
          "iopub.status.idle": "2023-09-06T15:25:10.531808Z",
          "shell.execute_reply.started": "2023-09-06T15:25:10.123930Z",
          "shell.execute_reply": "2023-09-06T15:25:10.530748Z"
        },
        "trusted": true
      },
      "execution_count": null,
      "outputs": []
    },
    {
      "cell_type": "markdown",
      "source": [
        "<br>\n",
        "<a id=\"A6\"></a>\n",
        "<hr style=\"border:1px solid black\"> </hr>\n",
        "<h1 style=\"font-size:18px; font-weight:bold;\">Tâche A-6 : Agrégation du jeu de données principal</h1>\n",
        "<hr style=\"border:1px solid black\"> </hr>"
      ],
      "metadata": {
        "papermill": {
          "duration": 0.090505,
          "end_time": "2023-07-19T07:14:55.510498",
          "exception": false,
          "start_time": "2023-07-19T07:14:55.419993",
          "status": "completed"
        },
        "tags": [],
        "id": "SDD-pfcXNGH7"
      }
    },
    {
      "cell_type": "markdown",
      "source": [
        "**Dans cette section, le jeu de données doit être créé pour la modélisation. Pour ce faire, On utilise les ensembles de données encodés provenant de la tâche précédente comme suit :**\n",
        "\n",
        "- **Les données de bureau (sous forme agrégée) doivent être ajoutées à l'ensemble de données combiné des données d'entraînement et de test en utilisant une jointure gauche.**\n",
        "\n",
        "- **Ensuite, les données de previous_application (sous forme agrégée) doivent être ajoutées aux données de l'étape précédente.**\n",
        "- **Enfin, le nombre de lignes et de colonnes, ainsi que cinq colonnes aléatoires, du jeu de données final doivent être affichés.**\n",
        "\n",
        "**En fusionnant le jeu de données, de nouvelles \"valeurs manquantes\" (missing values) apparaissent. Celles-ci doivent être remplies avec la valeur 0.**\n",
        "\n",
        "**Enfin, le jeu de données doit être divisé en un ensemble d'entraînement et un ensemble de test. Les variables auxiliaires introduites doivent ensuite être supprimées.**"
      ],
      "metadata": {
        "papermill": {
          "duration": 0.091466,
          "end_time": "2023-07-19T07:14:55.692291",
          "exception": false,
          "start_time": "2023-07-19T07:14:55.600825",
          "status": "completed"
        },
        "tags": [],
        "id": "VQrQkyynNGH8"
      }
    },
    {
      "cell_type": "code",
      "source": [
        "# Ajout de dfbureau\n",
        "dfapptraintest_tmp1 = dfapptraintest.join(dfbureau_agg, how='left', on='SK_ID_CURR', rsuffix='_bureau')\n",
        "dfapptraintest_tmp1.head()"
      ],
      "metadata": {
        "papermill": {
          "duration": 0.631683,
          "end_time": "2023-07-19T07:14:56.595959",
          "exception": false,
          "start_time": "2023-07-19T07:14:55.964276",
          "status": "completed"
        },
        "tags": [],
        "id": "R7kt1m_wNGH8",
        "execution": {
          "iopub.status.busy": "2023-09-06T15:25:10.533540Z",
          "iopub.execute_input": "2023-09-06T15:25:10.533880Z",
          "iopub.status.idle": "2023-09-06T15:25:11.113498Z",
          "shell.execute_reply.started": "2023-09-06T15:25:10.533848Z",
          "shell.execute_reply": "2023-09-06T15:25:11.112444Z"
        },
        "trusted": true
      },
      "execution_count": null,
      "outputs": []
    },
    {
      "cell_type": "code",
      "source": [
        "# Ajout de dfprevapp\n",
        "df_all = dfapptraintest_tmp1.join(dfprevapp_agg, how='left', on='SK_ID_CURR', rsuffix='_prev')\n",
        "df_all.sample(5)"
      ],
      "metadata": {
        "papermill": {
          "duration": 1.995343,
          "end_time": "2023-07-19T07:14:58.68966",
          "exception": false,
          "start_time": "2023-07-19T07:14:56.694317",
          "status": "completed"
        },
        "tags": [],
        "id": "JuMcTd35NGH8",
        "execution": {
          "iopub.status.busy": "2023-09-06T15:25:11.114767Z",
          "iopub.execute_input": "2023-09-06T15:25:11.115657Z",
          "iopub.status.idle": "2023-09-06T15:25:13.473492Z",
          "shell.execute_reply.started": "2023-09-06T15:25:11.115621Z",
          "shell.execute_reply": "2023-09-06T15:25:13.472572Z"
        },
        "trusted": true
      },
      "execution_count": null,
      "outputs": []
    },
    {
      "cell_type": "code",
      "source": [
        "df_all.shape"
      ],
      "metadata": {
        "papermill": {
          "duration": 0.112203,
          "end_time": "2023-07-19T07:14:58.906913",
          "exception": false,
          "start_time": "2023-07-19T07:14:58.79471",
          "status": "completed"
        },
        "tags": [],
        "id": "5DBuwmumNGH8",
        "execution": {
          "iopub.status.busy": "2023-09-06T15:25:13.474738Z",
          "iopub.execute_input": "2023-09-06T15:25:13.475327Z",
          "iopub.status.idle": "2023-09-06T15:25:13.483165Z",
          "shell.execute_reply.started": "2023-09-06T15:25:13.475292Z",
          "shell.execute_reply": "2023-09-06T15:25:13.482012Z"
        },
        "trusted": true
      },
      "execution_count": null,
      "outputs": []
    },
    {
      "cell_type": "code",
      "source": [
        "df_all.dtypes"
      ],
      "metadata": {
        "execution": {
          "iopub.status.busy": "2023-09-06T16:44:21.528900Z",
          "iopub.execute_input": "2023-09-06T16:44:21.529368Z",
          "iopub.status.idle": "2023-09-06T16:44:21.540766Z",
          "shell.execute_reply.started": "2023-09-06T16:44:21.529333Z",
          "shell.execute_reply": "2023-09-06T16:44:21.539598Z"
        },
        "trusted": true,
        "id": "S3LcmlixCHyS"
      },
      "execution_count": null,
      "outputs": []
    },
    {
      "cell_type": "code",
      "source": [
        "# Vérifier les NaN (valeurs manquantes)\n",
        "df_all.isna().sum().sum()"
      ],
      "metadata": {
        "papermill": {
          "duration": 0.315306,
          "end_time": "2023-07-19T07:14:59.321757",
          "exception": false,
          "start_time": "2023-07-19T07:14:59.006451",
          "status": "completed"
        },
        "tags": [],
        "id": "6P5p3MX2NGH9",
        "execution": {
          "iopub.status.busy": "2023-09-06T15:25:13.484901Z",
          "iopub.execute_input": "2023-09-06T15:25:13.486078Z",
          "iopub.status.idle": "2023-09-06T15:25:19.330277Z",
          "shell.execute_reply.started": "2023-09-06T15:25:13.486048Z",
          "shell.execute_reply": "2023-09-06T15:25:19.329210Z"
        },
        "trusted": true
      },
      "execution_count": null,
      "outputs": []
    },
    {
      "cell_type": "code",
      "source": [
        "# Changez le type de données de TARGET en int.\n",
        "df_all = df_all.astype({'TARGET':'int'})\n",
        "\n",
        "# Changez le type de données de TYPE en int, où la valeur TRAIN est codée comme 0 et la valeur TEST est codée comme 1.\n",
        "df_all['TYPE'].replace(\"TRAIN\", \"0\", inplace= True)\n",
        "df_all['TYPE'].replace(\"TEST\", \"1\", inplace= True)\n",
        "df_all = df_all.astype({'TYPE':'int'})\n",
        "\n",
        "# Maintenant que toutes les colonnes sont numériques, toutes les valeurs manquantes peuvent être remplacées par 0.\n",
        "df_all = df_all.fillna(0)\n",
        "\n",
        "# Il n'y a plus de valeurs manquantes désormais.\n",
        "df_all.isna().sum().sum()"
      ],
      "metadata": {
        "papermill": {
          "duration": 3.512991,
          "end_time": "2023-07-19T07:15:02.936746",
          "exception": false,
          "start_time": "2023-07-19T07:14:59.423755",
          "status": "completed"
        },
        "tags": [],
        "id": "H_Hi5DVmNGH9",
        "execution": {
          "iopub.status.busy": "2023-09-06T15:25:19.332034Z",
          "iopub.execute_input": "2023-09-06T15:25:19.332424Z",
          "iopub.status.idle": "2023-09-06T15:25:41.024496Z",
          "shell.execute_reply.started": "2023-09-06T15:25:19.332372Z",
          "shell.execute_reply": "2023-09-06T15:25:41.023435Z"
        },
        "trusted": true
      },
      "execution_count": null,
      "outputs": []
    },
    {
      "cell_type": "code",
      "source": [
        "df_train = df_all[df_all['TYPE'] == 0]\n",
        "df_train = df_train.drop(['TYPE'], axis=1)\n",
        "df_train.shape"
      ],
      "metadata": {
        "papermill": {
          "duration": 0.784448,
          "end_time": "2023-07-19T07:15:03.828728",
          "exception": false,
          "start_time": "2023-07-19T07:15:03.04428",
          "status": "completed"
        },
        "tags": [],
        "id": "pJPDquyqNGH-",
        "execution": {
          "iopub.status.busy": "2023-09-06T15:25:41.025866Z",
          "iopub.execute_input": "2023-09-06T15:25:41.026293Z",
          "iopub.status.idle": "2023-09-06T15:25:43.064471Z",
          "shell.execute_reply.started": "2023-09-06T15:25:41.026260Z",
          "shell.execute_reply": "2023-09-06T15:25:43.063584Z"
        },
        "trusted": true
      },
      "execution_count": null,
      "outputs": []
    },
    {
      "cell_type": "code",
      "source": [
        "df_test = df_all[df_all['TYPE'] == 1]\n",
        "df_test = df_test.drop(['TYPE'], axis=1)\n",
        "df_test.shape"
      ],
      "metadata": {
        "papermill": {
          "duration": 0.379758,
          "end_time": "2023-07-19T07:15:04.315562",
          "exception": false,
          "start_time": "2023-07-19T07:15:03.935804",
          "status": "completed"
        },
        "tags": [],
        "id": "H9JMxbHVNGH-",
        "execution": {
          "iopub.status.busy": "2023-09-06T15:25:43.065994Z",
          "iopub.execute_input": "2023-09-06T15:25:43.066341Z",
          "iopub.status.idle": "2023-09-06T15:25:43.740724Z",
          "shell.execute_reply.started": "2023-09-06T15:25:43.066308Z",
          "shell.execute_reply": "2023-09-06T15:25:43.739654Z"
        },
        "trusted": true
      },
      "execution_count": null,
      "outputs": []
    },
    {
      "cell_type": "markdown",
      "source": [
        "Contrôle de qualité : Les ensembles d'entraînement et de test contiennent à nouveau le même nombre de lignes que dans la tâc"
      ],
      "metadata": {
        "papermill": {
          "duration": 0.100277,
          "end_time": "2023-07-19T07:15:04.521942",
          "exception": false,
          "start_time": "2023-07-19T07:15:04.421665",
          "status": "completed"
        },
        "tags": [],
        "id": "A-kd-gbENGH-"
      }
    },
    {
      "cell_type": "markdown",
      "source": [
        "<br>\n",
        "<a id=\"A7\"></a>\n",
        "<hr style=\"border:1px solid black\"> </hr>\n",
        "<h1 style=\"font-size:18px; font-weight:bold;\">Tâche A-9 : Sélection de caractéristiques à l'aide d'un modèle Random Forest</h1>\n",
        "<hr style=\"border:1px solid black\"> </hr>"
      ],
      "metadata": {
        "papermill": {
          "duration": 0.098986,
          "end_time": "2023-07-19T07:15:05.119818",
          "exception": false,
          "start_time": "2023-07-19T07:15:05.020832",
          "status": "completed"
        },
        "tags": [],
        "id": "lyDNuI9lNGIA"
      }
    },
    {
      "cell_type": "markdown",
      "source": [
        "**En alternative à la valeur d'information (IV), un modèle Random Forest avec 250 arbres et au moins 25 points de données par feuille doit être calculé. L'importance des caractéristiques (FI) doit être représentée graphiquement pour les 20 meilleures caractéristiques. [Nombre d'arbres, taille des feuilles et top 20 doublés]**\n",
        "\n",
        "**Ensuite, le jeu de données d'entraînement doit être modifié de manière à ne contenir que les colonnes avec une importance de caractéristique (FI) supérieure ou égale à 0,001, en plus des colonnes TARGET et SK_ID_CURR [IV retirée].**\n",
        "\n",
        "**_Remarque : À la fin de cette tâche, le jeu de données d'entraînement devrait contenir au moins 100 colonnes. Si ce n'est pas le cas, les seuils pour IV et FI doivent être ajustés pour obtenir au moins 100 colonnes._**"
      ],
      "metadata": {
        "papermill": {
          "duration": 0.099549,
          "end_time": "2023-07-19T07:15:05.319521",
          "exception": false,
          "start_time": "2023-07-19T07:15:05.219972",
          "status": "completed"
        },
        "tags": [],
        "id": "3rls9jRWNGIA"
      }
    },
    {
      "cell_type": "code",
      "source": [
        "# Entraînement du Random Forest\n",
        "tic = time.time()\n",
        "rf = RandomForestClassifier(n_estimators = 500, min_samples_leaf = 50, random_state = 42, n_jobs=-1)\n",
        "X = df_train.loc[:, df_train.columns != 'TARGET']\n",
        "y = df_train.loc[:, df_train.columns == 'TARGET']\n",
        "\n",
        "rf.fit(X, y)\n",
        "print(\"time (sec):\" + \"%6.0f\" % (time.time() - tic))"
      ],
      "metadata": {
        "id": "MV46SJX6a6Uh",
        "execution": {
          "iopub.status.busy": "2023-09-06T15:25:43.742274Z",
          "iopub.execute_input": "2023-09-06T15:25:43.742648Z",
          "iopub.status.idle": "2023-09-06T15:34:49.536094Z",
          "shell.execute_reply.started": "2023-09-06T15:25:43.742614Z",
          "shell.execute_reply": "2023-09-06T15:34:49.535083Z"
        },
        "trusted": true
      },
      "execution_count": null,
      "outputs": []
    },
    {
      "cell_type": "code",
      "source": [
        "# Afficher l'importance des caractéristiques : Top 20\n",
        "feat_importances = pd.Series(rf.feature_importances_, index=X.columns)\n",
        "feat_importances.nlargest(20).plot(kind='barh')"
      ],
      "metadata": {
        "execution": {
          "iopub.status.busy": "2023-09-06T15:34:49.537714Z",
          "iopub.execute_input": "2023-09-06T15:34:49.538052Z",
          "iopub.status.idle": "2023-09-06T15:34:50.053944Z",
          "shell.execute_reply.started": "2023-09-06T15:34:49.538019Z",
          "shell.execute_reply": "2023-09-06T15:34:50.053048Z"
        },
        "trusted": true,
        "id": "3RXndXN0CHyU"
      },
      "execution_count": null,
      "outputs": []
    },
    {
      "cell_type": "code",
      "source": [
        "feat_imp = pd.DataFrame({'Variable':feat_importances.index, 'FI': feat_importances.values})\n",
        "feat_imp['keep_var'] = feat_imp.apply(lambda row_: (row_.FI >= 0.001), axis=1)\n",
        "keep_columns = feat_imp[feat_imp['keep_var'] == True].reset_index().drop(['index', 'keep_var'], axis=1)\n",
        "len(keep_columns)"
      ],
      "metadata": {
        "papermill": {
          "duration": 0.128709,
          "end_time": "2023-07-19T07:24:13.029064",
          "exception": false,
          "start_time": "2023-07-19T07:24:12.900355",
          "status": "completed"
        },
        "tags": [],
        "id": "CaZACe4hNGIC",
        "execution": {
          "iopub.status.busy": "2023-09-06T15:34:50.055219Z",
          "iopub.execute_input": "2023-09-06T15:34:50.056160Z",
          "iopub.status.idle": "2023-09-06T15:34:50.076670Z",
          "shell.execute_reply.started": "2023-09-06T15:34:50.056126Z",
          "shell.execute_reply": "2023-09-06T15:34:50.075662Z"
        },
        "trusted": true
      },
      "execution_count": null,
      "outputs": []
    },
    {
      "cell_type": "code",
      "source": [
        "columns_to_keep = ['SK_ID_CURR', 'TARGET']\n",
        "\n",
        "columns_to_keep.extend(keep_columns['Variable'].tolist())\n",
        "print(columns_to_keep)"
      ],
      "metadata": {
        "papermill": {
          "duration": 0.112882,
          "end_time": "2023-07-19T07:24:13.247896",
          "exception": false,
          "start_time": "2023-07-19T07:24:13.135014",
          "status": "completed"
        },
        "tags": [],
        "id": "YLFcLnd3NGIC",
        "execution": {
          "iopub.status.busy": "2023-09-06T15:34:50.077944Z",
          "iopub.execute_input": "2023-09-06T15:34:50.078313Z",
          "iopub.status.idle": "2023-09-06T15:34:50.089259Z",
          "shell.execute_reply.started": "2023-09-06T15:34:50.078280Z",
          "shell.execute_reply": "2023-09-06T15:34:50.088241Z"
        },
        "trusted": true
      },
      "execution_count": null,
      "outputs": []
    },
    {
      "cell_type": "code",
      "source": [
        "df = df_train[columns_to_keep]"
      ],
      "metadata": {
        "papermill": {
          "duration": 0.181184,
          "end_time": "2023-07-19T07:24:13.530873",
          "exception": false,
          "start_time": "2023-07-19T07:24:13.349689",
          "status": "completed"
        },
        "tags": [],
        "id": "0huOPwrpNGID",
        "execution": {
          "iopub.status.busy": "2023-09-06T15:34:50.090771Z",
          "iopub.execute_input": "2023-09-06T15:34:50.091217Z",
          "iopub.status.idle": "2023-09-06T15:34:50.347876Z",
          "shell.execute_reply.started": "2023-09-06T15:34:50.091183Z",
          "shell.execute_reply": "2023-09-06T15:34:50.346867Z"
        },
        "trusted": true
      },
      "execution_count": null,
      "outputs": []
    },
    {
      "cell_type": "code",
      "source": [
        "df.to_csv('/kaggle/working/df_feat_imp.csv', index=False)\n"
      ],
      "metadata": {
        "execution": {
          "iopub.status.busy": "2023-09-06T16:15:06.371634Z",
          "iopub.execute_input": "2023-09-06T16:15:06.372567Z",
          "iopub.status.idle": "2023-09-06T16:15:39.342028Z",
          "shell.execute_reply.started": "2023-09-06T16:15:06.372524Z",
          "shell.execute_reply": "2023-09-06T16:15:39.341025Z"
        },
        "trusted": true,
        "id": "a0XW9wwICHyU"
      },
      "execution_count": null,
      "outputs": []
    }
  ]
}