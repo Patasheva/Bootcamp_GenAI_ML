{
 "cells": [
  {
   "cell_type": "code",
   "execution_count": 1,
   "metadata": {},
   "outputs": [],
   "source": [
    "import numpy as np "
   ]
  },
  {
   "cell_type": "code",
   "execution_count": 3,
   "metadata": {},
   "outputs": [
    {
     "name": "stdout",
     "output_type": "stream",
     "text": [
      "[0 1 2 3 4 5 6 7 8 9]\n"
     ]
    }
   ],
   "source": [
    "# Exercise 1\n",
    "array1 = np.arange(0,10)\n",
    "print(array1)"
   ]
  },
  {
   "cell_type": "code",
   "execution_count": 4,
   "metadata": {},
   "outputs": [
    {
     "name": "stdout",
     "output_type": "stream",
     "text": [
      "[3 2 0 1 2]\n"
     ]
    }
   ],
   "source": [
    "# Exercise 2\n",
    "list = [3.14, 2.17, 0, 1, 2]\n",
    "array_int = np.array(list, dtype=int)\n",
    "print(array_int)"
   ]
  },
  {
   "cell_type": "code",
   "execution_count": 6,
   "metadata": {},
   "outputs": [
    {
     "name": "stdout",
     "output_type": "stream",
     "text": [
      "[[1 2 3]\n",
      " [4 5 6]\n",
      " [7 8 9]]\n"
     ]
    }
   ],
   "source": [
    "# Exercise 3\n",
    "array_3_3 = np.arange(1,10).reshape(3,3)\n",
    "print(array_3_3)"
   ]
  },
  {
   "cell_type": "code",
   "execution_count": 12,
   "metadata": {},
   "outputs": [
    {
     "name": "stdout",
     "output_type": "stream",
     "text": [
      "[[0.83179612 0.63374231 0.71097535 0.62193423 0.80028569]\n",
      " [0.4484266  0.58646304 0.41569817 0.10140381 0.38047989]\n",
      " [0.59349219 0.18337042 0.1300168  0.68164178 0.97919759]\n",
      " [0.59592168 0.99214927 0.38406734 0.12007914 0.00173517]]\n"
     ]
    }
   ],
   "source": [
    "# Exercise 4\n",
    "array_4_5 = np.random.rand(4, 5)\n",
    "print(array_4_5)\n",
    "\n"
   ]
  },
  {
   "cell_type": "code",
   "execution_count": 15,
   "metadata": {},
   "outputs": [
    {
     "name": "stdout",
     "output_type": "stream",
     "text": [
      "[20 21 22 23 24]\n"
     ]
    }
   ],
   "source": [
    "# Exercise 5\n",
    "array = np.array([[21,22,23,22,22],[20, 21, 22, 23, 24],[21,22,23,22,22]])\n",
    "second_row = array[1,:]  \n",
    "print(second_row)"
   ]
  },
  {
   "cell_type": "code",
   "execution_count": 16,
   "metadata": {},
   "outputs": [
    {
     "name": "stdout",
     "output_type": "stream",
     "text": [
      "[0 1 2 3 4 5 6 7 8 9]\n"
     ]
    }
   ],
   "source": [
    "# Exercise 6\n",
    "array = np.array([9, 8, 7, 6, 5, 4, 3, 2, 1, 0])\n",
    "reversed_array = array[::-1]  \n",
    "print(reversed_array)"
   ]
  },
  {
   "cell_type": "code",
   "execution_count": 17,
   "metadata": {},
   "outputs": [
    {
     "name": "stdout",
     "output_type": "stream",
     "text": [
      "[[1. 0. 0. 0.]\n",
      " [0. 1. 0. 0.]\n",
      " [0. 0. 1. 0.]\n",
      " [0. 0. 0. 1.]]\n"
     ]
    }
   ],
   "source": [
    "# Exercise 7\n",
    "identity_matrix = np.eye(4)\n",
    "print(identity_matrix)"
   ]
  },
  {
   "cell_type": "code",
   "execution_count": 18,
   "metadata": {},
   "outputs": [
    {
     "name": "stdout",
     "output_type": "stream",
     "text": [
      "Sum: 45\n",
      "Average: 4.5\n"
     ]
    }
   ],
   "source": [
    "# Exercise 8\n",
    "array = np.array([0, 1, 2, 3, 4, 5, 6, 7, 8, 9])\n",
    "\n",
    "sum_array = np.sum(array)\n",
    "average_array = np.mean(array)\n",
    "\n",
    "print(f\"Sum: {sum_array}\")\n",
    "print(f\"Average: {average_array}\")"
   ]
  },
  {
   "cell_type": "code",
   "execution_count": 19,
   "metadata": {},
   "outputs": [
    {
     "name": "stdout",
     "output_type": "stream",
     "text": [
      "[[ 1  2  3  4  5]\n",
      " [ 6  7  8  9 10]\n",
      " [11 12 13 14 15]\n",
      " [16 17 18 19 20]]\n"
     ]
    }
   ],
   "source": [
    "# Exercise 9\n",
    "array_4_5 = np.arange(1,21).reshape(4,5)\n",
    "print(array_4_5)"
   ]
  },
  {
   "cell_type": "code",
   "execution_count": 21,
   "metadata": {},
   "outputs": [
    {
     "name": "stdout",
     "output_type": "stream",
     "text": [
      "Odd numbers: [1 3 5 7 9]\n"
     ]
    }
   ],
   "source": [
    "# Exercise 10\n",
    "array = np.array([0, 1, 2, 3, 4, 5, 6, 7, 8, 9])\n",
    "odd_numbers = array[array % 2 != 0]\n",
    "\n",
    "print(f\"Odd numbers: {odd_numbers}\")"
   ]
  }
 ],
 "metadata": {
  "kernelspec": {
   "display_name": "base",
   "language": "python",
   "name": "python3"
  },
  "language_info": {
   "codemirror_mode": {
    "name": "ipython",
    "version": 3
   },
   "file_extension": ".py",
   "mimetype": "text/x-python",
   "name": "python",
   "nbconvert_exporter": "python",
   "pygments_lexer": "ipython3",
   "version": "3.11.7"
  }
 },
 "nbformat": 4,
 "nbformat_minor": 2
}
