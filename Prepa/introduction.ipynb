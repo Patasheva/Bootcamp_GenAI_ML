{
 "cells": [
  {
   "cell_type": "code",
   "execution_count": 1,
   "id": "9aae3ce2",
   "metadata": {},
   "outputs": [],
   "source": [
    "# Exercise 1\n",
    "# 1\n",
    "first = \"Hello World\""
   ]
  },
  {
   "cell_type": "code",
   "execution_count": 2,
   "id": "ce16fc62",
   "metadata": {},
   "outputs": [],
   "source": [
    "# 2\n",
    "# This is a comment"
   ]
  },
  {
   "cell_type": "code",
   "execution_count": 3,
   "id": "6de25b3d",
   "metadata": {},
   "outputs": [
    {
     "name": "stdout",
     "output_type": "stream",
     "text": [
      "I AM A COMPUTER!\n"
     ]
    }
   ],
   "source": [
    "# 3\n",
    "print(\"I AM A COMPUTER!\")"
   ]
  },
  {
   "cell_type": "code",
   "execution_count": 5,
   "id": "5efb178e",
   "metadata": {},
   "outputs": [
    {
     "name": "stdout",
     "output_type": "stream",
     "text": [
      "Math is fun.\n"
     ]
    }
   ],
   "source": [
    "# 4\n",
    "if 1 < 2 and 4 > 2:\n",
    "   print(\"Math is fun.\")"
   ]
  },
  {
   "cell_type": "code",
   "execution_count": 7,
   "id": "4aee2392",
   "metadata": {},
   "outputs": [],
   "source": [
    "#5 \n",
    "nope = None"
   ]
  },
  {
   "cell_type": "code",
   "execution_count": 8,
   "id": "4a2f6cd5",
   "metadata": {},
   "outputs": [
    {
     "name": "stdout",
     "output_type": "stream",
     "text": [
      "False\n"
     ]
    }
   ],
   "source": [
    "#6\n",
    "result = True and False \n",
    "print(result)"
   ]
  },
  {
   "cell_type": "code",
   "execution_count": 10,
   "id": "a110b16d",
   "metadata": {},
   "outputs": [
    {
     "name": "stdout",
     "output_type": "stream",
     "text": [
      "17\n",
      "17\n"
     ]
    }
   ],
   "source": [
    "#7 \n",
    "string = \"What's my length?\"\n",
    "print(len(string))\n",
    "\n",
    "print(len(\"What's my length?\"))"
   ]
  },
  {
   "cell_type": "code",
   "execution_count": 11,
   "id": "8dfd5984",
   "metadata": {},
   "outputs": [
    {
     "name": "stdout",
     "output_type": "stream",
     "text": [
      "I AM SHOUTING\n"
     ]
    }
   ],
   "source": [
    "# 8\n",
    "string = \"i am shouting\"\n",
    "uppercase_string = string.upper()\n",
    "print(uppercase_string)"
   ]
  },
  {
   "cell_type": "code",
   "execution_count": 13,
   "id": "18db5c53",
   "metadata": {},
   "outputs": [
    {
     "name": "stdout",
     "output_type": "stream",
     "text": [
      "1000\n",
      "<class 'int'>\n"
     ]
    }
   ],
   "source": [
    "# 9 \n",
    "string = \"1000\"\n",
    "number = int(string)\n",
    "print(number)\n",
    "print(type(number))"
   ]
  },
  {
   "cell_type": "code",
   "execution_count": 14,
   "id": "4d98b643",
   "metadata": {},
   "outputs": [
    {
     "name": "stdout",
     "output_type": "stream",
     "text": [
      "4real\n"
     ]
    }
   ],
   "source": [
    "# 10\n",
    "num = 4\n",
    "string = \"real\"\n",
    "print(f\"{num}{string}\")"
   ]
  },
  {
   "cell_type": "code",
   "execution_count": 15,
   "id": "153a96e2",
   "metadata": {},
   "outputs": [
    {
     "name": "stdout",
     "output_type": "stream",
     "text": [
      "coolcoolcool\n"
     ]
    }
   ],
   "source": [
    "# 11\n",
    "result = 3 * \"cool\"\n",
    "print(result)"
   ]
  },
  {
   "cell_type": "code",
   "execution_count": 16,
   "id": "7b42f96d",
   "metadata": {},
   "outputs": [
    {
     "ename": "ZeroDivisionError",
     "evalue": "division by zero",
     "output_type": "error",
     "traceback": [
      "\u001b[0;31m---------------------------------------------------------------------------\u001b[0m",
      "\u001b[0;31mZeroDivisionError\u001b[0m                         Traceback (most recent call last)",
      "Cell \u001b[0;32mIn[16], line 2\u001b[0m\n\u001b[1;32m      1\u001b[0m \u001b[38;5;66;03m# 12\u001b[39;00m\n\u001b[0;32m----> 2\u001b[0m result \u001b[38;5;241m=\u001b[39m \u001b[38;5;241m1\u001b[39m\u001b[38;5;241m/\u001b[39m\u001b[38;5;241m0\u001b[39m\n\u001b[1;32m      3\u001b[0m \u001b[38;5;28mprint\u001b[39m(result)\n",
      "\u001b[0;31mZeroDivisionError\u001b[0m: division by zero"
     ]
    }
   ],
   "source": [
    "# 12\n",
    "result = 1/0\n",
    "print(result)"
   ]
  },
  {
   "cell_type": "code",
   "execution_count": 17,
   "id": "f7e06728",
   "metadata": {},
   "outputs": [
    {
     "data": {
      "text/plain": [
       "list"
      ]
     },
     "execution_count": 17,
     "metadata": {},
     "output_type": "execute_result"
    }
   ],
   "source": [
    "# 13\n",
    "type([])"
   ]
  },
  {
   "cell_type": "code",
   "execution_count": 21,
   "id": "bd32b573",
   "metadata": {},
   "outputs": [
    {
     "name": "stdout",
     "output_type": "stream",
     "text": [
      "What is your name?Beso\n",
      "Hello Beso!\n"
     ]
    }
   ],
   "source": [
    "# 14\n",
    "name = input(\"What is your name?\") \n",
    "print(f\"Hello {name}!\")"
   ]
  },
  {
   "cell_type": "code",
   "execution_count": 27,
   "id": "130bf549",
   "metadata": {},
   "outputs": [
    {
     "name": "stdout",
     "output_type": "stream",
     "text": [
      "Please type a number:0\n",
      "You picked 0!\n"
     ]
    }
   ],
   "source": [
    "# 15\n",
    "number = int(input(\"Please type a number:\"))\n",
    "if number < 0: \n",
    "   print(\"That number is less than 0!\")\n",
    "if number > 0: \n",
    "   print(\"That number is greater than 0!\")\n",
    "else: \n",
    "   print(\"You picked 0!\")"
   ]
  },
  {
   "cell_type": "code",
   "execution_count": 28,
   "id": "0de93f06",
   "metadata": {},
   "outputs": [
    {
     "name": "stdout",
     "output_type": "stream",
     "text": [
      "3\n"
     ]
    }
   ],
   "source": [
    "# 16 \n",
    "fruit = \"apple\"\n",
    "index_l = fruit.index(\"l\")\n",
    "print(index_l)"
   ]
  },
  {
   "cell_type": "code",
   "execution_count": 32,
   "id": "2ee2c0a3",
   "metadata": {},
   "outputs": [
    {
     "name": "stdout",
     "output_type": "stream",
     "text": [
      "Yes\n"
     ]
    }
   ],
   "source": [
    "# 17 \n",
    "music = \"xylophone\"\n",
    "if \"y\" in music:\n",
    "   print(\"Yes\")"
   ]
  },
  {
   "cell_type": "code",
   "execution_count": 33,
   "id": "c69da0ef",
   "metadata": {},
   "outputs": [
    {
     "name": "stdout",
     "output_type": "stream",
     "text": [
      "Yes\n"
     ]
    }
   ],
   "source": [
    "# 18\n",
    "string = \"my_string\"\n",
    "is_lowercase = string.islower()\n",
    "print(\"Yes\")"
   ]
  },
  {
   "cell_type": "code",
   "execution_count": 38,
   "id": "dd8ca193",
   "metadata": {},
   "outputs": [
    {
     "name": "stdout",
     "output_type": "stream",
     "text": [
      "Please type a humanYears: 10\n",
      "[10, 56, 64]\n"
     ]
    }
   ],
   "source": [
    "# Execrise 2 Cat's and Dog's Years\n",
    "humanYears = int(input(\"Please type a humanYears: \"))\n",
    "\n",
    "if humanYears == 1:\n",
    "    catYears = 15\n",
    "elif humanYears == 2:\n",
    "    catYears = 15 + 9\n",
    "else:\n",
    "    catYears = 15 + 9 + (humanYears - 2) * 4\n",
    "\n",
    "if humanYears == 1:\n",
    "    dogYears = 15\n",
    "elif humanYears == 2:\n",
    "    dogYears = 15 + 9\n",
    "else:\n",
    "    dogYears = 15 + 9 + (humanYears - 2) * 5\n",
    "        \n",
    "list = [humanYears,catYears,dogYears]\n",
    "print(list)\n"
   ]
  }
 ],
 "metadata": {
  "kernelspec": {
   "display_name": "Python 3",
   "language": "python",
   "name": "python3"
  },
  "language_info": {
   "codemirror_mode": {
    "name": "ipython",
    "version": 3
   },
   "file_extension": ".py",
   "mimetype": "text/x-python",
   "name": "python",
   "nbconvert_exporter": "python",
   "pygments_lexer": "ipython3",
   "version": "3.13.1"
  }
 },
 "nbformat": 4,
 "nbformat_minor": 5
}
