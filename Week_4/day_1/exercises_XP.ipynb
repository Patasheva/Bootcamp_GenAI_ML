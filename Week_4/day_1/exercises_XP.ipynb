{
 "cells": [
  {
   "cell_type": "markdown",
   "metadata": {
    "vscode": {
     "languageId": "plaintext"
    }
   },
   "source": [
    "# Exercise 1 Small Quizz\n",
    "1. Deep Learning peut entrainer les données non-structurées.\n",
    "2. Les réseaux neuronaux artificiels (RNA) imitent le cerveau humain en utilisant des couches interconnectées de neurones artificiels qui traitent les informations via des connexions pondérées, similaires aux synapses. Ils apprennent des modèles et prennent des décisions en ajustant ces pondérations grâce à l'entraînement, de la même manière que le cerveau renforce les voies neuronales en fonction de l'expérience.\n",
    "3. Le deep learning surpasse l'apprentissage automatique traditionnel sur de grands ensembles de données car ses réseaux de neurones profonds peuvent automatiquement extraire des caractéristiques complexes et capturer des relations non linéaires sans nécessiter de prétraitement manuel des données.\n",
    "4. Le challenge principale est de minimiser le loss de l'information mais créer un modèle performant. \n",
    "5. Feature engineering - création des variables explicatives pour prédire la varible-cible.\n",
    "6. Hidden layers - couches cachées d’un modèle de deep learning permettent d’extraire et de transformer progressivement les caractéristiques des données en capturant des relations complexes et abstraites.\n",
    "7. La fonction d’activation dans un réseau de neurones artificiel introduit de la non-linéarité, permettant au modèle d’apprendre des relations complexes entre les données. \n"
   ]
  },
  {
   "cell_type": "code",
   "execution_count": 1,
   "metadata": {},
   "outputs": [
    {
     "name": "stdout",
     "output_type": "stream",
     "text": [
      "Cas 1 (Température = 70°F, Pluie = 0): Go outside\n",
      "Cas 2 (Température = 50°F, Pluie = 1): Go outside\n"
     ]
    }
   ],
   "source": [
    "# Exercise 2\n",
    "def perceptron_decision(temperature, rain):\n",
    "    # Poids et biais\n",
    "    weight_temp = 0.6\n",
    "    weight_rain = 0.4\n",
    "    bias = 2\n",
    "\n",
    "    # Calcul de la somme pondérée\n",
    "    weighted_sum = (temperature * weight_temp) + (rain * weight_rain) + bias\n",
    "\n",
    "    # Application de la fonction d'activation (fonction de seuil)\n",
    "    if weighted_sum > 20:\n",
    "        return 1  # Oui, sortir dehors\n",
    "    else:\n",
    "        return 0  # Non, rester à l'intérieur\n",
    "\n",
    "# Cas 1 : Température = 70°F, Pluie = 0 (Non)\n",
    "case_1 = perceptron_decision(70, 0)\n",
    "print(f\"Cas 1 (Température = 70°F, Pluie = 0): {('Go outside' if case_1 == 1 else 'Stay inside')}\")\n",
    "\n",
    "# Cas 2 : Température = 50°F, Pluie = 1 (Oui)\n",
    "case_2 = perceptron_decision(50, 1)\n",
    "print(f\"Cas 2 (Température = 50°F, Pluie = 1): {('Go outside' if case_2 == 1 else 'Stay inside')}\")"
   ]
  },
  {
   "cell_type": "code",
   "execution_count": null,
   "metadata": {},
   "outputs": [
    {
     "data": {
      "image/png": "[encoded data removed]",
      "text/plain": [
       "<Figure size 1000x500 with 10 Axes>"
      ]
     },
     "metadata": {},
     "output_type": "display_data"
    }
   ],
   "source": [
    "# Exercise 3\n",
    "import tensorflow as tf\n",
    "from tensorflow.keras.datasets import mnist \n",
    "from tensorflow.keras.models import Sequential\n",
    "from tensorflow.keras.layers import Dense, Flatten\n",
    "from tensorflow.keras.utils import to_categorical\n",
    "import matplotlib.pyplot as plt \n",
    "\n",
    "# Load the MNIST dataset\n",
    "(x_train, y_train), (x_test, y_test) = mnist.load_data()\n",
    "\n",
    "plt.figure(figsize=(10, 5))\n",
    "for i in range(10):\n",
    "    plt.subplot(2, 5, i+1)\n",
    "    plt.imshow(x_train[i], cmap='gray')  # Affichage en niveaux de gris\n",
    "    plt.title(f\"Label: {y_train[i]}\")\n",
    "    plt.axis(\"off\")\n",
    "plt.show()\n"
   ]
  },
  {
   "cell_type": "code",
   "execution_count": 6,
   "metadata": {},
   "outputs": [
    {
     "name": "stderr",
     "output_type": "stream",
     "text": [
      "/opt/anaconda3/lib/python3.11/site-packages/keras/src/layers/reshaping/flatten.py:37: UserWarning: Do not pass an `input_shape`/`input_dim` argument to a layer. When using Sequential models, prefer using an `Input(shape)` object as the first layer in the model instead.\n",
      "  super().__init__(**kwargs)\n"
     ]
    },
    {
     "name": "stdout",
     "output_type": "stream",
     "text": [
      "Epoch 1/10\n",
      "\u001b[1m1875/1875\u001b[0m \u001b[32m━━━━━━━━━━━━━━━━━━━━\u001b[0m\u001b[37m\u001b[0m \u001b[1m3s\u001b[0m 1ms/step - accuracy: 0.8814 - loss: 0.4298 - val_accuracy: 0.9567 - val_loss: 0.1462\n",
      "Epoch 2/10\n",
      "\u001b[1m1875/1875\u001b[0m \u001b[32m━━━━━━━━━━━━━━━━━━━━\u001b[0m\u001b[37m\u001b[0m \u001b[1m3s\u001b[0m 1ms/step - accuracy: 0.9646 - loss: 0.1204 - val_accuracy: 0.9725 - val_loss: 0.0943\n",
      "Epoch 3/10\n",
      "\u001b[1m1875/1875\u001b[0m \u001b[32m━━━━━━━━━━━━━━━━━━━━\u001b[0m\u001b[37m\u001b[0m \u001b[1m2s\u001b[0m 1ms/step - accuracy: 0.9752 - loss: 0.0819 - val_accuracy: 0.9744 - val_loss: 0.0853\n",
      "Epoch 4/10\n",
      "\u001b[1m1875/1875\u001b[0m \u001b[32m━━━━━━━━━━━━━━━━━━━━\u001b[0m\u001b[37m\u001b[0m \u001b[1m2s\u001b[0m 1ms/step - accuracy: 0.9815 - loss: 0.0606 - val_accuracy: 0.9767 - val_loss: 0.0774\n",
      "Epoch 5/10\n",
      "\u001b[1m1875/1875\u001b[0m \u001b[32m━━━━━━━━━━━━━━━━━━━━\u001b[0m\u001b[37m\u001b[0m \u001b[1m2s\u001b[0m 1ms/step - accuracy: 0.9878 - loss: 0.0428 - val_accuracy: 0.9751 - val_loss: 0.0800\n",
      "Epoch 6/10\n",
      "\u001b[1m1875/1875\u001b[0m \u001b[32m━━━━━━━━━━━━━━━━━━━━\u001b[0m\u001b[37m\u001b[0m \u001b[1m2s\u001b[0m 1ms/step - accuracy: 0.9908 - loss: 0.0334 - val_accuracy: 0.9781 - val_loss: 0.0730\n",
      "Epoch 7/10\n",
      "\u001b[1m1875/1875\u001b[0m \u001b[32m━━━━━━━━━━━━━━━━━━━━\u001b[0m\u001b[37m\u001b[0m \u001b[1m2s\u001b[0m 1ms/step - accuracy: 0.9918 - loss: 0.0277 - val_accuracy: 0.9786 - val_loss: 0.0760\n",
      "Epoch 8/10\n",
      "\u001b[1m1875/1875\u001b[0m \u001b[32m━━━━━━━━━━━━━━━━━━━━\u001b[0m\u001b[37m\u001b[0m \u001b[1m2s\u001b[0m 1ms/step - accuracy: 0.9935 - loss: 0.0216 - val_accuracy: 0.9780 - val_loss: 0.0726\n",
      "Epoch 9/10\n",
      "\u001b[1m1875/1875\u001b[0m \u001b[32m━━━━━━━━━━━━━━━━━━━━\u001b[0m\u001b[37m\u001b[0m \u001b[1m2s\u001b[0m 1ms/step - accuracy: 0.9946 - loss: 0.0166 - val_accuracy: 0.9773 - val_loss: 0.0815\n",
      "Epoch 10/10\n",
      "\u001b[1m1875/1875\u001b[0m \u001b[32m━━━━━━━━━━━━━━━━━━━━\u001b[0m\u001b[37m\u001b[0m \u001b[1m2s\u001b[0m 1ms/step - accuracy: 0.9965 - loss: 0.0128 - val_accuracy: 0.9764 - val_loss: 0.0843\n",
      "\u001b[1m313/313\u001b[0m \u001b[32m━━━━━━━━━━━━━━━━━━━━\u001b[0m\u001b[37m\u001b[0m \u001b[1m0s\u001b[0m 617us/step - accuracy: 0.9740 - loss: 0.0996\n",
      "Test Accuracy: 0.9764\n"
     ]
    }
   ],
   "source": [
    "\n",
    "# Normalize the images (scale pixel values to [0,1])\n",
    "x_train, x_test = x_train / 255.0, x_test / 255.0\n",
    "\n",
    "# Convert labels to one-hot encoding\n",
    "y_train = to_categorical(y_train, 10)\n",
    "y_test = to_categorical(y_test, 10)\n",
    "\n",
    "# Define the model\n",
    "model = Sequential([\n",
    "    Flatten(input_shape=(28, 28)),  # Flatten the 28x28 images into a 1D array\n",
    "    Dense(128, activation='relu'),  # Hidden layer with 128 neurons and ReLU activation\n",
    "    Dense(10, activation='softmax')  # Output layer with 10 neurons (one for each digit)\n",
    "])\n",
    "\n",
    "# Compile the model\n",
    "model.compile(optimizer='adam', loss='categorical_crossentropy', metrics=['accuracy'])\n",
    "\n",
    "# Train the model\n",
    "model.fit(x_train, y_train, epochs=10, batch_size=32, validation_data=(x_test, y_test))\n",
    "\n",
    "# Evaluate the model\n",
    "test_loss, test_acc = model.evaluate(x_test, y_test)\n",
    "print(f\"Test Accuracy: {test_acc:.4f}\")\n"
   ]
  },
  {
   "cell_type": "code",
   "execution_count": 10,
   "metadata": {},
   "outputs": [
    {
     "name": "stdout",
     "output_type": "stream",
     "text": [
      "Predicted House Price: $51002.10\n"
     ]
    }
   ],
   "source": [
    "# Exercise 4 \n",
    "import numpy as np\n",
    "\n",
    "# Données d'entrée\n",
    "x1 = 2000  # Square Footage\n",
    "x2 = 3    # Number of Bedrooms\n",
    "\n",
    "# Poids et biais\n",
    "w1 = 0.5\n",
    "w2 = 0.7\n",
    "b = 50000\n",
    "\n",
    "# Calcul de la somme pondérée\n",
    "z = (x1 * w1) + (x2 * w2) + b\n",
    "\n",
    "# Fonction d'activation ReLU\n",
    "def relu(x):\n",
    "    return max(0, x)\n",
    "\n",
    "# Application de ReLU\n",
    "output = relu(z)\n",
    "\n",
    "# Affichage du résultat\n",
    "print(f\"Predicted House Price: ${output:.2f}\")"
   ]
  },
  {
   "cell_type": "code",
   "execution_count": 12,
   "metadata": {},
   "outputs": [
    {
     "name": "stdout",
     "output_type": "stream",
     "text": [
      "Initial Prediction: 36.8\n",
      "Loss: 1161.6200000000001\n",
      "Updated Weights: [ 2.628 38.86 ]\n",
      "Updated Bias: 10.482\n"
     ]
    }
   ],
   "source": [
    "# Exercise 5\n",
    "import numpy as np\n",
    "\n",
    "# Initialize input data (features)\n",
    "x = np.array([4, 80])  # 4 hours studied, previous test score: 80\n",
    "\n",
    "# Initialize weights and bias\n",
    "w = np.array([0.7, 0.3])  # Initial weights\n",
    "b = 10  # Initial bias\n",
    "\n",
    "# Forward Propagation\n",
    "def forward_propagation(x, w, b):\n",
    "    z = np.dot(x, w) + b  # Weighted sum\n",
    "    return z  # Linear activation (No ReLU here, it's a regression task)\n",
    "\n",
    "# Compute prediction\n",
    "y_pred = forward_propagation(x, w, b)\n",
    "y_true = 85  # Actual exam score\n",
    "\n",
    "# Compute Loss (Mean Squared Error)\n",
    "loss = 0.5 * (y_true - y_pred) ** 2\n",
    "\n",
    "# Compute Gradients\n",
    "grad_w = -(y_true - y_pred) * x  # Partial derivatives with respect to weights\n",
    "grad_b = -(y_true - y_pred)  # Partial derivative with respect to bias\n",
    "\n",
    "# Update Weights and Bias\n",
    "learning_rate = 0.01\n",
    "w_new = w - learning_rate * grad_w\n",
    "b_new = b - learning_rate * grad_b\n",
    "\n",
    "# Print Results\n",
    "print(\"Initial Prediction:\", y_pred)\n",
    "print(\"Loss:\", loss)\n",
    "print(\"Updated Weights:\", w_new)\n",
    "print(\"Updated Bias:\", b_new)"
   ]
  },
  {
   "cell_type": "code",
   "execution_count": null,
   "metadata": {},
   "outputs": [
    {
     "name": "stderr",
     "output_type": "stream",
     "text": [
      "/opt/anaconda3/lib/python3.11/site-packages/keras/src/layers/reshaping/flatten.py:37: UserWarning: Do not pass an `input_shape`/`input_dim` argument to a layer. When using Sequential models, prefer using an `Input(shape)` object as the first layer in the model instead.\n",
      "  super().__init__(**kwargs)\n"
     ]
    },
    {
     "name": "stdout",
     "output_type": "stream",
     "text": [
      "Epoch 1/5\n",
      "\u001b[1m1875/1875\u001b[0m \u001b[32m━━━━━━━━━━━━━━━━━━━━\u001b[0m\u001b[37m\u001b[0m \u001b[1m3s\u001b[0m 1ms/step - accuracy: 0.8728 - loss: 0.4413 - val_accuracy: 0.9572 - val_loss: 0.1418\n",
      "Epoch 2/5\n",
      "\u001b[1m1875/1875\u001b[0m \u001b[32m━━━━━━━━━━━━━━━━━━━━\u001b[0m\u001b[37m\u001b[0m \u001b[1m3s\u001b[0m 1ms/step - accuracy: 0.9645 - loss: 0.1197 - val_accuracy: 0.9674 - val_loss: 0.1060\n",
      "Epoch 3/5\n",
      "\u001b[1m1875/1875\u001b[0m \u001b[32m━━━━━━━━━━━━━━━━━━━━\u001b[0m\u001b[37m\u001b[0m \u001b[1m3s\u001b[0m 2ms/step - accuracy: 0.9765 - loss: 0.0764 - val_accuracy: 0.9695 - val_loss: 0.1012\n",
      "Epoch 4/5\n",
      "\u001b[1m1875/1875\u001b[0m \u001b[32m━━━━━━━━━━━━━━━━━━━━\u001b[0m\u001b[37m\u001b[0m \u001b[1m2s\u001b[0m 1ms/step - accuracy: 0.9828 - loss: 0.0585 - val_accuracy: 0.9731 - val_loss: 0.0846\n",
      "Epoch 5/5\n",
      "\u001b[1m1875/1875\u001b[0m \u001b[32m━━━━━━━━━━━━━━━━━━━━\u001b[0m\u001b[37m\u001b[0m \u001b[1m2s\u001b[0m 1ms/step - accuracy: 0.9861 - loss: 0.0447 - val_accuracy: 0.9764 - val_loss: 0.0814\n",
      "\u001b[1m313/313\u001b[0m \u001b[32m━━━━━━━━━━━━━━━━━━━━\u001b[0m\u001b[37m\u001b[0m \u001b[1m0s\u001b[0m 462us/step\n"
     ]
    },
    {
     "data": {
      "image/png": "[encoded data removed]",
      "text/plain": [
       "<Figure size 800x800 with 9 Axes>"
      ]
     },
     "metadata": {},
     "output_type": "display_data"
    }
   ],
   "source": [
    "# Exercise 6\n",
    "\n",
    "import tensorflow as tf\n",
    "import matplotlib.pyplot as plt\n",
    "import numpy as np\n",
    "\n",
    "# 1. Charger le dataset MNIST\n",
    "from tensorflow.keras.datasets import mnist\n",
    "(x_train, y_train), (x_test, y_test) = mnist.load_data()\n",
    "\n",
    "# 2. Normaliser les données (mettre les pixels entre 0 et 1)\n",
    "x_train, x_test = x_train / 255.0, x_test / 255.0\n",
    "\n",
    "# 3. Encodage one-hot des labels\n",
    "y_train_cat = tf.keras.utils.to_categorical(y_train, 10)\n",
    "y_test_cat = tf.keras.utils.to_categorical(y_test, 10)\n",
    "\n",
    "# 4. Construire le modèle\n",
    "model = tf.keras.Sequential([\n",
    "    tf.keras.layers.Flatten(input_shape=(28, 28)),  # Couche d'entrée aplatie\n",
    "    tf.keras.layers.Dense(128, activation='relu'),  # Couche cachée avec 128 neurones et ReLU\n",
    "    tf.keras.layers.Dense(10, activation='softmax') # Couche de sortie avec 10 classes et softmax\n",
    "])\n",
    "\n",
    "# 5. Compiler le modèle\n",
    "model.compile(optimizer='adam',\n",
    "              loss='categorical_crossentropy',\n",
    "              metrics=['accuracy'])\n",
    "\n",
    "# 6. Entraîner le modèle\n",
    "model.fit(x_train, y_train_cat, epochs=5, validation_data=(x_test, y_test_cat))\n",
    "\n",
    "# 7. Faire des prédictions\n",
    "y_pred = model.predict(x_test)\n",
    "y_pred_classes = np.argmax(y_pred, axis=1)  # Obtenir les classes prédites\n",
    "\n",
    "# 8. Visualiser quelques prédictions\n",
    "fig, axes = plt.subplots(3, 3, figsize=(8, 8))\n",
    "axes = axes.ravel()\n",
    "\n",
    "for i in range(9):\n",
    "    axes[i].imshow(x_test[i], cmap='gray')\n",
    "    axes[i].set_title(f\"Pred: {y_pred_classes[i]}\")\n",
    "    axes[i].axis('off')\n",
    "\n",
    "plt.show()"
   ]
  }
 ],
 "metadata": {
  "kernelspec": {
   "display_name": "base",
   "language": "python",
   "name": "python3"
  },
  "language_info": {
   "codemirror_mode": {
    "name": "ipython",
    "version": 3
   },
   "file_extension": ".py",
   "mimetype": "text/x-python",
   "name": "python",
   "nbconvert_exporter": "python",
   "pygments_lexer": "ipython3",
   "version": "3.11.7"
  }
 },
 "nbformat": 4,
 "nbformat_minor": 2
}
