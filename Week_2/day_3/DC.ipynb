{
 "cells": [
  {
   "cell_type": "code",
   "execution_count": 2,
   "metadata": {},
   "outputs": [
    {
     "data": {
      "text/html": [
       "<div>\n",
       "<style scoped>\n",
       "    .dataframe tbody tr th:only-of-type {\n",
       "        vertical-align: middle;\n",
       "    }\n",
       "\n",
       "    .dataframe tbody tr th {\n",
       "        vertical-align: top;\n",
       "    }\n",
       "\n",
       "    .dataframe thead th {\n",
       "        text-align: right;\n",
       "    }\n",
       "</style>\n",
       "<table border=\"1\" class=\"dataframe\">\n",
       "  <thead>\n",
       "    <tr style=\"text-align: right;\">\n",
       "      <th></th>\n",
       "      <th>Unnamed: 0</th>\n",
       "      <th>job_title</th>\n",
       "      <th>job_type</th>\n",
       "      <th>experience_level</th>\n",
       "      <th>location</th>\n",
       "      <th>salary_currency</th>\n",
       "      <th>salary</th>\n",
       "    </tr>\n",
       "  </thead>\n",
       "  <tbody>\n",
       "    <tr>\n",
       "      <th>0</th>\n",
       "      <td>0</td>\n",
       "      <td>Data scientist</td>\n",
       "      <td>Full Time</td>\n",
       "      <td>Senior</td>\n",
       "      <td>New York City</td>\n",
       "      <td>USD</td>\n",
       "      <td>149000</td>\n",
       "    </tr>\n",
       "    <tr>\n",
       "      <th>1</th>\n",
       "      <td>2</td>\n",
       "      <td>Data scientist</td>\n",
       "      <td>Full Time</td>\n",
       "      <td>Senior</td>\n",
       "      <td>Boston</td>\n",
       "      <td>USD</td>\n",
       "      <td>120000</td>\n",
       "    </tr>\n",
       "    <tr>\n",
       "      <th>2</th>\n",
       "      <td>3</td>\n",
       "      <td>Data scientist</td>\n",
       "      <td>Full Time</td>\n",
       "      <td>Senior</td>\n",
       "      <td>London</td>\n",
       "      <td>USD</td>\n",
       "      <td>68000</td>\n",
       "    </tr>\n",
       "    <tr>\n",
       "      <th>3</th>\n",
       "      <td>4</td>\n",
       "      <td>Data scientist</td>\n",
       "      <td>Full Time</td>\n",
       "      <td>Senior</td>\n",
       "      <td>Boston</td>\n",
       "      <td>USD</td>\n",
       "      <td>120000</td>\n",
       "    </tr>\n",
       "    <tr>\n",
       "      <th>4</th>\n",
       "      <td>5</td>\n",
       "      <td>Data scientist</td>\n",
       "      <td>Full Time</td>\n",
       "      <td>Senior</td>\n",
       "      <td>New York City</td>\n",
       "      <td>USD</td>\n",
       "      <td>149000</td>\n",
       "    </tr>\n",
       "  </tbody>\n",
       "</table>\n",
       "</div>"
      ],
      "text/plain": [
       "   Unnamed: 0       job_title   job_type experience_level       location  \\\n",
       "0           0  Data scientist  Full Time           Senior  New York City   \n",
       "1           2  Data scientist  Full Time           Senior         Boston   \n",
       "2           3  Data scientist  Full Time           Senior         London   \n",
       "3           4  Data scientist  Full Time           Senior         Boston   \n",
       "4           5  Data scientist  Full Time           Senior  New York City   \n",
       "\n",
       "  salary_currency  salary  \n",
       "0             USD  149000  \n",
       "1             USD  120000  \n",
       "2             USD   68000  \n",
       "3             USD  120000  \n",
       "4             USD  149000  "
      ]
     },
     "execution_count": 2,
     "metadata": {},
     "output_type": "execute_result"
    }
   ],
   "source": [
    "import pandas as pd \n",
    "\n",
    "job_salary = pd.read_csv('/Users/patash/PSTB/Week_2/day_3/DS_Job_Salary/datascience_salaries.csv')\n",
    "job_salary.head()"
   ]
  },
  {
   "cell_type": "code",
   "execution_count": null,
   "metadata": {},
   "outputs": [
    {
     "name": "stdout",
     "output_type": "stream",
     "text": [
      "<class 'pandas.core.frame.DataFrame'>\n",
      "RangeIndex: 1171 entries, 0 to 1170\n",
      "Data columns (total 7 columns):\n",
      " #   Column            Non-Null Count  Dtype \n",
      "---  ------            --------------  ----- \n",
      " 0   Unnamed: 0        1171 non-null   int64 \n",
      " 1   job_title         1171 non-null   object\n",
      " 2   job_type          1171 non-null   object\n",
      " 3   experience_level  1171 non-null   object\n",
      " 4   location          1171 non-null   object\n",
      " 5   salary_currency   1171 non-null   object\n",
      " 6   salary            1171 non-null   int64 \n",
      "dtypes: int64(2), object(5)\n",
      "memory usage: 64.2+ KB\n"
     ]
    }
   ],
   "source": [
    "# Valeurs manquantes\n",
    "job_salary.info()"
   ]
  },
  {
   "cell_type": "code",
   "execution_count": null,
   "metadata": {},
   "outputs": [
    {
     "name": "stdout",
     "output_type": "stream",
     "text": [
      "Doublons: 0\n"
     ]
    }
   ],
   "source": [
    "# Doublons\n",
    "duplicates = job_salary.duplicated()\n",
    "print(f\"Doublons: {duplicates.sum()}\")"
   ]
  },
  {
   "cell_type": "code",
   "execution_count": 7,
   "metadata": {},
   "outputs": [
    {
     "data": {
      "text/html": [
       "<div>\n",
       "<style scoped>\n",
       "    .dataframe tbody tr th:only-of-type {\n",
       "        vertical-align: middle;\n",
       "    }\n",
       "\n",
       "    .dataframe tbody tr th {\n",
       "        vertical-align: top;\n",
       "    }\n",
       "\n",
       "    .dataframe thead th {\n",
       "        text-align: right;\n",
       "    }\n",
       "</style>\n",
       "<table border=\"1\" class=\"dataframe\">\n",
       "  <thead>\n",
       "    <tr style=\"text-align: right;\">\n",
       "      <th></th>\n",
       "      <th>Unnamed: 0</th>\n",
       "      <th>job_title</th>\n",
       "      <th>job_type</th>\n",
       "      <th>experience_level</th>\n",
       "      <th>location</th>\n",
       "      <th>salary_currency</th>\n",
       "      <th>salary</th>\n",
       "      <th>salary_normalized</th>\n",
       "    </tr>\n",
       "  </thead>\n",
       "  <tbody>\n",
       "    <tr>\n",
       "      <th>0</th>\n",
       "      <td>0</td>\n",
       "      <td>Data scientist</td>\n",
       "      <td>Full Time</td>\n",
       "      <td>Senior</td>\n",
       "      <td>New York City</td>\n",
       "      <td>USD</td>\n",
       "      <td>149000</td>\n",
       "      <td>0.601010</td>\n",
       "    </tr>\n",
       "    <tr>\n",
       "      <th>1</th>\n",
       "      <td>2</td>\n",
       "      <td>Data scientist</td>\n",
       "      <td>Full Time</td>\n",
       "      <td>Senior</td>\n",
       "      <td>Boston</td>\n",
       "      <td>USD</td>\n",
       "      <td>120000</td>\n",
       "      <td>0.454545</td>\n",
       "    </tr>\n",
       "    <tr>\n",
       "      <th>2</th>\n",
       "      <td>3</td>\n",
       "      <td>Data scientist</td>\n",
       "      <td>Full Time</td>\n",
       "      <td>Senior</td>\n",
       "      <td>London</td>\n",
       "      <td>USD</td>\n",
       "      <td>68000</td>\n",
       "      <td>0.191919</td>\n",
       "    </tr>\n",
       "    <tr>\n",
       "      <th>3</th>\n",
       "      <td>4</td>\n",
       "      <td>Data scientist</td>\n",
       "      <td>Full Time</td>\n",
       "      <td>Senior</td>\n",
       "      <td>Boston</td>\n",
       "      <td>USD</td>\n",
       "      <td>120000</td>\n",
       "      <td>0.454545</td>\n",
       "    </tr>\n",
       "    <tr>\n",
       "      <th>4</th>\n",
       "      <td>5</td>\n",
       "      <td>Data scientist</td>\n",
       "      <td>Full Time</td>\n",
       "      <td>Senior</td>\n",
       "      <td>New York City</td>\n",
       "      <td>USD</td>\n",
       "      <td>149000</td>\n",
       "      <td>0.601010</td>\n",
       "    </tr>\n",
       "  </tbody>\n",
       "</table>\n",
       "</div>"
      ],
      "text/plain": [
       "   Unnamed: 0       job_title   job_type experience_level       location  \\\n",
       "0           0  Data scientist  Full Time           Senior  New York City   \n",
       "1           2  Data scientist  Full Time           Senior         Boston   \n",
       "2           3  Data scientist  Full Time           Senior         London   \n",
       "3           4  Data scientist  Full Time           Senior         Boston   \n",
       "4           5  Data scientist  Full Time           Senior  New York City   \n",
       "\n",
       "  salary_currency  salary  salary_normalized  \n",
       "0             USD  149000           0.601010  \n",
       "1             USD  120000           0.454545  \n",
       "2             USD   68000           0.191919  \n",
       "3             USD  120000           0.454545  \n",
       "4             USD  149000           0.601010  "
      ]
     },
     "execution_count": 7,
     "metadata": {},
     "output_type": "execute_result"
    }
   ],
   "source": [
    "# Salary_normalized\n",
    "from sklearn.preprocessing import MinMaxScaler\n",
    "scaler = MinMaxScaler()\n",
    "\n",
    "job_salary['salary_normalized'] = scaler.fit_transform(job_salary[['salary']])\n",
    "job_salary.head()"
   ]
  },
  {
   "cell_type": "code",
   "execution_count": 8,
   "metadata": {},
   "outputs": [
    {
     "name": "stdout",
     "output_type": "stream",
     "text": [
      "                          mean   median\n",
      "experience_level                       \n",
      "Entry             36111.111111  30000.0\n",
      "Executive         76076.923077  46000.0\n",
      "Mid               51786.885246  51000.0\n",
      "Senior            75088.033012  68000.0\n"
     ]
    }
   ],
   "source": [
    "salary_summary = job_salary.groupby('experience_level')['salary'].agg(['mean', 'median'])\n",
    "print(salary_summary)\n"
   ]
  },
  {
   "cell_type": "code",
   "execution_count": 9,
   "metadata": {},
   "outputs": [
    {
     "data": {
      "image/png": "[encoded data removed]",
      "text/plain": [
       "<Figure size 1000x600 with 1 Axes>"
      ]
     },
     "metadata": {},
     "output_type": "display_data"
    }
   ],
   "source": [
    "import seaborn as sns\n",
    "import matplotlib.pyplot as plt\n",
    "\n",
    "plt.figure(figsize=(10, 6))\n",
    "sns.boxplot(x='experience_level', y='salary', data=job_salary)\n",
    "\n",
    "plt.title(\"Répartition des salaires par niveau d'expérience\")\n",
    "plt.xlabel(\"Niveau d'expérience\")\n",
    "plt.ylabel(\"Salaire\")\n",
    "\n",
    "plt.show()"
   ]
  }
 ],
 "metadata": {
  "kernelspec": {
   "display_name": "base",
   "language": "python",
   "name": "python3"
  },
  "language_info": {
   "codemirror_mode": {
    "name": "ipython",
    "version": 3
   },
   "file_extension": ".py",
   "mimetype": "text/x-python",
   "name": "python",
   "nbconvert_exporter": "python",
   "pygments_lexer": "ipython3",
   "version": "3.11.7"
  }
 },
 "nbformat": 4,
 "nbformat_minor": 2
}
