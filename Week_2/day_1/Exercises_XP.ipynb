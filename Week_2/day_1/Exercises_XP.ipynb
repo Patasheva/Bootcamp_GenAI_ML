{
 "cells": [
  {
   "cell_type": "markdown",
   "metadata": {},
   "source": [
    "# Exercise 1\n",
    "L'analyse des données est le processus d'exploration, de nettoyage, de transformation et d'interprétation des données afin d'en extraire des informations utiles, identifier des tendances et faciliter la prise de décision. Elle repose sur des techniques statistiques, des visualisations et des algorithmes pour comprendre et exploiter les données efficacement. \n",
    "Commerce, Finance, Santé. \n",
    "La tendance actuelle est de suivre les KPI via des tableaux de bord afin d’optimiser les résultats.\n",
    "\n"
   ]
  },
  {
   "cell_type": "code",
   "execution_count": 26,
   "metadata": {},
   "outputs": [
    {
     "name": "stdout",
     "output_type": "stream",
     "text": [
      "Dataset URL: https://www.kaggle.com/datasets/thedevastator/how-much-sleep-do-americans-really-get\n"
     ]
    }
   ],
   "source": [
    "# Exercise 2 \n",
    "# How Much Sleep Do Americans Really Get?\n",
    "import pandas as pd\n",
    "import kaggle \n",
    "import os\n",
    "\n",
    "dataset = \"thedevastator/how-much-sleep-do-americans-really-get\"\n",
    "kaggle.api.dataset_download_files(dataset, path=\"data/\", unzip=True)\n"
   ]
  },
  {
   "cell_type": "code",
   "execution_count": 28,
   "metadata": {},
   "outputs": [
    {
     "name": "stdout",
     "output_type": "stream",
     "text": [
      "['Mental_health_Depression_disorder_Data.csv', 'Time_Americans_Spend_Sleeping.csv']\n"
     ]
    }
   ],
   "source": [
    "print(os.listdir('data'))"
   ]
  },
  {
   "cell_type": "code",
   "execution_count": 29,
   "metadata": {},
   "outputs": [
    {
     "name": "stdout",
     "output_type": "stream",
     "text": [
      "   index  Year  Period  Avg hrs per day sleeping  Standard Error Type of Days  \\\n",
      "0      0  2003  Annual                      8.57           0.018     All days   \n",
      "1      1  2004  Annual                      8.55           0.026     All days   \n",
      "2      2  2005  Annual                      8.62           0.023     All days   \n",
      "3      3  2006  Annual                      8.63           0.024     All days   \n",
      "4      4  2007  Annual                      8.57           0.024     All days   \n",
      "\n",
      "           Age Group  Activity   Sex  \n",
      "0  15 years and over  Sleeping  Both  \n",
      "1  15 years and over  Sleeping  Both  \n",
      "2  15 years and over  Sleeping  Both  \n",
      "3  15 years and over  Sleeping  Both  \n",
      "4  15 years and over  Sleeping  Both  \n"
     ]
    }
   ],
   "source": [
    "df_train_1 = pd.read_csv('/Users/patash/PSTB/Week_2/day_1/data/Time_Americans_Spend_Sleeping.csv')\n",
    "print(df_train_1.head())"
   ]
  },
  {
   "cell_type": "code",
   "execution_count": 30,
   "metadata": {},
   "outputs": [
    {
     "name": "stdout",
     "output_type": "stream",
     "text": [
      "<class 'pandas.core.frame.DataFrame'>\n",
      "RangeIndex: 945 entries, 0 to 944\n",
      "Data columns (total 9 columns):\n",
      " #   Column                    Non-Null Count  Dtype  \n",
      "---  ------                    --------------  -----  \n",
      " 0   index                     945 non-null    int64  \n",
      " 1   Year                      945 non-null    int64  \n",
      " 2   Period                    945 non-null    object \n",
      " 3   Avg hrs per day sleeping  945 non-null    float64\n",
      " 4   Standard Error            945 non-null    float64\n",
      " 5   Type of Days              945 non-null    object \n",
      " 6   Age Group                 945 non-null    object \n",
      " 7   Activity                  945 non-null    object \n",
      " 8   Sex                       945 non-null    object \n",
      "dtypes: float64(2), int64(2), object(5)\n",
      "memory usage: 66.6+ KB\n"
     ]
    }
   ],
   "source": [
    "df_train_1.info()"
   ]
  },
  {
   "cell_type": "code",
   "execution_count": 23,
   "metadata": {},
   "outputs": [
    {
     "name": "stdout",
     "output_type": "stream",
     "text": [
      "Dataset URL: https://www.kaggle.com/datasets/thedevastator/uncover-global-trends-in-mental-health-disorder\n"
     ]
    }
   ],
   "source": [
    "# Global Trends in Mental Health Disorder\n",
    "dataset = \"thedevastator/uncover-global-trends-in-mental-health-disorder\"\n",
    "kaggle.api.dataset_download_files(dataset, path=\"data/\", unzip=True)\n"
   ]
  },
  {
   "cell_type": "code",
   "execution_count": 31,
   "metadata": {},
   "outputs": [
    {
     "name": "stdout",
     "output_type": "stream",
     "text": [
      "['Mental_health_Depression_disorder_Data.csv', 'Time_Americans_Spend_Sleeping.csv']\n"
     ]
    }
   ],
   "source": [
    "print(os.listdir('data'))"
   ]
  },
  {
   "cell_type": "code",
   "execution_count": 33,
   "metadata": {},
   "outputs": [
    {
     "name": "stdout",
     "output_type": "stream",
     "text": [
      "   index       Entity Code  Year Schizophrenia (%) Bipolar disorder (%)  \\\n",
      "0      0  Afghanistan  AFG  1990           0.16056             0.697779   \n",
      "1      1  Afghanistan  AFG  1991          0.160312             0.697961   \n",
      "2      2  Afghanistan  AFG  1992          0.160135             0.698107   \n",
      "3      3  Afghanistan  AFG  1993          0.160037             0.698257   \n",
      "4      4  Afghanistan  AFG  1994          0.160022             0.698469   \n",
      "\n",
      "  Eating disorders (%)  Anxiety disorders (%)  Drug use disorders (%)  \\\n",
      "0             0.101855               4.828830                1.677082   \n",
      "1             0.099313               4.829740                1.684746   \n",
      "2             0.096692               4.831108                1.694334   \n",
      "3             0.094336               4.830864                1.705320   \n",
      "4             0.092439               4.829423                1.716069   \n",
      "\n",
      "   Depression (%)  Alcohol use disorders (%)  \n",
      "0        4.071831                   0.672404  \n",
      "1        4.079531                   0.671768  \n",
      "2        4.088358                   0.670644  \n",
      "3        4.096190                   0.669738  \n",
      "4        4.099582                   0.669260  \n"
     ]
    },
    {
     "name": "stderr",
     "output_type": "stream",
     "text": [
      "/var/folders/0x/ld7nmr854gg9f09bct0w9drh0000gn/T/ipykernel_37324/446740150.py:1: DtypeWarning: Columns (5,6) have mixed types. Specify dtype option on import or set low_memory=False.\n",
      "  df_train_2 = pd.read_csv('/Users/patash/PSTB/Week_2/day_1/data/Mental_health_Depression_disorder_Data.csv')\n"
     ]
    }
   ],
   "source": [
    "df_train_2 = pd.read_csv('/Users/patash/PSTB/Week_2/day_1/data/Mental_health_Depression_disorder_Data.csv')\n",
    "print(df_train_2.head())"
   ]
  },
  {
   "cell_type": "code",
   "execution_count": 34,
   "metadata": {},
   "outputs": [
    {
     "name": "stdout",
     "output_type": "stream",
     "text": [
      "<class 'pandas.core.frame.DataFrame'>\n",
      "RangeIndex: 108553 entries, 0 to 108552\n",
      "Data columns (total 11 columns):\n",
      " #   Column                     Non-Null Count   Dtype  \n",
      "---  ------                     --------------   -----  \n",
      " 0   index                      108553 non-null  int64  \n",
      " 1   Entity                     108553 non-null  object \n",
      " 2   Code                       103141 non-null  object \n",
      " 3   Year                       108553 non-null  object \n",
      " 4   Schizophrenia (%)          25875 non-null   object \n",
      " 5   Bipolar disorder (%)       19406 non-null   object \n",
      " 6   Eating disorders (%)       100236 non-null  object \n",
      " 7   Anxiety disorders (%)      6468 non-null    float64\n",
      " 8   Drug use disorders (%)     6468 non-null    float64\n",
      " 9   Depression (%)             6468 non-null    float64\n",
      " 10  Alcohol use disorders (%)  6468 non-null    float64\n",
      "dtypes: float64(4), int64(1), object(6)\n",
      "memory usage: 9.1+ MB\n"
     ]
    }
   ],
   "source": [
    "df_train_2.info()"
   ]
  },
  {
   "cell_type": "code",
   "execution_count": 36,
   "metadata": {},
   "outputs": [
    {
     "name": "stdout",
     "output_type": "stream",
     "text": [
      "   Id  SepalLengthCm  SepalWidthCm  PetalLengthCm  PetalWidthCm      Species\n",
      "0   1            5.1           3.5            1.4           0.2  Iris-setosa\n",
      "1   2            4.9           3.0            1.4           0.2  Iris-setosa\n",
      "2   3            4.7           3.2            1.3           0.2  Iris-setosa\n",
      "3   4            4.6           3.1            1.5           0.2  Iris-setosa\n",
      "4   5            5.0           3.6            1.4           0.2  Iris-setosa\n"
     ]
    }
   ],
   "source": [
    "# Exercise 4\n",
    "df_train_3 = pd.read_csv('/Users/patash/PSTB/Week_2/day_1/data/Iris.csv')\n",
    "print(df_train_3.head())"
   ]
  },
  {
   "cell_type": "code",
   "execution_count": 37,
   "metadata": {},
   "outputs": [
    {
     "name": "stdout",
     "output_type": "stream",
     "text": [
      "<class 'pandas.core.frame.DataFrame'>\n",
      "RangeIndex: 150 entries, 0 to 149\n",
      "Data columns (total 6 columns):\n",
      " #   Column         Non-Null Count  Dtype  \n",
      "---  ------         --------------  -----  \n",
      " 0   Id             150 non-null    int64  \n",
      " 1   SepalLengthCm  150 non-null    float64\n",
      " 2   SepalWidthCm   150 non-null    float64\n",
      " 3   PetalLengthCm  150 non-null    float64\n",
      " 4   PetalWidthCm   150 non-null    float64\n",
      " 5   Species        150 non-null    object \n",
      "dtypes: float64(4), int64(1), object(1)\n",
      "memory usage: 7.2+ KB\n"
     ]
    }
   ],
   "source": [
    "df_train_3.info()"
   ]
  },
  {
   "cell_type": "markdown",
   "metadata": {},
   "source": [
    "Explore the Dataset:\n",
    "Sort the DataFrame based on the Price or Copies Sold.\n",
    "Filter the books by a specific Genre or books with Price above a certain threshold.\n",
    "Group the books by Author and sum up the Copies Sold."
   ]
  }
 ],
 "metadata": {
  "kernelspec": {
   "display_name": "base",
   "language": "python",
   "name": "python3"
  },
  "language_info": {
   "codemirror_mode": {
    "name": "ipython",
    "version": 3
   },
   "file_extension": ".py",
   "mimetype": "text/x-python",
   "name": "python",
   "nbconvert_exporter": "python",
   "pygments_lexer": "ipython3",
   "version": "3.11.7"
  }
 },
 "nbformat": 4,
 "nbformat_minor": 2
}
