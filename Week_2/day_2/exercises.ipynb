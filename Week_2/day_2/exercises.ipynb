{
 "cells": [
  {
   "cell_type": "code",
   "execution_count": null,
   "metadata": {},
   "outputs": [
    {
     "name": "stdout",
     "output_type": "stream",
     "text": [
      "  Last name      \"First name\"                 \"SSN\"         \"Test1\"   \"Test2\"  \\\n",
      "0   Alfalfa        \"Aloysius\"         \"123-45-6789\"            40.0      90.0   \n",
      "1    Alfred      \"University\"         \"123-12-1234\"            41.0      97.0   \n",
      "2     Gerty          \"Gramma\"         \"567-89-0123\"            41.0      80.0   \n",
      "3   Android        \"Electric\"         \"087-65-4321\"            42.0      23.0   \n",
      "4   Bumpkin            \"Fred\"         \"456-78-9012\"            43.0      78.0   \n",
      "\n",
      "    \"Test3\"   \"Test4\"   \"Final\"  \"Grade\"  \n",
      "0     100.0      83.0      49.0     \"D-\"  \n",
      "1      96.0      97.0      48.0     \"D+\"  \n",
      "2      60.0      40.0      44.0      \"C\"  \n",
      "3      36.0      45.0      47.0     \"B-\"  \n",
      "4      88.0      77.0      45.0     \"A-\"  \n"
     ]
    }
   ],
   "source": [
    "import pandas as pd \n",
    "# Importer les fichiers\n",
    "grades = pd.read_csv('/Users/patash/PSTB/Week_2/day_2/data/grades.csv')\n",
    "print(grades.head())"
   ]
  },
  {
   "cell_type": "code",
   "execution_count": null,
   "metadata": {},
   "outputs": [],
   "source": [
    "# Exporter le fichier to csv\n",
    "#grades.to_csv('grades_export.csv', index=False)\n",
    "\n",
    "# Exporter le fichier to json\n",
    "grades.to_json('grades_export.json', index=False)\n",
    "\n",
    "# Exporter le fichier to xlsx\n",
    "#grades.to_xlsx('grades_export.xlsx', index=False)\n",
    "\n",
    "\n"
   ]
  },
  {
   "cell_type": "code",
   "execution_count": null,
   "metadata": {},
   "outputs": [
    {
     "name": "stdout",
     "output_type": "stream",
     "text": [
      "Requirement already satisfied: faker in /opt/anaconda3/lib/python3.11/site-packages (36.1.1)\n",
      "Requirement already satisfied: tzdata in /opt/anaconda3/lib/python3.11/site-packages (from faker) (2023.3)\n",
      "     Product  Sale Amount        Date  Customer Age\n",
      "0          a          224  2025-01-10            58\n",
      "1   security          109  2025-02-01            22\n",
      "2  authority          374  2025-01-19            22\n",
      "3   evidence          383  2025-01-26            38\n",
      "4      which          101  2025-01-26            19\n"
     ]
    }
   ],
   "source": [
    "# Générer les données\n",
    "# Retail store\n",
    "!pip install faker\n",
    "import numpy as np\n",
    "from faker import Faker\n",
    "import pandas as pd\n",
    "\n",
    "fake = Faker()\n",
    "\n",
    "# Generating synthetic sales data\n",
    "sales_data = [(fake.word(), np.random.randint(10, 500), fake.date_this_year(), np.random.randint(18, 70)) for _ in range(500)]\n",
    "sales_df = pd.DataFrame(sales_data, columns=['Product', 'Sale Amount', 'Date', 'Customer Age'])\n",
    "\n",
    "\n",
    "\n",
    "\n",
    "# Display the first few rows of the DataFrame\n",
    "print(sales_df.head())\n"
   ]
  },
  {
   "cell_type": "code",
   "execution_count": 10,
   "metadata": {},
   "outputs": [
    {
     "name": "stdout",
     "output_type": "stream",
     "text": [
      "<class 'pandas.core.frame.DataFrame'>\n",
      "RangeIndex: 500 entries, 0 to 499\n",
      "Data columns (total 4 columns):\n",
      " #   Column        Non-Null Count  Dtype \n",
      "---  ------        --------------  ----- \n",
      " 0   Product       500 non-null    object\n",
      " 1   Sale Amount   500 non-null    int64 \n",
      " 2   Date          500 non-null    object\n",
      " 3   Customer Age  500 non-null    int64 \n",
      "dtypes: int64(2), object(2)\n",
      "memory usage: 15.8+ KB\n"
     ]
    }
   ],
   "source": [
    "sales_df.info()"
   ]
  }
 ],
 "metadata": {
  "kernelspec": {
   "display_name": "base",
   "language": "python",
   "name": "python3"
  },
  "language_info": {
   "codemirror_mode": {
    "name": "ipython",
    "version": 3
   },
   "file_extension": ".py",
   "mimetype": "text/x-python",
   "name": "python",
   "nbconvert_exporter": "python",
   "pygments_lexer": "ipython3",
   "version": "3.11.7"
  }
 },
 "nbformat": 4,
 "nbformat_minor": 2
}
